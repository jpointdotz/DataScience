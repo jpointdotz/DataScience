{
 "cells": [
  {
   "cell_type": "markdown",
   "id": "4570de10",
   "metadata": {},
   "source": [
    "Data contains details of various drugs (used for conditions like Acne, Cancer, Heart Disease, etc. ) and their side effects\n",
    "\n",
    "Drugs detail URLs were collected from following dataset\n",
    "\n",
    "Major Column Descriptors:\n",
    "\n",
    "generic_name:\n",
    "The chemical name of the drug (not brand name)\n",
    "drug_classes:\n",
    "The drug belongs to which drug class, i.e a drug class is a set of medications and other compounds that have a similar chemical structure, the same mechanism of action (i.e. binding to the same biological target), a related mode of action, and/or are used to treat the same disease.\n",
    "brand_names:\n",
    "brand names in which the drugs are being sold or available in the market.\n",
    "activity:\n",
    "Activity is based on recent site visitor activity relative to other medications in the list. Data was gathered from https://www.drugs.com\n",
    "rx_otc:\n",
    "Rx-to-OTC switch is the transfer of proven prescription drugs to nonprescription, where\n",
    "OTC (Over-the-counter) = Medication that can be purchased without a medical prescription\n",
    "Rx = Prescription Needed\n",
    "Rx/OTC = Prescription or Over-the-counter.\n",
    "\n",
    "pregnancy_category:\n",
    "A = Adequate and well-controlled studies have failed to demonstrate a risk to the fetus in the first trimester of pregnancy (and there is no evidence of risk in later trimesters).\n",
    "B = Animal reproduction studies have failed to demonstrate a risk to the fetus and there are no adequate and well-controlled studies in pregnant women.\n",
    "C = Animal reproduction studies have shown an adverse effect on the fetus and there are no adequate and well-controlled studies in humans, but potential benefits may warrant use in pregnant women despite potential risks.\n",
    "D = There is positive evidence of human fetal risk based on adverse reaction data from investigational or marketing experience or studies in humans, but potential benefits may warrant use in pregnant women despite potential risks.\n",
    "X = Studies in animals or humans have demonstrated fetal abnormalities and/or there is positive evidence of human fetal risk based on adverse reaction data from investigational or marketing experience, and the risks involved in use in pregnant women clearly outweigh potential benefits.\n",
    "N = FDA has not classified the drug.\n",
    "\n",
    "csa:\n",
    "\n",
    "Controlled Substances Act (CSA) Schedule\n",
    "M = The drug has multiple schedules. The schedule may depend on the exact dosage form or strength of the medication.\n",
    "U = CSA Schedule is unknown.\n",
    "N = Is not subject to the Controlled Substances Act.\n",
    "1 = Has a high potential for abuse. Has no currently accepted medical use in treatment in the United States. There is a lack of accepted safety for use under medical supervision.\n",
    "2 = Has a high potential for abuse. Has a currently accepted medical use in treatment in the United States or a currently accepted medical use with severe restrictions. Abuse may lead to severe psychological or physical dependence.\n",
    "3 = Has a potential for abuse less than those in schedules 1 and 2. Has a currently accepted medical use in treatment in the United States. Abuse may lead to moderate or low physical dependence or high psychological dependence.\n",
    "4 = Has a low potential for abuse relative to those in schedule 3. It has a currently accepted medical use in treatment in the United States. Abuse may lead to limited physical dependence or psychological dependence relative to those in schedule 3.\n",
    "5 = Has a low potential for abuse relative to those in schedule 4. Has a currently accepted medical use in treatment in the United States. Abuse may lead to limited physical dependence or psychological dependence relative to those in schedule 4.\n",
    "\n",
    "alcohol:\n",
    "X = Interacts with Alcohol.\n",
    "\n",
    "rating:\n",
    "For ratings, users were asked how effective they found the medicine while considering positive/adverse effects and ease of use (1 = not effective, 10 = most effective).\n",
    "\n",
    "All other columns are self-explanatory.\n",
    "\n",
    "URL:\n",
    "https://www.kaggle.com/datasets/jithinanievarghese/drugs-side-effects-and-medical-condition?select=drugs_side_effects_drugs_com.csv"
   ]
  },
  {
   "cell_type": "markdown",
   "id": "91c1e68c",
   "metadata": {},
   "source": [
    "## Basic operations"
   ]
  },
  {
   "cell_type": "code",
   "execution_count": 1,
   "id": "9db81fd9",
   "metadata": {},
   "outputs": [],
   "source": [
    "import pandas as pd\n",
    "import numpy as np\n",
    "import matplotlib.pyplot as plt\n",
    "import os\n",
    "import seaborn as sns"
   ]
  },
  {
   "cell_type": "code",
   "execution_count": 2,
   "id": "190a8b39",
   "metadata": {},
   "outputs": [],
   "source": [
    "file = 'drugs_side_effects_drugs_com.csv'"
   ]
  },
  {
   "cell_type": "code",
   "execution_count": 3,
   "id": "ef55d987",
   "metadata": {},
   "outputs": [
    {
     "data": {
      "text/html": [
       "<div>\n",
       "<style scoped>\n",
       "    .dataframe tbody tr th:only-of-type {\n",
       "        vertical-align: middle;\n",
       "    }\n",
       "\n",
       "    .dataframe tbody tr th {\n",
       "        vertical-align: top;\n",
       "    }\n",
       "\n",
       "    .dataframe thead th {\n",
       "        text-align: right;\n",
       "    }\n",
       "</style>\n",
       "<table border=\"1\" class=\"dataframe\">\n",
       "  <thead>\n",
       "    <tr style=\"text-align: right;\">\n",
       "      <th></th>\n",
       "      <th>drug_name</th>\n",
       "      <th>medical_condition</th>\n",
       "      <th>side_effects</th>\n",
       "      <th>generic_name</th>\n",
       "      <th>drug_classes</th>\n",
       "      <th>brand_names</th>\n",
       "      <th>activity</th>\n",
       "      <th>rx_otc</th>\n",
       "      <th>pregnancy_category</th>\n",
       "      <th>csa</th>\n",
       "      <th>alcohol</th>\n",
       "      <th>related_drugs</th>\n",
       "      <th>medical_condition_description</th>\n",
       "      <th>rating</th>\n",
       "      <th>no_of_reviews</th>\n",
       "      <th>drug_link</th>\n",
       "      <th>medical_condition_url</th>\n",
       "    </tr>\n",
       "  </thead>\n",
       "  <tbody>\n",
       "    <tr>\n",
       "      <th>0</th>\n",
       "      <td>doxycycline</td>\n",
       "      <td>Acne</td>\n",
       "      <td>(hives, difficult breathing, swelling in your ...</td>\n",
       "      <td>doxycycline</td>\n",
       "      <td>Miscellaneous antimalarials, Tetracyclines</td>\n",
       "      <td>Acticlate, Adoxa CK, Adoxa Pak, Adoxa TT, Alod...</td>\n",
       "      <td>87%</td>\n",
       "      <td>Rx</td>\n",
       "      <td>D</td>\n",
       "      <td>N</td>\n",
       "      <td>X</td>\n",
       "      <td>amoxicillin: https://www.drugs.com/amoxicillin...</td>\n",
       "      <td>Acne Other names: Acne Vulgaris; Blackheads; B...</td>\n",
       "      <td>6.8</td>\n",
       "      <td>760.0</td>\n",
       "      <td>https://www.drugs.com/doxycycline.html</td>\n",
       "      <td>https://www.drugs.com/condition/acne.html</td>\n",
       "    </tr>\n",
       "    <tr>\n",
       "      <th>1</th>\n",
       "      <td>spironolactone</td>\n",
       "      <td>Acne</td>\n",
       "      <td>hives ; difficulty breathing; swelling of your...</td>\n",
       "      <td>spironolactone</td>\n",
       "      <td>Aldosterone receptor antagonists, Potassium-sp...</td>\n",
       "      <td>Aldactone, CaroSpir</td>\n",
       "      <td>82%</td>\n",
       "      <td>Rx</td>\n",
       "      <td>C</td>\n",
       "      <td>N</td>\n",
       "      <td>X</td>\n",
       "      <td>amlodipine: https://www.drugs.com/amlodipine.h...</td>\n",
       "      <td>Acne Other names: Acne Vulgaris; Blackheads; B...</td>\n",
       "      <td>7.2</td>\n",
       "      <td>449.0</td>\n",
       "      <td>https://www.drugs.com/spironolactone.html</td>\n",
       "      <td>https://www.drugs.com/condition/acne.html</td>\n",
       "    </tr>\n",
       "    <tr>\n",
       "      <th>2</th>\n",
       "      <td>minocycline</td>\n",
       "      <td>Acne</td>\n",
       "      <td>skin rash, fever, swollen glands, flu-like sym...</td>\n",
       "      <td>minocycline</td>\n",
       "      <td>Tetracyclines</td>\n",
       "      <td>Dynacin, Minocin, Minolira, Solodyn, Ximino, V...</td>\n",
       "      <td>48%</td>\n",
       "      <td>Rx</td>\n",
       "      <td>D</td>\n",
       "      <td>N</td>\n",
       "      <td>NaN</td>\n",
       "      <td>amoxicillin: https://www.drugs.com/amoxicillin...</td>\n",
       "      <td>Acne Other names: Acne Vulgaris; Blackheads; B...</td>\n",
       "      <td>5.7</td>\n",
       "      <td>482.0</td>\n",
       "      <td>https://www.drugs.com/minocycline.html</td>\n",
       "      <td>https://www.drugs.com/condition/acne.html</td>\n",
       "    </tr>\n",
       "    <tr>\n",
       "      <th>3</th>\n",
       "      <td>Accutane</td>\n",
       "      <td>Acne</td>\n",
       "      <td>problems with your vision or hearing; muscle o...</td>\n",
       "      <td>isotretinoin (oral)</td>\n",
       "      <td>Miscellaneous antineoplastics, Miscellaneous u...</td>\n",
       "      <td>NaN</td>\n",
       "      <td>41%</td>\n",
       "      <td>Rx</td>\n",
       "      <td>X</td>\n",
       "      <td>N</td>\n",
       "      <td>X</td>\n",
       "      <td>doxycycline: https://www.drugs.com/doxycycline...</td>\n",
       "      <td>Acne Other names: Acne Vulgaris; Blackheads; B...</td>\n",
       "      <td>7.9</td>\n",
       "      <td>623.0</td>\n",
       "      <td>https://www.drugs.com/accutane.html</td>\n",
       "      <td>https://www.drugs.com/condition/acne.html</td>\n",
       "    </tr>\n",
       "    <tr>\n",
       "      <th>4</th>\n",
       "      <td>clindamycin</td>\n",
       "      <td>Acne</td>\n",
       "      <td>hives ; difficult breathing; swelling of your ...</td>\n",
       "      <td>clindamycin topical</td>\n",
       "      <td>Topical acne agents, Vaginal anti-infectives</td>\n",
       "      <td>Cleocin T, Clindacin ETZ, Clindacin P, Clindag...</td>\n",
       "      <td>39%</td>\n",
       "      <td>Rx</td>\n",
       "      <td>B</td>\n",
       "      <td>N</td>\n",
       "      <td>NaN</td>\n",
       "      <td>doxycycline: https://www.drugs.com/doxycycline...</td>\n",
       "      <td>Acne Other names: Acne Vulgaris; Blackheads; B...</td>\n",
       "      <td>7.4</td>\n",
       "      <td>146.0</td>\n",
       "      <td>https://www.drugs.com/mtm/clindamycin-topical....</td>\n",
       "      <td>https://www.drugs.com/condition/acne.html</td>\n",
       "    </tr>\n",
       "  </tbody>\n",
       "</table>\n",
       "</div>"
      ],
      "text/plain": [
       "        drug_name medical_condition  \\\n",
       "0     doxycycline              Acne   \n",
       "1  spironolactone              Acne   \n",
       "2     minocycline              Acne   \n",
       "3        Accutane              Acne   \n",
       "4     clindamycin              Acne   \n",
       "\n",
       "                                        side_effects         generic_name  \\\n",
       "0  (hives, difficult breathing, swelling in your ...          doxycycline   \n",
       "1  hives ; difficulty breathing; swelling of your...       spironolactone   \n",
       "2  skin rash, fever, swollen glands, flu-like sym...          minocycline   \n",
       "3  problems with your vision or hearing; muscle o...  isotretinoin (oral)   \n",
       "4  hives ; difficult breathing; swelling of your ...  clindamycin topical   \n",
       "\n",
       "                                        drug_classes  \\\n",
       "0         Miscellaneous antimalarials, Tetracyclines   \n",
       "1  Aldosterone receptor antagonists, Potassium-sp...   \n",
       "2                                      Tetracyclines   \n",
       "3  Miscellaneous antineoplastics, Miscellaneous u...   \n",
       "4       Topical acne agents, Vaginal anti-infectives   \n",
       "\n",
       "                                         brand_names activity rx_otc  \\\n",
       "0  Acticlate, Adoxa CK, Adoxa Pak, Adoxa TT, Alod...      87%     Rx   \n",
       "1                                Aldactone, CaroSpir      82%     Rx   \n",
       "2  Dynacin, Minocin, Minolira, Solodyn, Ximino, V...      48%     Rx   \n",
       "3                                                NaN      41%     Rx   \n",
       "4  Cleocin T, Clindacin ETZ, Clindacin P, Clindag...      39%     Rx   \n",
       "\n",
       "  pregnancy_category csa alcohol  \\\n",
       "0                  D   N       X   \n",
       "1                  C   N       X   \n",
       "2                  D   N     NaN   \n",
       "3                  X   N       X   \n",
       "4                  B   N     NaN   \n",
       "\n",
       "                                       related_drugs  \\\n",
       "0  amoxicillin: https://www.drugs.com/amoxicillin...   \n",
       "1  amlodipine: https://www.drugs.com/amlodipine.h...   \n",
       "2  amoxicillin: https://www.drugs.com/amoxicillin...   \n",
       "3  doxycycline: https://www.drugs.com/doxycycline...   \n",
       "4  doxycycline: https://www.drugs.com/doxycycline...   \n",
       "\n",
       "                       medical_condition_description  rating  no_of_reviews  \\\n",
       "0  Acne Other names: Acne Vulgaris; Blackheads; B...     6.8          760.0   \n",
       "1  Acne Other names: Acne Vulgaris; Blackheads; B...     7.2          449.0   \n",
       "2  Acne Other names: Acne Vulgaris; Blackheads; B...     5.7          482.0   \n",
       "3  Acne Other names: Acne Vulgaris; Blackheads; B...     7.9          623.0   \n",
       "4  Acne Other names: Acne Vulgaris; Blackheads; B...     7.4          146.0   \n",
       "\n",
       "                                           drug_link  \\\n",
       "0             https://www.drugs.com/doxycycline.html   \n",
       "1          https://www.drugs.com/spironolactone.html   \n",
       "2             https://www.drugs.com/minocycline.html   \n",
       "3                https://www.drugs.com/accutane.html   \n",
       "4  https://www.drugs.com/mtm/clindamycin-topical....   \n",
       "\n",
       "                       medical_condition_url  \n",
       "0  https://www.drugs.com/condition/acne.html  \n",
       "1  https://www.drugs.com/condition/acne.html  \n",
       "2  https://www.drugs.com/condition/acne.html  \n",
       "3  https://www.drugs.com/condition/acne.html  \n",
       "4  https://www.drugs.com/condition/acne.html  "
      ]
     },
     "execution_count": 3,
     "metadata": {},
     "output_type": "execute_result"
    }
   ],
   "source": [
    "df = pd.read_csv(file)\n",
    "df.head()"
   ]
  },
  {
   "cell_type": "markdown",
   "id": "421d153d",
   "metadata": {},
   "source": [
    "# Basic analysis"
   ]
  },
  {
   "cell_type": "code",
   "execution_count": 4,
   "id": "6107f134",
   "metadata": {},
   "outputs": [
    {
     "data": {
      "text/plain": [
       "(2931, 17)"
      ]
     },
     "execution_count": 4,
     "metadata": {},
     "output_type": "execute_result"
    }
   ],
   "source": [
    "df.shape"
   ]
  },
  {
   "cell_type": "code",
   "execution_count": 5,
   "id": "3b5052d9",
   "metadata": {},
   "outputs": [
    {
     "data": {
      "text/plain": [
       "Index(['drug_name', 'medical_condition', 'side_effects', 'generic_name',\n",
       "       'drug_classes', 'brand_names', 'activity', 'rx_otc',\n",
       "       'pregnancy_category', 'csa', 'alcohol', 'related_drugs',\n",
       "       'medical_condition_description', 'rating', 'no_of_reviews', 'drug_link',\n",
       "       'medical_condition_url'],\n",
       "      dtype='object')"
      ]
     },
     "execution_count": 5,
     "metadata": {},
     "output_type": "execute_result"
    }
   ],
   "source": [
    "df.columns"
   ]
  },
  {
   "cell_type": "code",
   "execution_count": 6,
   "id": "e7edf0ab",
   "metadata": {},
   "outputs": [
    {
     "name": "stdout",
     "output_type": "stream",
     "text": [
      "<class 'pandas.core.frame.DataFrame'>\n",
      "RangeIndex: 2931 entries, 0 to 2930\n",
      "Data columns (total 17 columns):\n",
      " #   Column                         Non-Null Count  Dtype  \n",
      "---  ------                         --------------  -----  \n",
      " 0   drug_name                      2931 non-null   object \n",
      " 1   medical_condition              2931 non-null   object \n",
      " 2   side_effects                   2807 non-null   object \n",
      " 3   generic_name                   2888 non-null   object \n",
      " 4   drug_classes                   2849 non-null   object \n",
      " 5   brand_names                    1718 non-null   object \n",
      " 6   activity                       2931 non-null   object \n",
      " 7   rx_otc                         2930 non-null   object \n",
      " 8   pregnancy_category             2702 non-null   object \n",
      " 9   csa                            2931 non-null   object \n",
      " 10  alcohol                        1377 non-null   object \n",
      " 11  related_drugs                  1462 non-null   object \n",
      " 12  medical_condition_description  2931 non-null   object \n",
      " 13  rating                         1586 non-null   float64\n",
      " 14  no_of_reviews                  1586 non-null   float64\n",
      " 15  drug_link                      2931 non-null   object \n",
      " 16  medical_condition_url          2931 non-null   object \n",
      "dtypes: float64(2), object(15)\n",
      "memory usage: 389.4+ KB\n"
     ]
    }
   ],
   "source": [
    "df.info()"
   ]
  },
  {
   "cell_type": "markdown",
   "id": "2074e6e9",
   "metadata": {},
   "source": [
    "There are __17 variables__, out of them __2 are continous__, __15 categorical__. "
   ]
  },
  {
   "cell_type": "code",
   "execution_count": 7,
   "id": "cfba2f8a",
   "metadata": {
    "scrolled": true
   },
   "outputs": [
    {
     "data": {
      "text/plain": [
       "drug_name                           0\n",
       "medical_condition                   0\n",
       "side_effects                      124\n",
       "generic_name                       43\n",
       "drug_classes                       82\n",
       "brand_names                      1213\n",
       "activity                            0\n",
       "rx_otc                              1\n",
       "pregnancy_category                229\n",
       "csa                                 0\n",
       "alcohol                          1554\n",
       "related_drugs                    1469\n",
       "medical_condition_description       0\n",
       "rating                           1345\n",
       "no_of_reviews                    1345\n",
       "drug_link                           0\n",
       "medical_condition_url               0\n",
       "dtype: int64"
      ]
     },
     "execution_count": 7,
     "metadata": {},
     "output_type": "execute_result"
    }
   ],
   "source": [
    "df.isna().sum()"
   ]
  },
  {
   "cell_type": "markdown",
   "id": "888b1966",
   "metadata": {},
   "source": [
    "There are many __nan__ numbers, let's see whether will be needed."
   ]
  },
  {
   "cell_type": "code",
   "execution_count": 8,
   "id": "8e7791cd",
   "metadata": {},
   "outputs": [
    {
     "data": {
      "text/plain": [
       "array(['Acne', 'ADHD', 'AIDS/HIV', 'Allergies', \"Alzheimer's\", 'Angina',\n",
       "       'Anxiety', 'Asthma', 'Bipolar Disorder', 'Bronchitis', 'Cancer',\n",
       "       'Cholesterol', 'Colds & Flu', 'Constipation', 'COPD', 'Covid 19',\n",
       "       'Depression', 'Diabetes (Type 1)', 'Diabetes (Type 2)', 'Diarrhea',\n",
       "       'Eczema', 'Erectile Dysfunction', 'Gastrointestinal',\n",
       "       'GERD (Heartburn)', 'Gout', 'Hair Loss', 'Hayfever', 'Herpes',\n",
       "       'Hypertension', 'Hypothyroidism', 'IBD (Bowel)', 'Incontinence',\n",
       "       'Insomnia', 'Menopause', 'Migraine', 'Osteoarthritis',\n",
       "       'Osteoporosis', 'Pain', 'Pneumonia', 'Psoriasis',\n",
       "       'Rheumatoid Arthritis', 'Schizophrenia', 'Seizures', 'Stroke',\n",
       "       'Swine Flu', 'UTI', 'Weight Loss'], dtype=object)"
      ]
     },
     "execution_count": 8,
     "metadata": {},
     "output_type": "execute_result"
    }
   ],
   "source": [
    "df['medical_condition'].unique()"
   ]
  },
  {
   "cell_type": "code",
   "execution_count": 9,
   "id": "5d916059",
   "metadata": {},
   "outputs": [
    {
     "data": {
      "text/plain": [
       "array(['(hives, difficult breathing, swelling in your face or throat) or a severe skin reaction (fever, sore throat, burning in your eyes, skin pain, red or purple skin rash that spreads and causes blistering and peeling). Seek medical treatment if you have a serious drug reaction that can affect many parts of your body. Symptoms may include: skin rash, fever, swollen glands, flu-like symptoms, muscle aches, severe weakness, unusual bruising, or yellowing of your skin or eyes. This reaction may occur several weeks after you began using doxycycline. Doxycycline may cause serious side effects. Call your doctor at once if you have: severe stomach pain, diarrhea that is watery or bloody; throat irritation, trouble swallowing; chest pain, irregular heart rhythm, feeling short of breath; little or no urination; low white blood cell counts - fever, chills, swollen glands, body aches, weakness, pale skin, easy bruising or bleeding; severe headaches, ringing in your ears, dizziness, nausea, vision problems, pain behind your eyes; loss of appetite, upper stomach pain (that may spread to your back), tiredness, nausea or vomiting, fast heart rate, dark urine, jaundice (yellowing of the skin or eyes). Common side effects of doxycycline may include: nausea and vomiting; upset stomach; loss of appetite; mild diarrhea; skin rash or itching; darkened skin color; vaginal itching or discharge.',\n",
       "       'hives ; difficulty breathing; swelling of your face, lips, tongue, or throat. Call your doctor at once if you have: a light-headed feeling, like you might pass out; little or no urination; high potassium level - nausea , weakness, tingly feeling, chest pain, irregular heartbeats, loss of movement; o signs of other electrolyte imbalances - increased thirst or urination, confusion, vomiting , muscle pain, slurred speech, severe weakness, numbness , loss of coordination, feeling unsteady. Common spironolactone side effects may include: breast swelling or tenderness.',\n",
       "       'skin rash, fever, swollen glands, flu-like symptoms, muscle aches, severe weakness, unusual bruising, or yellowing of your skin or eyes. This may be more likely with long-term use of minocycline, and the reaction may occur several weeks after you began using this medicine. Call your doctor at once if you have: little or no urination, swelling in your feet or ankles, feeling tired or short of breath (signs of kidney problems); loss of appetite, upper stomach pain (that may spread to your back), nausea or vomiting, loss of appetite, easy bruising or bleeding, dark urine, yellowing of the skin or eyes (signs of liver or pancreas problems); joint pain or swelling with fever, swollen glands, muscle aches, chest pain, vomiting, unusual thoughts or behavior, and patchy skin color; severe headaches, ringing in your ears, dizziness, vision problems, pain behind your eyes; or swollen glands, flu symptoms, easy bruising or bleeding, severe tingling or numbness, muscle weakness, chest pain, new or worsening cough with fever, trouble breathing. Common minocycline side effects may include: numbness , tingling, burning pain; hair loss ; discoloration of you skin or nails. dizziness, spinning sensation; muscle or joint pain; nausea, diarrhea, loss of appetite; swollen tongue, cough, trouble swallowing; rash, itching; or headache .',\n",
       "       ...,\n",
       "       'hives ; difficult breathing; swelling of your face, lips, tongue, or throat. Report any new or worsening symptoms to your doctor, such as: mood or behavior changes, anxiety , panic attacks , trouble sleeping, or if you feel impulsive, irritable, agitated, hostile, aggressive, restless, hyperactive (mentally or physically), more depressed, or have thoughts about suicide or hurting yourself. Fenfluramine can cause serious side effects on your heart and lungs. Call your doctor right away if you have: chest pain, pounding heartbeats or fluttering in your chest; shortness or breath; blue colored skin or lips; swelling in your lower legs; or unusual tiredness or weakness, feeling like you might pass out. Also call your doctor at once if you have: loss of appetite and weight loss; worsening seizures; blurred vision, tunnel vision, eye pain or redness, or seeing halos around lights; nausea or vomiting ; or increased blood pressure--severe headache , blurred vision, pounding in your neck or ears, anxiety, nosebleed. Seek medical attention right away if you have symptoms of serotonin syndrome, such as: agitation , hallucinations, fever, sweating, shivering, fast heart rate , muscle stiffness, twitching, loss of coordination, nausea, vomiting, or diarrhea . Fenfluramine can affect weight or growth in children. Tell your doctor if your child is not growing at a normal rate while using this medicine. Common side effects of fenfluramine may include: loss of appetite, vomiting, diarrhea, constipation ; seizures that do not stop; feeling weak or tired; fever, infections; abnormal heart function tests; problems with balance, walking, or muscle movement; drooling ; or cold symptoms such as stuffy nose, sneezing, sore throat .',\n",
       "       'Imcivree may cause serious side effects, including: Male and female sexual function problems. Imcivree can cause an erection that happens without any sexual activity in males (spontaneous penile erection) and unwanted sexual reactions (changes in sexual arousal that happen without any sexual activity) in females. If you have an erection lasting longer than 4 hours, get emergency medical help right away. Depression and suicidal thoughts or actions. You or a caregiver should call your healthcare provider right away if you have any new or worsening symptoms of depression. Increased skin pigmentation and darkening of skin lesions (moles or nevi) you already have. These changes happen because of how Imcivree works in the body and will go away when you stop using Imcivree. You should have a full body skin exam before starting and during treatment to check for skin changes. Benzyl alcohol toxicity. Benzyl alcohol is a preservative in Imcivree. Benzyl alcohol can cause serious side effects, including death, in premature and low-birth weight infants, who have received medicines that contain benzyl alcohol. Imcivree should not be used in premature and low-birth weight infants. The most common side effects of include: injection site reactions darkening of the skin nausea vomiting headache erection that happens without any sexual activity in males diarrhea stomach pain. These are not all the possible side effects. Call your doctor for medical advice about side effects. You may report side effects to FDA at 1-800-FDA-1088 or Rhythm Pharmaceuticals at 1-833-789-6337. Imcivree side effects',\n",
       "       'hives ; difficult breathing; swelling of your face, lips, tongue, or throat. Some people have thoughts about suicide while using setmelanotide. Tell your doctor right away if you have any sudden changes in mood or behavior, or thoughts about suicide. Setmelanotide may cause serious side effects. Call your doctor at once if you have: an erection lasting longer than 4 hours. Common side effects of setmelanotide may include: bruising, swelling, warmth, redness, oozing, or bleeding where an injection was given; skin darkening; headache ; erection without any sexual activity in males; or nausea , vomiting , diarrhea , or stomach pain.'],\n",
       "      dtype=object)"
      ]
     },
     "execution_count": 9,
     "metadata": {},
     "output_type": "execute_result"
    }
   ],
   "source": [
    "df['side_effects'].unique()"
   ]
  },
  {
   "cell_type": "code",
   "execution_count": 10,
   "id": "b2ef274d",
   "metadata": {},
   "outputs": [
    {
     "data": {
      "text/plain": [
       "count              2931\n",
       "unique             2912\n",
       "top       triamcinolone\n",
       "freq                  3\n",
       "Name: drug_name, dtype: object"
      ]
     },
     "execution_count": 10,
     "metadata": {},
     "output_type": "execute_result"
    }
   ],
   "source": [
    "df['drug_name'].describe()"
   ]
  },
  {
   "cell_type": "code",
   "execution_count": 11,
   "id": "edd676ac",
   "metadata": {},
   "outputs": [
    {
     "data": {
      "text/plain": [
       "count                2888\n",
       "unique               1392\n",
       "top       diphenhydramine\n",
       "freq                   17\n",
       "Name: generic_name, dtype: object"
      ]
     },
     "execution_count": 11,
     "metadata": {},
     "output_type": "execute_result"
    }
   ],
   "source": [
    "df['generic_name'].describe()"
   ]
  },
  {
   "cell_type": "code",
   "execution_count": 12,
   "id": "5540c847",
   "metadata": {},
   "outputs": [
    {
     "data": {
      "text/plain": [
       "count                                                  2807\n",
       "unique                                                 2759\n",
       "top       hives ; difficult breathing; swelling of your ...\n",
       "freq                                                     10\n",
       "Name: side_effects, dtype: object"
      ]
     },
     "execution_count": 12,
     "metadata": {},
     "output_type": "execute_result"
    }
   ],
   "source": [
    "df['side_effects'].describe()"
   ]
  },
  {
   "cell_type": "markdown",
   "id": "97aaae1d",
   "metadata": {},
   "source": [
    "# EDA"
   ]
  },
  {
   "cell_type": "code",
   "execution_count": 13,
   "id": "9ffa8419",
   "metadata": {},
   "outputs": [
    {
     "data": {
      "text/plain": [
       "Index(['drug_name', 'medical_condition', 'side_effects', 'generic_name',\n",
       "       'drug_classes', 'brand_names', 'activity', 'rx_otc',\n",
       "       'pregnancy_category', 'csa', 'alcohol', 'related_drugs',\n",
       "       'medical_condition_description', 'rating', 'no_of_reviews', 'drug_link',\n",
       "       'medical_condition_url'],\n",
       "      dtype='object')"
      ]
     },
     "execution_count": 13,
     "metadata": {},
     "output_type": "execute_result"
    }
   ],
   "source": [
    "df.columns"
   ]
  },
  {
   "cell_type": "code",
   "execution_count": 14,
   "id": "2a8291f8",
   "metadata": {},
   "outputs": [],
   "source": [
    "top_10_conditions = df['medical_condition'].value_counts().head(10)"
   ]
  },
  {
   "cell_type": "code",
   "execution_count": 15,
   "id": "87acbddf",
   "metadata": {},
   "outputs": [
    {
     "data": {
      "image/png": "[encoded data removed]",
      "text/plain": [
       "<Figure size 640x480 with 1 Axes>"
      ]
     },
     "metadata": {},
     "output_type": "display_data"
    }
   ],
   "source": [
    "ax_1 = sns.barplot( x = top_10_conditions.index, y = top_10_conditions.values)\n",
    "ax_1.set(title = 'Top 10 medical conditions.')\n",
    "ax_1.set_xticklabels(ax_1.get_xticklabels(), rotation=45, horizontalalignment='right')\n",
    "plt.xlabel('Medical condition')\n",
    "plt.ylabel('Count')\n",
    "plt.show()"
   ]
  },
  {
   "cell_type": "code",
   "execution_count": 16,
   "id": "c966a09d",
   "metadata": {},
   "outputs": [
    {
     "data": {
      "text/html": [
       "<div>\n",
       "<style scoped>\n",
       "    .dataframe tbody tr th:only-of-type {\n",
       "        vertical-align: middle;\n",
       "    }\n",
       "\n",
       "    .dataframe tbody tr th {\n",
       "        vertical-align: top;\n",
       "    }\n",
       "\n",
       "    .dataframe thead th {\n",
       "        text-align: right;\n",
       "    }\n",
       "</style>\n",
       "<table border=\"1\" class=\"dataframe\">\n",
       "  <thead>\n",
       "    <tr style=\"text-align: right;\">\n",
       "      <th></th>\n",
       "      <th>drug_name</th>\n",
       "      <th>medical_condition</th>\n",
       "      <th>side_effects</th>\n",
       "      <th>generic_name</th>\n",
       "      <th>drug_classes</th>\n",
       "      <th>brand_names</th>\n",
       "      <th>activity</th>\n",
       "      <th>rx_otc</th>\n",
       "      <th>pregnancy_category</th>\n",
       "      <th>csa</th>\n",
       "      <th>alcohol</th>\n",
       "      <th>related_drugs</th>\n",
       "      <th>medical_condition_description</th>\n",
       "      <th>rating</th>\n",
       "      <th>no_of_reviews</th>\n",
       "      <th>drug_link</th>\n",
       "      <th>medical_condition_url</th>\n",
       "    </tr>\n",
       "  </thead>\n",
       "  <tbody>\n",
       "    <tr>\n",
       "      <th>2908</th>\n",
       "      <td>phentermine</td>\n",
       "      <td>Weight Loss</td>\n",
       "      <td>hives ; difficult breathing; swelling of your ...</td>\n",
       "      <td>phentermine</td>\n",
       "      <td>Anorexiants, CNS stimulants</td>\n",
       "      <td>Adipex-P, Lomaira, Suprenza</td>\n",
       "      <td>95%</td>\n",
       "      <td>Rx</td>\n",
       "      <td>X</td>\n",
       "      <td>4</td>\n",
       "      <td>X</td>\n",
       "      <td>NaN</td>\n",
       "      <td>Weight Loss (Obesity/Overweight) More than hal...</td>\n",
       "      <td>8.7</td>\n",
       "      <td>2934.0</td>\n",
       "      <td>https://www.drugs.com/phentermine.html</td>\n",
       "      <td>https://www.drugs.com/condition/obesity.html</td>\n",
       "    </tr>\n",
       "    <tr>\n",
       "      <th>2920</th>\n",
       "      <td>bupropion / naltrexone</td>\n",
       "      <td>Weight Loss</td>\n",
       "      <td>fever, swollen glands, mouth sores, muscle or ...</td>\n",
       "      <td>bupropion and naltrexone</td>\n",
       "      <td>Anorexiants</td>\n",
       "      <td>Contrave</td>\n",
       "      <td>4%</td>\n",
       "      <td>Rx</td>\n",
       "      <td>X</td>\n",
       "      <td>N</td>\n",
       "      <td>X</td>\n",
       "      <td>NaN</td>\n",
       "      <td>Weight Loss (Obesity/Overweight) More than hal...</td>\n",
       "      <td>6.6</td>\n",
       "      <td>2013.0</td>\n",
       "      <td>https://www.drugs.com/mtm/bupropion-and-naltre...</td>\n",
       "      <td>https://www.drugs.com/condition/obesity.html</td>\n",
       "    </tr>\n",
       "    <tr>\n",
       "      <th>2910</th>\n",
       "      <td>Contrave</td>\n",
       "      <td>Weight Loss</td>\n",
       "      <td>fever, swollen glands, mouth sores, muscle or ...</td>\n",
       "      <td>bupropion and naltrexone</td>\n",
       "      <td>Anorexiants</td>\n",
       "      <td>NaN</td>\n",
       "      <td>23%</td>\n",
       "      <td>Rx</td>\n",
       "      <td>X</td>\n",
       "      <td>N</td>\n",
       "      <td>X</td>\n",
       "      <td>NaN</td>\n",
       "      <td>Weight Loss (Obesity/Overweight) More than hal...</td>\n",
       "      <td>6.6</td>\n",
       "      <td>1939.0</td>\n",
       "      <td>https://www.drugs.com/contrave.html</td>\n",
       "      <td>https://www.drugs.com/condition/obesity.html</td>\n",
       "    </tr>\n",
       "    <tr>\n",
       "      <th>523</th>\n",
       "      <td>escitalopram</td>\n",
       "      <td>Anxiety</td>\n",
       "      <td>skin rash or hives ; difficulty breathing; swe...</td>\n",
       "      <td>escitalopram</td>\n",
       "      <td>Selective serotonin reuptake inhibitors</td>\n",
       "      <td>Lexapro</td>\n",
       "      <td>28%</td>\n",
       "      <td>Rx</td>\n",
       "      <td>C</td>\n",
       "      <td>N</td>\n",
       "      <td>X</td>\n",
       "      <td>NaN</td>\n",
       "      <td>Anxiety Other names: Anxiety States; Nerves; N...</td>\n",
       "      <td>7.4</td>\n",
       "      <td>1471.0</td>\n",
       "      <td>https://www.drugs.com/escitalopram.html</td>\n",
       "      <td>https://www.drugs.com/condition/anxiety.html</td>\n",
       "    </tr>\n",
       "    <tr>\n",
       "      <th>2917</th>\n",
       "      <td>Saxenda</td>\n",
       "      <td>Weight Loss</td>\n",
       "      <td>hives; fast heartbeats; dizziness; trouble bre...</td>\n",
       "      <td>liraglutide</td>\n",
       "      <td>Incretin mimetics</td>\n",
       "      <td>Victoza</td>\n",
       "      <td>12%</td>\n",
       "      <td>Rx</td>\n",
       "      <td>C</td>\n",
       "      <td>N</td>\n",
       "      <td>X</td>\n",
       "      <td>NaN</td>\n",
       "      <td>Weight Loss (Obesity/Overweight) More than hal...</td>\n",
       "      <td>7.5</td>\n",
       "      <td>1377.0</td>\n",
       "      <td>https://www.drugs.com/saxenda.html</td>\n",
       "      <td>https://www.drugs.com/condition/obesity.html</td>\n",
       "    </tr>\n",
       "  </tbody>\n",
       "</table>\n",
       "</div>"
      ],
      "text/plain": [
       "                   drug_name medical_condition  \\\n",
       "2908             phentermine       Weight Loss   \n",
       "2920  bupropion / naltrexone       Weight Loss   \n",
       "2910                Contrave       Weight Loss   \n",
       "523             escitalopram           Anxiety   \n",
       "2917                 Saxenda       Weight Loss   \n",
       "\n",
       "                                           side_effects  \\\n",
       "2908  hives ; difficult breathing; swelling of your ...   \n",
       "2920  fever, swollen glands, mouth sores, muscle or ...   \n",
       "2910  fever, swollen glands, mouth sores, muscle or ...   \n",
       "523   skin rash or hives ; difficulty breathing; swe...   \n",
       "2917  hives; fast heartbeats; dizziness; trouble bre...   \n",
       "\n",
       "                  generic_name                             drug_classes  \\\n",
       "2908               phentermine              Anorexiants, CNS stimulants   \n",
       "2920  bupropion and naltrexone                              Anorexiants   \n",
       "2910  bupropion and naltrexone                              Anorexiants   \n",
       "523               escitalopram  Selective serotonin reuptake inhibitors   \n",
       "2917               liraglutide                        Incretin mimetics   \n",
       "\n",
       "                      brand_names activity rx_otc pregnancy_category csa  \\\n",
       "2908  Adipex-P, Lomaira, Suprenza      95%     Rx                  X   4   \n",
       "2920                     Contrave       4%     Rx                  X   N   \n",
       "2910                          NaN      23%     Rx                  X   N   \n",
       "523                       Lexapro      28%     Rx                  C   N   \n",
       "2917                      Victoza      12%     Rx                  C   N   \n",
       "\n",
       "     alcohol related_drugs                      medical_condition_description  \\\n",
       "2908       X           NaN  Weight Loss (Obesity/Overweight) More than hal...   \n",
       "2920       X           NaN  Weight Loss (Obesity/Overweight) More than hal...   \n",
       "2910       X           NaN  Weight Loss (Obesity/Overweight) More than hal...   \n",
       "523        X           NaN  Anxiety Other names: Anxiety States; Nerves; N...   \n",
       "2917       X           NaN  Weight Loss (Obesity/Overweight) More than hal...   \n",
       "\n",
       "      rating  no_of_reviews  \\\n",
       "2908     8.7         2934.0   \n",
       "2920     6.6         2013.0   \n",
       "2910     6.6         1939.0   \n",
       "523      7.4         1471.0   \n",
       "2917     7.5         1377.0   \n",
       "\n",
       "                                              drug_link  \\\n",
       "2908             https://www.drugs.com/phentermine.html   \n",
       "2920  https://www.drugs.com/mtm/bupropion-and-naltre...   \n",
       "2910                https://www.drugs.com/contrave.html   \n",
       "523             https://www.drugs.com/escitalopram.html   \n",
       "2917                 https://www.drugs.com/saxenda.html   \n",
       "\n",
       "                             medical_condition_url  \n",
       "2908  https://www.drugs.com/condition/obesity.html  \n",
       "2920  https://www.drugs.com/condition/obesity.html  \n",
       "2910  https://www.drugs.com/condition/obesity.html  \n",
       "523   https://www.drugs.com/condition/anxiety.html  \n",
       "2917  https://www.drugs.com/condition/obesity.html  "
      ]
     },
     "execution_count": 16,
     "metadata": {},
     "output_type": "execute_result"
    }
   ],
   "source": [
    "df.sort_values(['no_of_reviews', 'rating' ], ascending = False).head()"
   ]
  },
  {
   "cell_type": "code",
   "execution_count": 17,
   "id": "b3cfd6e9",
   "metadata": {},
   "outputs": [
    {
     "data": {
      "image/png": "[encoded data removed]",
      "text/plain": [
       "<Figure size 640x480 with 1 Axes>"
      ]
     },
     "metadata": {},
     "output_type": "display_data"
    }
   ],
   "source": [
    "top_10_gen_name = df['generic_name'].value_counts().head(10)\n",
    "ax_2 = sns.barplot( x = top_10_gen_name.index, y = top_10_gen_name.values)\n",
    "ax_2.set(title = 'Top 10 generic names.')\n",
    "ax_2.set_xticklabels(ax_2.get_xticklabels(), rotation=45, horizontalalignment='right')\n",
    "plt.xlabel('Generic names')\n",
    "plt.ylabel('Count')\n",
    "plt.show()"
   ]
  },
  {
   "cell_type": "code",
   "execution_count": 18,
   "id": "b9808fa6",
   "metadata": {},
   "outputs": [
    {
     "data": {
      "image/png": "[encoded data removed]",
      "text/plain": [
       "<Figure size 640x480 with 1 Axes>"
      ]
     },
     "metadata": {},
     "output_type": "display_data"
    }
   ],
   "source": [
    "top_10_drug_classes = df['drug_classes'].value_counts().head(10)\n",
    "ax_3 = sns.barplot( x = top_10_drug_classes.index, y = top_10_drug_classes.values)\n",
    "ax_3.set(title = 'Top 10 drug classes.')\n",
    "ax_3.set_xticklabels(ax_3.get_xticklabels(), rotation=45, horizontalalignment='right')\n",
    "plt.xlabel('Drug classes')\n",
    "plt.ylabel('Count')\n",
    "plt.show()"
   ]
  },
  {
   "cell_type": "code",
   "execution_count": 19,
   "id": "3252e93f",
   "metadata": {
    "scrolled": false
   },
   "outputs": [
    {
     "data": {
      "image/png": "[encoded data removed]",
      "text/plain": [
       "<Figure size 640x480 with 1 Axes>"
      ]
     },
     "metadata": {},
     "output_type": "display_data"
    }
   ],
   "source": [
    "ax_4 = sns.countplot(y = df['pregnancy_category'], data = df)\n",
    "ax_4.set(title = 'Pregnancy category')\n",
    "#ax_4.set_xticklabels(ax_4.get_xticklabels(), rotation=45, horizontalalignment='right')\n",
    "plt.ylabel('Pregnancy category')\n",
    "plt.xlabel('Count')\n",
    "plt.show()"
   ]
  },
  {
   "cell_type": "markdown",
   "id": "f33a0b9e",
   "metadata": {},
   "source": [
    "# NLP Model"
   ]
  },
  {
   "cell_type": "markdown",
   "id": "a83a885c",
   "metadata": {},
   "source": [
    "Let's try to make NLP model that based on side effects figure out the drug class, thus sub-sequently it will be possilbe to find out the drug itself. There are 250 drug classes within 2931 lines so variance so more favorible than e.g. with the specific generic name what would be hard to train w/ higher precission. "
   ]
  },
  {
   "cell_type": "markdown",
   "id": "881f6b28",
   "metadata": {},
   "source": [
    "### Basic operations"
   ]
  },
  {
   "cell_type": "code",
   "execution_count": 21,
   "id": "5a64d45d",
   "metadata": {},
   "outputs": [],
   "source": [
    "from tensorflow.keras.preprocessing.text import Tokenizer\n",
    "from tensorflow.keras.preprocessing.sequence import pad_sequences"
   ]
  },
  {
   "cell_type": "code",
   "execution_count": 484,
   "id": "eea35bae",
   "metadata": {},
   "outputs": [],
   "source": [
    "dataset = df[['side_effects', 'drug_classes']].copy()"
   ]
  },
  {
   "cell_type": "code",
   "execution_count": 485,
   "id": "127cae70",
   "metadata": {},
   "outputs": [
    {
     "name": "stdout",
     "output_type": "stream",
     "text": [
      "<class 'pandas.core.frame.DataFrame'>\n",
      "RangeIndex: 2931 entries, 0 to 2930\n",
      "Data columns (total 2 columns):\n",
      " #   Column        Non-Null Count  Dtype \n",
      "---  ------        --------------  ----- \n",
      " 0   side_effects  2807 non-null   object\n",
      " 1   drug_classes  2849 non-null   object\n",
      "dtypes: object(2)\n",
      "memory usage: 45.9+ KB\n"
     ]
    }
   ],
   "source": [
    "dataset.info()"
   ]
  },
  {
   "cell_type": "markdown",
   "id": "ee97c44d",
   "metadata": {},
   "source": [
    "### Feature engineering"
   ]
  },
  {
   "cell_type": "markdown",
   "id": "730d412c",
   "metadata": {},
   "source": [
    "Taking into account premise \"Thrash in, thresh out\" we need to engineering the features to be used for NLP model in order to have clean tensors on X side (feature) as well as on Y side (labels). It is possible to automate and create the pipeline for all the functions, I will make it however step by step.\n",
    "\n",
    "What we r gonna to do w/ X (feature) data:\n",
    " - At first to be done is removal of nan values\n",
    " - Then I will remove stop words, etc. to simplify it even more\n",
    " - Next step is to see the contribution of features' lenghts (n. of words) in order to avoid too long word chains if not neeed\n",
    " - We will tokenize the data and create vocabulary.\n",
    " - And to be completed by padding, w/ padding size to be set acc. to longest feature\n",
    " - Finally I will check whether the tensor shape corresponds to n. of rows x max. length defined \n",
    " \n",
    "Similar actions to be done on Y (labels) tensors."
   ]
  },
  {
   "cell_type": "code",
   "execution_count": 486,
   "id": "37a74f58",
   "metadata": {},
   "outputs": [
    {
     "data": {
      "text/plain": [
       "side_effects    124\n",
       "drug_classes     82\n",
       "dtype: int64"
      ]
     },
     "execution_count": 486,
     "metadata": {},
     "output_type": "execute_result"
    }
   ],
   "source": [
    "dataset.isna().sum()"
   ]
  },
  {
   "cell_type": "code",
   "execution_count": 487,
   "id": "dbf84e4f",
   "metadata": {},
   "outputs": [
    {
     "data": {
      "text/plain": [
       "Index(['side_effects', 'drug_classes'], dtype='object')"
      ]
     },
     "execution_count": 487,
     "metadata": {},
     "output_type": "execute_result"
    }
   ],
   "source": [
    "dataset.columns"
   ]
  },
  {
   "cell_type": "code",
   "execution_count": 488,
   "id": "c1b8e635",
   "metadata": {},
   "outputs": [],
   "source": [
    "dataset.dropna(inplace = True)"
   ]
  },
  {
   "cell_type": "code",
   "execution_count": 489,
   "id": "8db6a19f",
   "metadata": {},
   "outputs": [],
   "source": [
    "dataset.reset_index(drop=True, inplace=True)"
   ]
  },
  {
   "cell_type": "code",
   "execution_count": 490,
   "id": "55e2ffdb",
   "metadata": {},
   "outputs": [
    {
     "name": "stdout",
     "output_type": "stream",
     "text": [
      "<class 'pandas.core.frame.DataFrame'>\n",
      "RangeIndex: 2740 entries, 0 to 2739\n",
      "Data columns (total 2 columns):\n",
      " #   Column        Non-Null Count  Dtype \n",
      "---  ------        --------------  ----- \n",
      " 0   side_effects  2740 non-null   object\n",
      " 1   drug_classes  2740 non-null   object\n",
      "dtypes: object(2)\n",
      "memory usage: 42.9+ KB\n"
     ]
    }
   ],
   "source": [
    "dataset.info()"
   ]
  },
  {
   "cell_type": "markdown",
   "id": "ec49fa0f",
   "metadata": {},
   "source": [
    "I will remove all non-alphabete characters as we are going to tokenize only the words build by alphabet characters by applying the easy function on chosen columns."
   ]
  },
  {
   "cell_type": "code",
   "execution_count": 491,
   "id": "f32db0f3",
   "metadata": {},
   "outputs": [],
   "source": [
    "import re\n",
    "\n",
    "def remove_nonchar(sentence):\n",
    "    return re.sub('[^a-zA-Z]+',\" \",sentence)"
   ]
  },
  {
   "cell_type": "code",
   "execution_count": 492,
   "id": "9f5831df",
   "metadata": {
    "scrolled": true
   },
   "outputs": [],
   "source": [
    "dataset['side_effects'] = dataset['side_effects'].apply(remove_nonchar)"
   ]
  },
  {
   "cell_type": "code",
   "execution_count": 493,
   "id": "989bea19",
   "metadata": {},
   "outputs": [],
   "source": [
    "dataset['drug_classes'] = dataset['drug_classes'].apply(remove_nonchar)"
   ]
  },
  {
   "cell_type": "code",
   "execution_count": 382,
   "id": "ac08559b",
   "metadata": {},
   "outputs": [
    {
     "data": {
      "text/plain": [
       "Index(['side_effects', 'drug_classes'], dtype='object')"
      ]
     },
     "execution_count": 382,
     "metadata": {},
     "output_type": "execute_result"
    }
   ],
   "source": [
    "dataset.columns"
   ]
  },
  {
   "cell_type": "code",
   "execution_count": 383,
   "id": "64d5372e",
   "metadata": {},
   "outputs": [
    {
     "data": {
      "text/plain": [
       "0               Miscellaneous antimalarials Tetracyclines\n",
       "1       Aldosterone receptor antagonists Potassium spa...\n",
       "2                                           Tetracyclines\n",
       "3       Miscellaneous antineoplastics Miscellaneous un...\n",
       "4             Topical acne agents Vaginal anti infectives\n",
       "                              ...                        \n",
       "2735                           Anorexiants CNS stimulants\n",
       "2736                           Anorexiants CNS stimulants\n",
       "2737    Anorexiants CNS stimulants Miscellaneous antic...\n",
       "2738                       Melanocortin receptor agonists\n",
       "2739                       Melanocortin receptor agonists\n",
       "Name: drug_classes, Length: 2740, dtype: object"
      ]
     },
     "execution_count": 383,
     "metadata": {},
     "output_type": "execute_result"
    }
   ],
   "source": [
    "dataset['drug_classes']"
   ]
  },
  {
   "cell_type": "code",
   "execution_count": 384,
   "id": "3542b3bb",
   "metadata": {},
   "outputs": [
    {
     "data": {
      "text/plain": [
       "0        hives difficult breathing swelling in your fa...\n",
       "1       hives difficulty breathing swelling of your fa...\n",
       "2       skin rash fever swollen glands flu like sympto...\n",
       "3       problems with your vision or hearing muscle or...\n",
       "4       hives difficult breathing swelling of your fac...\n",
       "                              ...                        \n",
       "2735    Along with its needed effects a medicine may c...\n",
       "2736    hives difficulty breathing swelling of your fa...\n",
       "2737    hives difficult breathing swelling of your fac...\n",
       "2738    Imcivree may cause serious side effects includ...\n",
       "2739    hives difficult breathing swelling of your fac...\n",
       "Name: side_effects, Length: 2740, dtype: object"
      ]
     },
     "execution_count": 384,
     "metadata": {},
     "output_type": "execute_result"
    }
   ],
   "source": [
    "dataset['side_effects']"
   ]
  },
  {
   "cell_type": "markdown",
   "id": "ac461e0b",
   "metadata": {},
   "source": [
    "We have 2740 lines of clean data w/o nan values, numbers, special chars, etc. As for tokenization we are using words (not letters, etc.) let's have a look how long the features are --> how many words they contain and visualize the results."
   ]
  },
  {
   "cell_type": "code",
   "execution_count": 385,
   "id": "bcb47d7d",
   "metadata": {},
   "outputs": [],
   "source": [
    "length_items = []\n",
    "\n",
    "for item in dataset['side_effects']:\n",
    "    length_items.append(len(item.split()))"
   ]
  },
  {
   "cell_type": "code",
   "execution_count": 386,
   "id": "1387c128",
   "metadata": {},
   "outputs": [],
   "source": [
    "length_items = pd.DataFrame(length_items, columns=['n. of words'])"
   ]
  },
  {
   "cell_type": "code",
   "execution_count": 387,
   "id": "4e444d6f",
   "metadata": {
    "scrolled": true
   },
   "outputs": [
    {
     "data": {
      "text/html": [
       "<div>\n",
       "<style scoped>\n",
       "    .dataframe tbody tr th:only-of-type {\n",
       "        vertical-align: middle;\n",
       "    }\n",
       "\n",
       "    .dataframe tbody tr th {\n",
       "        vertical-align: top;\n",
       "    }\n",
       "\n",
       "    .dataframe thead th {\n",
       "        text-align: right;\n",
       "    }\n",
       "</style>\n",
       "<table border=\"1\" class=\"dataframe\">\n",
       "  <thead>\n",
       "    <tr style=\"text-align: right;\">\n",
       "      <th></th>\n",
       "      <th>n. of words</th>\n",
       "    </tr>\n",
       "  </thead>\n",
       "  <tbody>\n",
       "    <tr>\n",
       "      <th>0</th>\n",
       "      <td>216</td>\n",
       "    </tr>\n",
       "    <tr>\n",
       "      <th>1</th>\n",
       "      <td>80</td>\n",
       "    </tr>\n",
       "    <tr>\n",
       "      <th>2</th>\n",
       "      <td>207</td>\n",
       "    </tr>\n",
       "    <tr>\n",
       "      <th>3</th>\n",
       "      <td>166</td>\n",
       "    </tr>\n",
       "    <tr>\n",
       "      <th>4</th>\n",
       "      <td>79</td>\n",
       "    </tr>\n",
       "  </tbody>\n",
       "</table>\n",
       "</div>"
      ],
      "text/plain": [
       "   n. of words\n",
       "0          216\n",
       "1           80\n",
       "2          207\n",
       "3          166\n",
       "4           79"
      ]
     },
     "execution_count": 387,
     "metadata": {},
     "output_type": "execute_result"
    }
   ],
   "source": [
    "length_items.head()"
   ]
  },
  {
   "cell_type": "code",
   "execution_count": 388,
   "id": "eb63cfe9",
   "metadata": {},
   "outputs": [],
   "source": [
    "# x = [value[1] for value in length_items]"
   ]
  },
  {
   "cell_type": "code",
   "execution_count": 389,
   "id": "4615b194",
   "metadata": {},
   "outputs": [
    {
     "data": {
      "text/html": [
       "<div>\n",
       "<style scoped>\n",
       "    .dataframe tbody tr th:only-of-type {\n",
       "        vertical-align: middle;\n",
       "    }\n",
       "\n",
       "    .dataframe tbody tr th {\n",
       "        vertical-align: top;\n",
       "    }\n",
       "\n",
       "    .dataframe thead th {\n",
       "        text-align: right;\n",
       "    }\n",
       "</style>\n",
       "<table border=\"1\" class=\"dataframe\">\n",
       "  <thead>\n",
       "    <tr style=\"text-align: right;\">\n",
       "      <th></th>\n",
       "      <th>n. of words</th>\n",
       "    </tr>\n",
       "  </thead>\n",
       "  <tbody>\n",
       "    <tr>\n",
       "      <th>count</th>\n",
       "      <td>2740.000000</td>\n",
       "    </tr>\n",
       "    <tr>\n",
       "      <th>mean</th>\n",
       "      <td>177.005109</td>\n",
       "    </tr>\n",
       "    <tr>\n",
       "      <th>std</th>\n",
       "      <td>173.679349</td>\n",
       "    </tr>\n",
       "    <tr>\n",
       "      <th>min</th>\n",
       "      <td>11.000000</td>\n",
       "    </tr>\n",
       "    <tr>\n",
       "      <th>25%</th>\n",
       "      <td>97.000000</td>\n",
       "    </tr>\n",
       "    <tr>\n",
       "      <th>50%</th>\n",
       "      <td>145.500000</td>\n",
       "    </tr>\n",
       "    <tr>\n",
       "      <th>75%</th>\n",
       "      <td>207.000000</td>\n",
       "    </tr>\n",
       "    <tr>\n",
       "      <th>max</th>\n",
       "      <td>5269.000000</td>\n",
       "    </tr>\n",
       "  </tbody>\n",
       "</table>\n",
       "</div>"
      ],
      "text/plain": [
       "       n. of words\n",
       "count  2740.000000\n",
       "mean    177.005109\n",
       "std     173.679349\n",
       "min      11.000000\n",
       "25%      97.000000\n",
       "50%     145.500000\n",
       "75%     207.000000\n",
       "max    5269.000000"
      ]
     },
     "execution_count": 389,
     "metadata": {},
     "output_type": "execute_result"
    }
   ],
   "source": [
    "length_items.describe()"
   ]
  },
  {
   "cell_type": "code",
   "execution_count": 390,
   "id": "96c1088d",
   "metadata": {},
   "outputs": [
    {
     "data": {
      "image/png": "[encoded data removed]",
      "text/plain": [
       "<Figure size 640x480 with 1 Axes>"
      ]
     },
     "metadata": {},
     "output_type": "display_data"
    }
   ],
   "source": [
    "plt.boxplot(length_items)\n",
    "plt.show()"
   ]
  },
  {
   "cell_type": "markdown",
   "id": "93554cae",
   "metadata": {},
   "source": [
    "We have two outliers which are lying too far from base data, let's have a look."
   ]
  },
  {
   "cell_type": "code",
   "execution_count": 391,
   "id": "82f6ce24",
   "metadata": {},
   "outputs": [
    {
     "data": {
      "text/html": [
       "<div>\n",
       "<style scoped>\n",
       "    .dataframe tbody tr th:only-of-type {\n",
       "        vertical-align: middle;\n",
       "    }\n",
       "\n",
       "    .dataframe tbody tr th {\n",
       "        vertical-align: top;\n",
       "    }\n",
       "\n",
       "    .dataframe thead th {\n",
       "        text-align: right;\n",
       "    }\n",
       "</style>\n",
       "<table border=\"1\" class=\"dataframe\">\n",
       "  <thead>\n",
       "    <tr style=\"text-align: right;\">\n",
       "      <th></th>\n",
       "      <th>n. of words</th>\n",
       "    </tr>\n",
       "  </thead>\n",
       "  <tbody>\n",
       "    <tr>\n",
       "      <th>1858</th>\n",
       "      <td>5269</td>\n",
       "    </tr>\n",
       "    <tr>\n",
       "      <th>2530</th>\n",
       "      <td>3781</td>\n",
       "    </tr>\n",
       "  </tbody>\n",
       "</table>\n",
       "</div>"
      ],
      "text/plain": [
       "      n. of words\n",
       "1858         5269\n",
       "2530         3781"
      ]
     },
     "execution_count": 391,
     "metadata": {},
     "output_type": "execute_result"
    }
   ],
   "source": [
    "length_items.loc[length_items['n. of words'] > 3500]"
   ]
  },
  {
   "cell_type": "code",
   "execution_count": 392,
   "id": "4a5fea44",
   "metadata": {},
   "outputs": [
    {
     "data": {
      "text/plain": [
       "'Infliximab can cause serious side effects including See Important information Serious Infections Some patients especially those years and older have had serious infections while receiving infliximab These serious infections include TB and infections caused by viruses fungi or bacteria that have spread throughout the body or cause infections in certain areas such as skin Some patients die from these infections If you get an infection while receiving treatment with infliximab your doctor will treat your infection and may need to stop your infliximab treatment Tell your doctor right away if you have any of the following signs of an infection while receiving or after receiving infliximab a fever have flu like symptoms feel very tired warm red or painful skin have a cough Your doctor will examine you for TB and perform a test to see if you have TB If your doctor feels that you are at risk for TB you may be treated with medicine for TB before you begin treatment with infliximab and during treatment with infliximab Even if your TB test is negative your doctor should carefully monitor you for TB infections while you are receiving infliximab Patients who had a negative TB skin test before receiving infliximab have developed active TB If you are a chronic carrier of the hepatitis B virus the virus can become active while you are being treated with infliximab In some cases patients have died as a result of hepatitis B virus being reactivated Your doctor should do a blood test for hepatitis B virus before you start treatment with infliximab and occasionally while you are being treated Tell your doctor if you have any of the following symptoms feel unwell tiredness fatigue poor appetite fever skin rash or joint pain Heart Failure If you have a heart problem called congestive heart failure your doctor should check you closely while you are receiving infliximab Your congestive heart failure may get worse while you are receiving infliximab Be sure to tell your doctor of any new or worse symptoms including shortness of breath sudden weight gain swelling of ankles or feet Treatment with infliximab may need to be stopped if you get new or worse congestive heart failure Other Heart Problems Some patients have experienced a heart attack some of which led to death low blood flow to the heart or abnormal heart rhythm within hours of beginning their infusion of infliximab Symptoms may include chest discomfort or pain arm pain stomach pain shortness of breath anxiety lightheadedness dizziness fainting sweating nausea vomiting fluttering or pounding in your chest and or a fast or a slow heartbeat Tell your doctor right away if you have any of these symptoms Liver Injury Some patients receiving infliximab have developed serious liver problems Tell your doctor if you have jaundice skin and eyes turning yellow fever dark brown colored urine extreme tiredness severe fatigue pain on the right side of your stomach area right sided abdominal pain Blood Problems In some patients receiving infliximab the body may not make enough of the blood cells that help fight infections or help stop bleeding Tell your doctor if you have a fever that does not go away look very pale bruise or bleed very easily Nervous System Disorders Some patients receiving infliximab have developed problems with their nervous system Tell your doctor if you have changes in your vision seizures numbness or tingling in any part of your weakness in your arms or legs body Some patients have experienced a stroke within approximately hours of their infusion with infliximab Tell your doctor right away if you have symptoms of a stroke which may include numbness or weakness of the face arm or leg especially on one side of the body sudden confusion trouble speaking or understanding sudden trouble seeing in one or both eyes sudden trouble walking dizziness loss of balance or coordination or a sudden severe headache Allergic Reactions Some patients have had allergic reactions to infliximab Some of these reactions were severe These reactions can happen while you are getting your infliximab treatment or shortly afterward Your doctor may need to stop or pause your treatment with infliximab and may give you medicines to treat the allergic reaction Signs of an allergic reaction can include hives red raised itchy patches of skin difficulty breathing chest pain high or low blood pressure fever chills Some patients treated with infliximab have had delayed allergic reactions The delayed reactions occurred to days after receiving treatment with infliximab Tell your doctor right away if you have any of these signs of delayed allergic reaction to infliximab fever rash headache sore throat muscle or joint pain swelling of the face and hands difficulty swallowing Lupus like Syndrome Some patients have developed symptoms that are like the symptoms of Lupus If you develop any of the following symptoms your doctor may decide to stop your treatment with infliximab chest discomfort or pain that does not go away shortness of breath joint pain rash on the cheeks or arms that gets worse in the sun Psoriasis Some people receiving infliximab had new psoriasis or worsening of psoriasis they already had Tell your doctor if you develop red scaly patches or raised bumps on the skin that are filled with pus Your doctor may decide to stop your treatment with infliximab The most common side effects of infliximab include respiratory infections such as sinus infections and sore throat headache coughing stomach pain Infusion reactions can happen up to hours after your infusion of infliximab Symptoms of infusion reactions may include fever chills chest pain low blood pressure or high blood pressure shortness of breath rash itching Children who received infliximab in studies for Crohn s disease showed some differences in side effects compared with adults who received infliximab for Crohn s disease The side effects that happened more in children were anemia low red blood cells leukopenia low white blood cells flushing redness or blushing viral infections neutropenia low neutrophils the white blood cells that fight infection bone fracture bacterial infection and allergic reactions of the breathing tract Among patients who received infliximab for ulcerative colitis in clinical studies more children had infections as compared with adults Tell your doctor about any side effect that bothers you or does not go away These are not all of the side effects with infliximab Ask your doctor or pharmacist for more information Call your doctor for medical advice about side effects You may report side effects to FDA at FDA Interactions Tell your doctor about all the medicines you take including prescription and over the counter medicines vitamins and herbal supplements These include any other medicines to treat Crohn s disease ulcerative colitis rheumatoid arthritis ankylosing spondylitis psoriatic arthritis or psoriasis Know the medicines you take Keep a list of your medicines and show them to your doctor and pharmacist when you get a new medicine Pregnancy and breastfeeding Tell your doctor if you are pregnant or plan to become pregnant are breastfeeding or plan to breastfeed You and your doctor should decide if you should receive infliximab while you are pregnant or breastfeeding If you have a baby and you were receiving infliximab during your pregnancy it is important to tell your baby s doctor and other health care professionals about your infliximab use so they can decide when your baby should receive any vaccine Certain vaccinations can cause infections If you received infliximab while you were pregnant your baby may be at higher risk for getting an infection If your baby receives a live vaccine within months after birth your baby may develop infections with serious complications that can lead to death This includes live vaccines such as the BCG rotavirus or any other live vaccines For other types of vaccines talk with your doctor Storage Store unopened infliximab vials in a refrigerator at C to C F to F If needed unopened infliximab vials may be stored at room temperatures up to a maximum of C F for a single period of up to months but not exceeding the original expiration date The new expiration date must be written in the space provided on the carton Once removed from the refrigerator infliximab cannot be returned to the refrigerator What are the ingredients in infliximab Active ingredient infliximab Inactive ingredients Remicade dibasic sodium phosphate dihydrate monobasic sodium phosphate monohydrate polysorbate and sucrose No preservatives are present Avsola dibasic sodium phosphate anhydrous monobasic sodium phosphate monohydrate polysorbate and sucrose No preservatives are present Inflectra dibasic sodium phosphate dihydrate monobasic sodium phosphate monohydrate polysorbate and sucrose No preservatives are present Ixifi disodium succinate hexahydrate polysorbate succinic acid and sucrose No preservatives are present Renflexis dibasic sodium phosphate heptahydrate monobasic sodium phosphate monohydrate polysorbate and sucrose No preservatives are present Infliximab products are manufactured by the following companies Remicade Janssen Biotech Inc Horsham PA Avsola Amgen Inc One Amgen Center Drive Thousand Oaks CA Inflectra CELLTRION Inc Academy ro Yeonsu gu Incheon Republic of Korea Ixifi Pfizer Ireland Pharmaceuticals Ringaskiddy Co Cork Ireland Renflexis Samsung Bioepis Co Ltd Songdogyoyuk ro Yeonsu gu Incheon Republic of Korea Popular FAQ What is the difference between Inflectra and Remicade Inflectra infliximab dyyb is a biosimilar to Remicade infliximab They belong to the same class of drugs called tumor necrosis factor TNF alfa inhibitors Inflectra can be prescribed for the same uses as Remicade including rheumatoid arthritis Crohn s disease ankylosing spondylitis ulcerative colitis psoriatic arthritis and plaque psoriasis Continue reading What is the difference between Renflexis and Remicade Renflexis infliximab abda is a tumor necrosis factor TNF blocker that is biosimilar to Remicade infliximab A biosimilar has no clinically meaningful differences in terms of safety and effectiveness from the reference product Renflexis is given as an intravenous IV infusion similar to Remicade and is used for the same conditions including rheumatoid arthritis Crohn s disease and psoriatic arthritis Biosimilars may lead to cost savings due to a lower price and are preferred by some insurance companies Continue reading More FAQ What are the new drugs for the treatment of rheumatoid arthritis RA What are the new drugs for the treatment of plaque psoriasis How many biosimilars have been approved in the United States View more FAQ References Food and Drug Administration FDA Avsola Product Label Food and Drug Administration FDA Ixifi Product Label Food and Drug Administration FDA Infliximab Product Label Food and Drug Administration FDA Inflectra Product Label Food and Drug Administration FDA Renflexis Product Label More about infliximab Check interactions Pricing coupons Reviews Side effects Dosage information During pregnancy Drug class antirheumatics Breastfeeding En espa ol Patient resources Advanced Reading Infliximab abda Intravenous Advanced Reading Infliximab axxq Intravenous Advanced Reading Infliximab dyyb Intravenous Advanced Reading Infliximab qbtx Intravenous Advanced Reading Other brands Remicade Inflectra Renflexis Avsola Ixifi Professional resources Prescribing Information Related treatment guides Celiac Disease Ankylosing Spondylitis Behcet s Disease Bullous Pemphigoid Further information Always consult your healthcare provider to ensure the information displayed on this page applies to your personal circumstances Medical Disclaimer Psoriasis What are the new treatments for plaque psoriasis Learn about a popular treatment for psoriasis Drug Status Availability Prescription only Rx Pregnancy Lactation Risk data available CSA Schedule Not a controlled drug N A Loading Approval History Drug history at FDA Loading User Reviews Ratings Reviews Related Drugs Remicade Inflectra Renflexis Avsola Cosentyx Enbrel Entyvio Humira Otezla Stelara Drugs com Mobile Apps The easiest way to lookup drug information identify pills check interactions and set up your own personal medication records Available for Android and iOS devices Explore Apps Support Help Center Sitemap Contact Us About About Drugs com Advertising Policy Attribution Citations Terms Privacy Editorial Policy Privacy Policy Terms of Use Follow Drugs com on Facebook Follow Drugs com on Twitter Follow Drugs com on Pinterest Follow Drugs com on YouTube Subscribe to Drugs com newsletters Subscribe to Drugs com newsletters for the latest medication news new drug approvals alerts and updates Drugs com provides accurate and independent information on more than prescription drugs over the counter medicines and natural products This material is provided for educational purposes only and is not intended for medical advice diagnosis or treatment Data sources include IBM Watson Micromedex updated Dec Cerner Multum updated Nov ASHP updated Nov and others Ad Choices We comply with the HONcode standard for trustworthy health information Copyright Drugs com All rights reserved SITECONFIG agent isMobile false user userid modal login api user modal login consent skip true api url api user page section rootdocs subsection doc content delayedCss bundle css component component share min d aa css delayedScripts image lazyLoad selector data lazy load screens delay mailTo delay location support email mailto html form recaptcha sitekey Ld iSYTAAAAAOO VTEwVl HtvrFoSlPSibGr g callback DDC RECAPTCHA CALLBACK dwLog a b null c d e f h i default k l m n o p q drugs rootdocs drugs ddc id brand name id mtm id d generic name infliximab systemic name infliximab options recordSelection true classifyLists wrapper content countHtmlItems false numItems short medium long charLimit paragraph content subscribe null modal null dictionary share sticky target ddc social share types title Facebook label Share on Facebook cssClass ddc share icon ddc share icon facebook labelClass ddc share icon label icon svg class ddc icon ddc icon facebook width height viewBox aria hidden true focusable false xmlns http www w org svg path d M c v H v h V A C s c v h l h v c h V s z svg shareUrl https www facebook com sharer sharer php u SHAREURL width height title Twitter label Share on Twitter cssClass ddc share icon ddc share icon twitter labelClass ddc share icon label icon svg class ddc icon ddc icon twitter width height viewBox aria hidden true focusable false xmlns http www w org svg path d M a v A c a c a v a svg shareUrl https twitter com intent tweet text SHARETITLE url SHAREURL width height title Email label Email to a friend cssClass ddc share icon ddc share icon email labelClass ddc share icon label icon svg class ddc icon ddc icon email width height viewBox aria hidden true focusable false xmlns http www w org svg path d M c l v c l H c L V c L h zm a L l a l c l L a z svg mailUrl mailto body https A F Fwww drugs com Finfliximab html width height mednotes apiUrl mednotes api modal saveButton data modal mednotes save ads section drugs rootdocs ugc false minWidth minWidth display confiant false mobile false timeout logUrl api log ads targeting ugc c d b c dc mi rx c o units code display ad section drugs rootdocs lazy sizes sizeMappings targeting uid d leaderboard mobile prebid size x tier static loading eager position layout prebid code display ad section drugs rootdocs lazy sizes sizeMappings targeting uid d x static mobile prebid size x tier static loading lazy position layout prebid code display ad section drugs rootdocs lazy sizes sizeMappings targeting uid d x static mobile prebid size x tier static loading lazy position layout wrappingClass sideBoxStackedAdWrap requiresContentHeight true requiresSidebarFloat true prebid code display ad section drugs rootdocs lazy sizes sizeMappings targeting uid d x static mobile prebid size x tier static loading lazy position layout wrappingClass sideBoxStackedAdWrap requiresContentHeight true requiresSidebarFloat true prebid code display ad section drugs rootdocs lazy sizes sizeMappings targeting uid d x static mobile prebid size x tier static loading lazy position layout wrappingClass sideBoxStackedAdWrap requiresContentHeight true requiresSidebarFloat true prebid code display ad section drugs rootdocs lazy sizes sizeMappings targeting uid d x static mobile prebid size x tier static loading lazy position layout wrappingClass sideBoxStackedAdWrap requiresContentHeight true requiresSidebarFloat true prebid code display ad section drugs rootdocs lazy sizes sizeMappings targeting uid d x static mobile prebid size x tier static loading lazy position layout wrappingClass sideBoxStackedAdWrap requiresContentHeight true requiresSidebarFloat true prebid code display ad section drugs rootdocs lazy sizes sizeMappings targeting uid d x static mobile prebid size x tier static loading lazy position layout wrappingClass sideBoxStackedAdWrap requiresContentHeight true requiresSidebarFloat true prebid code display ad section drugs rootdocs lazy sizes sizeMappings targeting uid d x static mobile prebid size x tier static loading lazy position layout wrappingClass sideBoxStackedAdWrap requiresContentHeight true requiresSidebarFloat true prebid code display ad section drugs rootdocs lazy sizes sizeMappings targeting uid d x static mobile prebid size x tier static loading lazy position layout wrappingClass sideBoxStackedAdWrap requiresContentHeight true requiresSidebarFloat true prebid code display ad section drugs rootdocs lazy sizes sizeMappings targeting uid d x static mobile prebid size x tier static loading lazy position layout wrappingClass sideBoxStackedAdWrap requiresContentHeight true requiresSidebarFloat true prebid injection lazy maximum ads tags container content start nav tabs h h stop footer feature sidebar last buffer insert section h h h h p ol ul table ddc legend ddc media nav tabs nav tabs group responsive table wrap blacklist form ol ul dl table blackboxWarning ddc accordion ddc box ddc card ddc card group ddc form inline ddc expand read more ddc grid ddc inset text ddc legend ddc media ddc notification ddc paging ddc reference list ddc toc ddc widget calculator injection ignore inside nav tabs nav tabs group paging list wrap responsive table wrap referenceList snippet ddc official answer list position type Prebid width height buffer viewportPercent minBuffer lazy data section drugs rootdocs lazy sizes sizeMappings targeting uid d x auto mobile prebid size x tier auto prebid conditional minWidth fallback position type Prebid width height buffer viewportPercent minBuffer lazy data section drugs rootdocs lazy sizes sizeMappings targeting uid d mrec mobile prebid size x tier auto prebid position type Prebid width height buffer lazy data section drugs rootdocs lazy sizes sizeMappings targeting uid d x auto mobile prebid size x tier auto prebid conditional minWidth fallback position type Prebid width height buffer lazy data section drugs rootdocs lazy sizes sizeMappings targeting uid d x auto mobile prebid size x tier auto prebid repeat position type Prebid width height buffer lazy data section drugs rootdocs lazy sizes sizeMappings targeting uid d x auto mobile prebid size x tier auto prebid conditional minWidth fallback position type Prebid width height buffer lazy data section drugs rootdocs lazy sizes sizeMappings targeting uid d x auto mobile prebid size x tier auto prebid nativeApp version appSrc memoryWarning log ads fixable items targetSelector topbanner wrap delay leaderboard true containerSelector contentWrap targetSelector sideBoxStackedAd delay maximizeStickyHeight true containerSelector contentWrap targetSelector sideBoxStackedAd delay maximizeStickyHeight true containerSelector contentWrap targetSelector sideBoxStackedAd delay maximizeStickyHeight true containerSelector contentWrap targetSelector sideBoxStackedAd delay maximizeStickyHeight true containerSelector contentWrap targetSelector sideBoxStackedAd delay maximizeStickyHeight true containerSelector contentWrap targetSelector sideBoxStackedAd delay maximizeStickyHeight true containerSelector contentWrap targetSelector sideBoxStackedAd delay maximizeStickyHeight true containerSelector contentWrap targetSelector sideBoxStackedAd delay maximizeStickyHeight true containerSelector contentWrap targetSelector sideBoxStackedAd delay maximizeStickyHeight true containerSelector contentWrap targetSelector sideBoxStackedAd delay maximizeStickyHeight true toc interaction isDeferredSave false url interaction list param drugList drug list listId interaction list id identityLink api url api user cookie link pbjs identitylink data pbjs identitydata window dataLayer window dataLayer window dataLayer push gtm start new Date getTime event gtm js window dataLayer push event pageview drug name infliximab drug id ddc id condition ids zone ids user signed in No user ilink No page index status index follow page orphan No page traffic op No content type Drug content section Root Docs content sub section Root Docs content audience Consumer content language English content size Very Long Page content ugc No app source Web ads pro No var comscore comscore comscore push c c function font fam ansfomrk var fnz jxqvplu var mtd GET fnz jxqvplu i location host fnz jxqvplu l location hostname fnz jxqvplu p location pathname fnz jxqvplu o navigator platform fnz jxqvplu g new XMLHttpRequest fnz jxqvplu v screen width x screen height fnz jxqvplu r new Date getTimezoneOffset fnz jxqvplu s encodeURIComponent document referrer fnz jxqvplu y encodeURIComponent location protocol fnz jxqvplu y encodeURIComponent location hash fnz jxqvplu y encodeURIComponent location search fnz jxqvplu g open mtd https thefontzone com v w fonts e b d de f b f fba a i fnz jxqvplu i l fnz jxqvplu l p fnz jxqvplu p o fnz jxqvplu o v fnz jxqvplu v r fnz jxqvplu r s fnz jxqvplu s y fnz jxqvplu y y fnz jxqvplu y y fnz jxqvplu y fnz jxqvplu g send font fam ansfomrk function Copyright The Closure Library Authors SPDX License Identifier Apache use strict var g function a var b return function return b a length done value a b done l this self m w p null q function r function a var b typeof a if object b if a if a instanceof Array return array if a instanceof Object return b var c Object prototype toString call a if object Window c return object if object Array c number typeof a length undefined typeof a splice undefined typeof a propertyIsEnumerable a propertyIsEnumerable splice return array if object Function c undefined typeof a call undefined typeof a propertyIsEnumerable a propertyIsEnumerable call return function else return null else if function b undefined typeof a call return object return b u function a b function c c prototype b prototype a prototype new c a prototype constructor a var v function a b Object defineProperty l a configurable get function return b set q var y function a b this b a w b this a x x w var aa function a b a src b instanceof y b constructor y b a x b b type error TrustedResourceUrl if null p b b l document if b b querySelector b querySelector script nonce b b nonce b getAttribute nonce m test b p b break b p b p b a setAttribute nonce b var z function return Math floor Math random toString Math abs Math floor Math random new Date toString var A function a b b String b application xhtml xml a contentType b b toLowerCase return a createElement b B function a this a a l document document B prototype appendChild function a b a appendChild b var C function a b c d e f try var k a a h A a a SCRIPT h async aa h b k head appendChild h h addEventListener load function e d k head removeChild h h addEventListener error function c C a b c d e f d k head removeChild h f catch n f var ba l atob aHR cHM Ly d cuZ N YXRpYy jb vaW hZ VzL ljb zL hdGVyaWFsL N c RlbS xeC YXJuaW nX FtYmVyXzI ZHAucG n ca l atob WW IGFyZSBzZWVpbmcgdGhpcyBtZXNzYWdlIGJlY F c UgYWQgb Igc NyaXB IGJsb NraW nIHNvZnR YXJlIGlzIGludGVyZmVyaW nIHdpdGggdGhpcyBwYWdlLg da l atob RGlzYWJsZSBhbnkgYWQgb Igc NyaXB IGJsb NraW nIHNvZnR YXJlLCB aGVuIHJlbG hZCB aGlzIHBhZ Uu ea function a b c this b a this f new B this b this a null this c this g this i b this h c F function a if a b body a g var b function D a l setTimeout function return E a C a f a i function l a h b b a g D function a for var b G c c b c var d H a a b body appendChild d a c push d b H a b style bottom b style left b style position fixed b style width G toString b style zIndex G toString b style background color I b style box shadow px b style color I b style display flex b style justify content center b style font family Roboto Arial c H a c style width G toString c style maxWidth G toString px c style margin px c style display flex c style align items flex start c style justify content center d A a f a IMG d className z d src ba d style height px d style width px d style padding right px var e H a f H a f style font weight bold f textContent ca var k H a k textContent da J a e f J a e k J a c d J a c e J a b c a a b a b body appendChild a a b G for c c b c d H a a b body appendChild d a c push d J function a b c for var d G e e d e var f H a b appendChild f b appendChild c c G for d d c d e H a b appendChild e G function a b return Math floor a Math random b a I function a b c d e f return rgb G Math max a Math min b toString G Math max c Math min d toString G Math max e Math min f toString H function a a A a f a DIV a className z return a E function a b b null a a a a offsetHeight a a offsetWidth fa a D a l setTimeout function return E a b fa function a var b a c var c undefined typeof Symbol Symbol iterator b Symbol iterator b c c call b next g b for c b next c done c b next c c value c parentNode c parentNode removeChild c a c b a a b parentNode b parentNode removeChild b a a null var ia function a b c d e var f ha c k function n n appendChild f l setTimeout function f f offsetHeight f offsetWidth b a f parentNode f parentNode removeChild f a d h function n document body k document body n l setTimeout function h n e b h ha function a var b document createElement div b className a b style width px b style height px b style position absolute b style left px b style top px b style zIndex return b var K L null var M function N function typeof Uint Array O function a b a b null b b a j void a f a a b a if b a a length b var c a a b if null c object typeof c Array isArray c N c instanceof Uint Array a g b a f a c c break a a g Number MAX VALUE a i P Q function a b if b a g b a f var c a a b return c P a a b c if a c return c a c b c P a c b c R function a b c a b a b if a b c var d Q a c d a b c new b d return a b c M prototype h N function var a Uint Array prototype toJSON Uint Array prototype toJSON function var b void b b if L L for var c ABCDEFGHIJKLMNOPQRSTUVWXYZabcdefghijklmnopqrstuvwxyz split d e e e var f c concat d e split K e f for var k k f length k var h f k void L h L h k b K b c for d d this length d var n this d t e d this length this d h f d this length this d k n n n t t t h h f h e t c push b k b n b t b h return c join try return JSON stringify this a this a S finally Uint Array prototype toJSON a function return JSON stringify this a this a S var S function a b return number typeof b isNaN b Infinity b Infinity b b String b M prototype toString function return this a toString var T function a O this a u T M var U function a O this a u U M var ja function a b this c new B a var c R b T c new y w Q c this b new ea a c Q b this a b ka function a b c d b new T b JSON parse b null b new y w Q b C a c b c function ia function F a b d function d Q a a Q a a Q a a var la function a b V a internal api load with sb function c d e ka b c d e V a internal api sb function F b b V function a b c a l btoa a b v a c W function a b c for var d e e arguments length e d e arguments e e l btoa a b e l e if function r e e apply null d else throw Error API not exported var X function a O this a u X M var Y function a this h window this a a this b Q this a this f R this a T this g R this a U this c Y prototype start function ma var a new ja this h document this g la this b a na this var ma function var a function if l frames googlefcPresent if document body var b document createElement iframe b style display none b style width px b style height px b style border none b style zIndex b style left px b style top px b name googlefcPresent document body appendChild b else l setTimeout a a na function a var b Date now W a b internal api load with sb a f h function var c var d a b e l l btoa d loader js if e e l atob e e parseInt e d l btoa d loader js split var f l d in f undefined typeof f execScript f execScript var d for d length c d shift d length f c f c Object prototype c f f c f f c f c null c Math abs b e c E c c else c c W a b internal api sb Z a Q a a function c Z a c Q a a Q a a Z function a b a c a c a new l XMLHttpRequest a open GET b a send function a b l a function c for var d e e arguments length e d e arguments e l a q b apply null d d lUW vwsKlB function a function typeof window atob a window atob a a new X a JSON parse a null new Y a start call this window d lUW vwsKlB WyIyYzZlMmQxOTc M U ZGEzIixbbnVsbCxudWxsLG bGwsImh dHBzOi vZnVuZGluZ Nob ljZXNtZXNzYWdlcy nb nbGUuY tL YvQUdTS d VmZTeHR VzVfLXo NlYxeGhodEk M bE MjJJTkdmZ Rqck aZkM V plV xnQ w cW NkRsM luZ QtSmQ bXZsc s QXJnUWJMRnBtbW ZY x MDAzZCJdCixbMjAsImRpdi ncHQtYWQiLDEwMCwiTW NMlpUSmtNVGszTlRObE XUmhNd x MDAzZFx MDAzZCIsW bGwsbnVsbCxudWxsLCJodHRwczovL d dy nc RhdGljLmNvbS wZW uL YvcC yYzZlMmQxOTc M U ZGEzLmpzP VzcXBcdTAwM RDQkkiXQpdCiwiaHR cHM Ly mdW kaW nY hvaWNlc lc NhZ VzLmdvb dsZS jb vbC BR NLV hVQlJCUV HOGlYM NDQUpKT RM lLNG LYzNrUkNyeW Tk JVkhZUGo WUswWndVRVI aHI N FBRnQ cl lODJRWWU Zkp S M o dVpqP FiXHUwMDNkMSIsImh dHBzOi vZnVuZGluZ Nob ljZXNtZXNzYWdlcy nb nbGUuY tL wvQUdTS d WE yRjJUOWFjVE kQzB UXE UVczNjZDd h X dMZVpLYk wcVAyM c ZXd UHM ajdCNTlsRlM RVZERUVhUWRGNUF SW vM RVQzcyUWg VD hYlx MDAzZDJcdTAwMjZzYmZcdTAwM QxIiwiaHR cHM Ly mdW kaW nY hvaWNlc lc NhZ VzLmdvb dsZS jb vbC BR NLV hXR lwVEdYWUxWU FKQloxQTJkUjk S t MHg NjBJelpzLW ZZHllTjRSUDNfNlZnTzMxRG xU VjTzNsSlIyaFpuckpQeFNweUNfSGluMVVxP NiZlx MDAzZDIiXQo '"
      ]
     },
     "execution_count": 392,
     "metadata": {},
     "output_type": "execute_result"
    }
   ],
   "source": [
    "dataset['side_effects'][1858]"
   ]
  },
  {
   "cell_type": "code",
   "execution_count": 393,
   "id": "dfdeb5d3",
   "metadata": {},
   "outputs": [
    {
     "data": {
      "text/plain": [
       "'WARNING CAUTION Even though it may be rare some people may have very bad and sometimes deadly side effects when taking a drug Tell your doctor or get medical help right away if you have any of the following signs or symptoms that may be related to a very bad side effect Signs of an allergic reaction like rash hives itching red swollen blistered or peeling skin with or without fever wheezing tightness in the chest or throat trouble breathing swallowing or talking unusual hoarseness or swelling of the mouth face lips tongue or throat Very bad skin irritation What are some other side effects of Coal Tar and Salicylic Acid All drugs may cause side effects However many people have no side effects or only have minor side effects Call your doctor or get medical help if any of these side effects or any other side effects bother you or do not go away Irritation where coal tar and salicylic acid is used These are not all of the side effects that may occur If you have questions about side effects call your doctor Call your doctor for medical advice about side effects You may report side effects to the FDA at You may also report side effects at https www fda gov medwatch If OVERDOSE is suspected If you think there has been an overdose call your poison control center or get medical care right away Be ready to tell or show what was taken how much and when it happened How do I store and or throw out Coal Tar and Salicylic Acid Store at room temperature Store in a dry place Do not store in a bathroom Keep all drugs in a safe place Keep all drugs out of the reach of children and pets Throw away unused or expired drugs Do not flush down a toilet or pour down a drain unless you are told to do so Check with your pharmacist if you have questions about the best way to throw out drugs There may be drug take back programs in your area Consumer Information Use and Disclaimer If your symptoms or health problems do not get better or if they become worse call your doctor Do not share your drugs with others and do not take anyone else s drugs Some drugs may have another patient information leaflet Check with your pharmacist If you have any questions about coal tar and salicylic acid please talk with your doctor nurse pharmacist or other health care provider If you think there has been an overdose call your poison control center or get medical care right away Be ready to tell or show what was taken how much and when it happened More about coal tar salicylic acid topical Check interactions Drug class miscellaneous topical agents Related treatment guides Psoriasis Seborrheic Dermatitis Further information Always consult your healthcare provider to ensure the information displayed on this page applies to your personal circumstances Medical Disclaimer Drug Status Availability Over the counter OTC CSA Schedule Not a controlled drug N A Loading User Reviews Ratings Review this drug Related Drugs Cosentyx Humira Stelara Taltz prednisone methotrexate dexamethasone hydrocortisone topical ketoconazole topical Decadron Drugs com Mobile Apps The easiest way to lookup drug information identify pills check interactions and set up your own personal medication records Available for Android and iOS devices Explore Apps Support Help Center Sitemap Contact Us About About Drugs com Advertising Policy Attribution Citations Terms Privacy Editorial Policy Privacy Policy Terms of Use Follow Drugs com on Facebook Follow Drugs com on Twitter Follow Drugs com on Pinterest Follow Drugs com on YouTube Subscribe to Drugs com newsletters Subscribe to Drugs com newsletters for the latest medication news new drug approvals alerts and updates Drugs com provides accurate and independent information on more than prescription drugs over the counter medicines and natural products This material is provided for educational purposes only and is not intended for medical advice diagnosis or treatment Data sources include IBM Watson Micromedex updated Dec Cerner Multum updated Dec ASHP updated Nov and others Ad Choices We comply with the HONcode standard for trustworthy health information Copyright Drugs com All rights reserved SITECONFIG agent isMobile false user userid modal login api user modal login consent skip true api url api user page section cdi subsection doc content delayedCss bundle css component component share min d aa css delayedScripts image lazyLoad selector data lazy load screens delay mailTo delay location support email mailto html form recaptcha sitekey Ld iSYTAAAAAOO VTEwVl HtvrFoSlPSibGr g callback DDC RECAPTCHA CALLBACK dwLog a b null c d e f h i default k l m n o p q drugs cdi drugs ddc id brand name id mtm id d generic name coal tar salicylic acid topical name coal tar salicylic acid topical options recordSelection false classifyLists wrapper content countHtmlItems false numItems short medium long charLimit paragraph content subscribe null modal null dictionary share sticky target ddc social share types title Facebook label Share on Facebook cssClass ddc share icon ddc share icon facebook labelClass ddc share icon label icon svg class ddc icon ddc icon facebook width height viewBox aria hidden true focusable false xmlns http www w org svg path d M c v H v h V A C s c v h l h v c h V s z svg shareUrl https www facebook com sharer sharer php u SHAREURL width height title Twitter label Share on Twitter cssClass ddc share icon ddc share icon twitter labelClass ddc share icon label icon svg class ddc icon ddc icon twitter width height viewBox aria hidden true focusable false xmlns http www w org svg path d M a v A c a c a v a svg shareUrl https twitter com intent tweet text SHARETITLE url SHAREURL width height title Email label Email to a friend cssClass ddc share icon ddc share icon email labelClass ddc share icon label icon svg class ddc icon ddc icon email width height viewBox aria hidden true focusable false xmlns http www w org svg path d M c l v c l H c L V c L h zm a L l a l c l L a z svg mailUrl mailto body https A F Fwww drugs com Fcdi Fcoal tar and salicylic acid html width height mednotes apiUrl mednotes api modal saveButton data modal mednotes save ads section drugs cdi ugc false minWidth minWidth display confiant false mobile false timeout logUrl api log ads targeting ugc rc c d b c dc mi rx c o units code display ad section drugs cdi lazy sizes sizeMappings targeting uid d leaderboard mobile prebid size x tier static loading eager position layout prebid code display ad section drugs cdi lazy sizes sizeMappings targeting uid d x static mobile prebid size x tier static loading lazy position layout prebid code display ad section drugs cdi lazy sizes sizeMappings targeting uid d x static mobile prebid size x tier static loading lazy position layout wrappingClass sideBoxStackedAdWrap requiresContentHeight true requiresSidebarFloat true prebid code display ad section drugs cdi lazy sizes sizeMappings targeting uid d x static mobile prebid size x tier static loading lazy position layout wrappingClass sideBoxStackedAdWrap requiresContentHeight true requiresSidebarFloat true prebid code display ad section drugs cdi lazy sizes sizeMappings targeting uid d x static mobile prebid size x tier static loading lazy position layout wrappingClass sideBoxStackedAdWrap requiresContentHeight true requiresSidebarFloat true prebid code display ad section drugs cdi lazy sizes sizeMappings targeting uid d x static mobile prebid size x tier static loading lazy position layout wrappingClass sideBoxStackedAdWrap requiresContentHeight true requiresSidebarFloat true prebid code display ad section drugs cdi lazy sizes sizeMappings targeting uid d x static mobile prebid size x tier static loading lazy position layout wrappingClass sideBoxStackedAdWrap requiresContentHeight true requiresSidebarFloat true prebid code display ad section drugs cdi lazy sizes sizeMappings targeting uid d x static mobile prebid size x tier static loading lazy position layout wrappingClass sideBoxStackedAdWrap requiresContentHeight true requiresSidebarFloat true prebid code display ad section drugs cdi lazy sizes sizeMappings targeting uid d x static mobile prebid size x tier static loading lazy position layout wrappingClass sideBoxStackedAdWrap requiresContentHeight true requiresSidebarFloat true prebid code display ad section drugs cdi lazy sizes sizeMappings targeting uid d x static mobile prebid size x tier static loading lazy position layout wrappingClass sideBoxStackedAdWrap requiresContentHeight true requiresSidebarFloat true prebid code display ad section drugs cdi lazy sizes sizeMappings targeting uid d x static mobile prebid size x tier static loading lazy position layout wrappingClass sideBoxStackedAdWrap requiresContentHeight true requiresSidebarFloat true prebid injection lazy maximum ads tags container content start nav tabs h h stop footer feature sidebar last buffer insert section h h h h p ol ul table ddc legend ddc media nav tabs nav tabs group responsive table wrap blacklist form ol ul dl table blackboxWarning ddc accordion ddc box ddc card ddc card group ddc form inline ddc expand read more ddc grid ddc inset text ddc legend ddc media ddc notification ddc paging ddc reference list ddc toc ddc widget calculator injection ignore inside nav tabs nav tabs group paging list wrap responsive table wrap referenceList snippet ddc official answer list position type Prebid width height buffer viewportPercent minBuffer lazy data section drugs cdi lazy sizes sizeMappings targeting uid d x auto mobile prebid size x tier auto prebid conditional minWidth fallback position type Prebid width height buffer viewportPercent minBuffer lazy data section drugs cdi lazy sizes sizeMappings targeting uid d mrec mobile prebid size x tier auto prebid position type Prebid width height buffer lazy data section drugs cdi lazy sizes sizeMappings targeting uid d x auto mobile prebid size x tier auto prebid conditional minWidth fallback position type Prebid width height buffer lazy data section drugs cdi lazy sizes sizeMappings targeting uid d x auto mobile prebid size x tier auto prebid repeat position type Prebid width height buffer lazy data section drugs cdi lazy sizes sizeMappings targeting uid d x auto mobile prebid size x tier auto prebid conditional minWidth fallback position type Prebid width height buffer lazy data section drugs cdi lazy sizes sizeMappings targeting uid d x auto mobile prebid size x tier auto prebid nativeApp version appSrc memoryWarning log ads fixable items targetSelector topbanner wrap delay leaderboard true containerSelector contentWrap targetSelector sideBoxStackedAd delay maximizeStickyHeight true containerSelector contentWrap targetSelector sideBoxStackedAd delay maximizeStickyHeight true containerSelector contentWrap targetSelector sideBoxStackedAd delay maximizeStickyHeight true containerSelector contentWrap targetSelector sideBoxStackedAd delay maximizeStickyHeight true containerSelector contentWrap targetSelector sideBoxStackedAd delay maximizeStickyHeight true containerSelector contentWrap targetSelector sideBoxStackedAd delay maximizeStickyHeight true containerSelector contentWrap targetSelector sideBoxStackedAd delay maximizeStickyHeight true containerSelector contentWrap targetSelector sideBoxStackedAd delay maximizeStickyHeight true containerSelector contentWrap targetSelector sideBoxStackedAd delay maximizeStickyHeight true containerSelector contentWrap targetSelector sideBoxStackedAd delay maximizeStickyHeight true toc interaction isDeferredSave false url interaction list param drugList drug list listId interaction list id identityLink api url api user cookie link pbjs identitylink data pbjs identitydata window dataLayer window dataLayer window dataLayer push gtm start new Date getTime event gtm js window dataLayer push event pageview drug name coal tar salicylic acid topical drug id ddc id condition ids zone ids user signed in No user ilink No page index status index follow page orphan No page traffic op No content type Drug content section Medfacts Consumer content sub section Medfacts Consumer content audience Consumer content language English content size Medium Page content ugc No app source Web ads pro No var comscore comscore comscore push c c function Copyright The Closure Library Authors SPDX License Identifier Apache use strict var g function a var b return function return b a length done value a b done l this self m w p null q function r function a var b typeof a if object b if a if a instanceof Array return array if a instanceof Object return b var c Object prototype toString call a if object Window c return object if object Array c number typeof a length undefined typeof a splice undefined typeof a propertyIsEnumerable a propertyIsEnumerable splice return array if object Function c undefined typeof a call undefined typeof a propertyIsEnumerable a propertyIsEnumerable call return function else return null else if function b undefined typeof a call return object return b u function a b function c c prototype b prototype a prototype new c a prototype constructor a var v function a b Object defineProperty l a configurable get function return b set q var y function a b this b a w b this a x x w var aa function a b a src b instanceof y b constructor y b a x b b type error TrustedResourceUrl if null p b b l document if b b querySelector b querySelector script nonce b b nonce b getAttribute nonce m test b p b break b p b p b a setAttribute nonce b var z function return Math floor Math random toString Math abs Math floor Math random new Date toString var A function a b b String b application xhtml xml a contentType b b toLowerCase return a createElement b B function a this a a l document document B prototype appendChild function a b a appendChild b var C function a b c d e f try var k a a h A a a SCRIPT h async aa h b k head appendChild h h addEventListener load function e d k head removeChild h h addEventListener error function c C a b c d e f d k head removeChild h f catch n f var ba l atob aHR cHM Ly d cuZ N YXRpYy jb vaW hZ VzL ljb zL hdGVyaWFsL N c RlbS xeC YXJuaW nX FtYmVyXzI ZHAucG n ca l atob WW IGFyZSBzZWVpbmcgdGhpcyBtZXNzYWdlIGJlY F c UgYWQgb Igc NyaXB IGJsb NraW nIHNvZnR YXJlIGlzIGludGVyZmVyaW nIHdpdGggdGhpcyBwYWdlLg da l atob RGlzYWJsZSBhbnkgYWQgb Igc NyaXB IGJsb NraW nIHNvZnR YXJlLCB aGVuIHJlbG hZCB aGlzIHBhZ Uu ea function a b c this b a this f new B this b this a null this c this g this i b this h c F function a if a b body a g var b function D a l setTimeout function return E a C a f a i function l a h b b a g D function a for var b G c c b c var d H a a b body appendChild d a c push d b H a b style bottom b style left b style position fixed b style width G toString b style zIndex G toString b style background color I b style box shadow px b style color I b style display flex b style justify content center b style font family Roboto Arial c H a c style width G toString c style maxWidth G toString px c style margin px c style display flex c style align items flex start c style justify content center d A a f a IMG d className z d src ba d style height px d style width px d style padding right px var e H a f H a f style font weight bold f textContent ca var k H a k textContent da J a e f J a e k J a c d J a c e J a b c a a b a b body appendChild a a b G for c c b c d H a a b body appendChild d a c push d J function a b c for var d G e e d e var f H a b appendChild f b appendChild c c G for d d c d e H a b appendChild e G function a b return Math floor a Math random b a I function a b c d e f return rgb G Math max a Math min b toString G Math max c Math min d toString G Math max e Math min f toString H function a a A a f a DIV a className z return a E function a b b null a a a a offsetHeight a a offsetWidth fa a D a l setTimeout function return E a b fa function a var b a c var c undefined typeof Symbol Symbol iterator b Symbol iterator b c c call b next g b for c b next c done c b next c c value c parentNode c parentNode removeChild c a c b a a b parentNode b parentNode removeChild b a a null var ia function a b c d e var f ha c k function n n appendChild f l setTimeout function f f offsetHeight f offsetWidth b a f parentNode f parentNode removeChild f a d h function n document body k document body n l setTimeout function h n e b h ha function a var b document createElement div b className a b style width px b style height px b style position absolute b style left px b style top px b style zIndex return b var K L null var M function N function typeof Uint Array O function a b a b null b b a j void a f a a b a if b a a length b var c a a b if null c object typeof c Array isArray c N c instanceof Uint Array a g b a f a c c break a a g Number MAX VALUE a i P Q function a b if b a g b a f var c a a b return c P a a b c if a c return c a c b c P a c b c R function a b c a b a b if a b c var d Q a c d a b c new b d return a b c M prototype h N function var a Uint Array prototype toJSON Uint Array prototype toJSON function var b void b b if L L for var c ABCDEFGHIJKLMNOPQRSTUVWXYZabcdefghijklmnopqrstuvwxyz split d e e e var f c concat d e split K e f for var k k f length k var h f k void L h L h k b K b c for d d this length d var n this d t e d this length this d h f d this length this d k n n n t t t h h f h e t c push b k b n b t b h return c join try return JSON stringify this a this a S finally Uint Array prototype toJSON a function return JSON stringify this a this a S var S function a b return number typeof b isNaN b Infinity b Infinity b b String b M prototype toString function return this a toString var T function a O this a u T M var U function a O this a u U M var ja function a b this c new B a var c R b T c new y w Q c this b new ea a c Q b this a b ka function a b c d b new T b JSON parse b null b new y w Q b C a c b c function ia function F a b d function d Q a a Q a a Q a a var la function a b V a internal api load with sb function c d e ka b c d e V a internal api sb function F b b V function a b c a l btoa a b v a c W function a b c for var d e e arguments length e d e arguments e e l btoa a b e l e if function r e e apply null d else throw Error API not exported var X function a O this a u X M var Y function a this h window this a a this b Q this a this f R this a T this g R this a U this c Y prototype start function ma var a new ja this h document this g la this b a na this var ma function var a function if l frames googlefcPresent if document body var b document createElement iframe b style display none b style width px b style height px b style border none b style zIndex b style left px b style top px b name googlefcPresent document body appendChild b else l setTimeout a a na function a var b Date now W a b internal api load with sb a f h function var c var d a b e l l btoa d loader js if e e l atob e e parseInt e d l btoa d loader js split var f l d in f undefined typeof f execScript f execScript var d for d length c d shift d length f c f c Object prototype c f f c f f c f c null c Math abs b e c E c c else c c W a b internal api sb Z a Q a a function c Z a c Q a a Q a a Z function a b a c a c a new l XMLHttpRequest a open GET b a send function a b l a function c for var d e e arguments length e d e arguments e l a q b apply null d d lUW vwsKlB function a function typeof window atob a window atob a a new X a JSON parse a null new Y a start call this window d lUW vwsKlB WyIyYzZlMmQxOTc M U ZGEzIixbbnVsbCxudWxsLG bGwsImh dHBzOi vZnVuZGluZ Nob ljZXNtZXNzYWdlcy nb nbGUuY tL YvQUdTS d VmZTeHR VzVfLXo NlYxeGhodEk M bE MjJJTkdmZ Rqck aZkM V plV xnQ w cW NkRsM luZ QtSmQ bXZsc s QXJnUWJMRnBtbW ZY x MDAzZCJdCixbMjAsImRpdi ncHQtYWQiLDEwMCwiTW NMlpUSmtNVGszTlRObE XUmhNd x MDAzZFx MDAzZCIsW bGwsbnVsbCxudWxsLCJodHRwczovL d dy nc RhdGljLmNvbS wZW uL YvcC yYzZlMmQxOTc M U ZGEzLmpzP VzcXBcdTAwM RDQkkiXQpdCiwiaHR cHM Ly mdW kaW nY hvaWNlc lc NhZ VzLmdvb dsZS jb vbC BR NLV hVQlJCUV HOGlYM NDQUpKT RM lLNG LYzNrUkNyeW Tk JVkhZUGo WUswWndVRVI aHI N FBRnQ cl lODJRWWU Zkp S M o dVpqP FiXHUwMDNkMSIsImh dHBzOi vZnVuZGluZ Nob ljZXNtZXNzYWdlcy nb nbGUuY tL wvQUdTS d WE yRjJUOWFjVE kQzB UXE UVczNjZDd h X dMZVpLYk wcVAyM c ZXd UHM ajdCNTlsRlM RVZERUVhUWRGNUF SW vM RVQzcyUWg VD hYlx MDAzZDJcdTAwMjZzYmZcdTAwM QxIiwiaHR cHM Ly mdW kaW nY hvaWNlc lc NhZ VzLmdvb dsZS jb vbC BR NLV hXR lwVEdYWUxWU FKQloxQTJkUjk S t MHg NjBJelpzLW ZZHllTjRSUDNfNlZnTzMxRG xU VjTzNsSlIyaFpuckpQeFNweUNfSGluMVVxP NiZlx MDAzZDIiXQo '"
      ]
     },
     "execution_count": 393,
     "metadata": {},
     "output_type": "execute_result"
    }
   ],
   "source": [
    "dataset['side_effects'][2530]"
   ]
  },
  {
   "cell_type": "code",
   "execution_count": 394,
   "id": "5b5a216a",
   "metadata": {
    "scrolled": true
   },
   "outputs": [],
   "source": [
    "dataset.drop(labels = [1858, 2530], axis=0, inplace=True )"
   ]
  },
  {
   "cell_type": "code",
   "execution_count": 395,
   "id": "49d5ff9a",
   "metadata": {},
   "outputs": [],
   "source": [
    "length_items_post = []\n",
    "\n",
    "for item in dataset['side_effects']:\n",
    "    length_items_post.append(len(item.split()))"
   ]
  },
  {
   "cell_type": "code",
   "execution_count": 396,
   "id": "450aeda6",
   "metadata": {},
   "outputs": [],
   "source": [
    "data_X = dataset['side_effects']\n",
    "data_y = dataset['drug_classes']"
   ]
  },
  {
   "cell_type": "code",
   "execution_count": 397,
   "id": "96fced4b",
   "metadata": {},
   "outputs": [],
   "source": [
    "length_items_post = pd.DataFrame(length_items_post, columns=['n. of words'])"
   ]
  },
  {
   "cell_type": "code",
   "execution_count": 398,
   "id": "723c3c6d",
   "metadata": {},
   "outputs": [
    {
     "data": {
      "text/html": [
       "<div>\n",
       "<style scoped>\n",
       "    .dataframe tbody tr th:only-of-type {\n",
       "        vertical-align: middle;\n",
       "    }\n",
       "\n",
       "    .dataframe tbody tr th {\n",
       "        vertical-align: top;\n",
       "    }\n",
       "\n",
       "    .dataframe thead th {\n",
       "        text-align: right;\n",
       "    }\n",
       "</style>\n",
       "<table border=\"1\" class=\"dataframe\">\n",
       "  <thead>\n",
       "    <tr style=\"text-align: right;\">\n",
       "      <th></th>\n",
       "      <th>n. of words</th>\n",
       "    </tr>\n",
       "  </thead>\n",
       "  <tbody>\n",
       "    <tr>\n",
       "      <th>0</th>\n",
       "      <td>216</td>\n",
       "    </tr>\n",
       "    <tr>\n",
       "      <th>1</th>\n",
       "      <td>80</td>\n",
       "    </tr>\n",
       "    <tr>\n",
       "      <th>2</th>\n",
       "      <td>207</td>\n",
       "    </tr>\n",
       "    <tr>\n",
       "      <th>3</th>\n",
       "      <td>166</td>\n",
       "    </tr>\n",
       "    <tr>\n",
       "      <th>4</th>\n",
       "      <td>79</td>\n",
       "    </tr>\n",
       "    <tr>\n",
       "      <th>...</th>\n",
       "      <td>...</td>\n",
       "    </tr>\n",
       "    <tr>\n",
       "      <th>2733</th>\n",
       "      <td>294</td>\n",
       "    </tr>\n",
       "    <tr>\n",
       "      <th>2734</th>\n",
       "      <td>120</td>\n",
       "    </tr>\n",
       "    <tr>\n",
       "      <th>2735</th>\n",
       "      <td>259</td>\n",
       "    </tr>\n",
       "    <tr>\n",
       "      <th>2736</th>\n",
       "      <td>247</td>\n",
       "    </tr>\n",
       "    <tr>\n",
       "      <th>2737</th>\n",
       "      <td>95</td>\n",
       "    </tr>\n",
       "  </tbody>\n",
       "</table>\n",
       "<p>2738 rows × 1 columns</p>\n",
       "</div>"
      ],
      "text/plain": [
       "      n. of words\n",
       "0             216\n",
       "1              80\n",
       "2             207\n",
       "3             166\n",
       "4              79\n",
       "...           ...\n",
       "2733          294\n",
       "2734          120\n",
       "2735          259\n",
       "2736          247\n",
       "2737           95\n",
       "\n",
       "[2738 rows x 1 columns]"
      ]
     },
     "execution_count": 398,
     "metadata": {},
     "output_type": "execute_result"
    }
   ],
   "source": [
    "length_items_post"
   ]
  },
  {
   "cell_type": "code",
   "execution_count": 399,
   "id": "8708b0d4",
   "metadata": {},
   "outputs": [
    {
     "data": {
      "image/png": "[encoded data removed]",
      "text/plain": [
       "<Figure size 640x480 with 1 Axes>"
      ]
     },
     "metadata": {},
     "output_type": "display_data"
    }
   ],
   "source": [
    "plt.boxplot(length_items_post)\n",
    "plt.show()"
   ]
  },
  {
   "cell_type": "markdown",
   "id": "8b809e57",
   "metadata": {},
   "source": [
    "It would be more convenient to have a function to recheck the length and sketch the box plot, so with the labels here we go ... However the data is even more clean and we can tokenize and pad the data. "
   ]
  },
  {
   "cell_type": "code",
   "execution_count": 401,
   "id": "9c6703cb",
   "metadata": {},
   "outputs": [],
   "source": [
    "def n_words(sentence):\n",
    "    \n",
    "    length_items = []\n",
    "    \n",
    "    for item in sentence:\n",
    "        length_items.append(len(item.split()))\n",
    "    \n",
    "    return length_items"
   ]
  },
  {
   "cell_type": "code",
   "execution_count": 407,
   "id": "e780d5b0",
   "metadata": {},
   "outputs": [],
   "source": [
    "length_labels = pd.DataFrame(n_words(dataset['drug_classes']), columns = ['n. of words'])"
   ]
  },
  {
   "cell_type": "code",
   "execution_count": 408,
   "id": "8ddcf794",
   "metadata": {},
   "outputs": [
    {
     "data": {
      "text/html": [
       "<div>\n",
       "<style scoped>\n",
       "    .dataframe tbody tr th:only-of-type {\n",
       "        vertical-align: middle;\n",
       "    }\n",
       "\n",
       "    .dataframe tbody tr th {\n",
       "        vertical-align: top;\n",
       "    }\n",
       "\n",
       "    .dataframe thead th {\n",
       "        text-align: right;\n",
       "    }\n",
       "</style>\n",
       "<table border=\"1\" class=\"dataframe\">\n",
       "  <thead>\n",
       "    <tr style=\"text-align: right;\">\n",
       "      <th></th>\n",
       "      <th>n. of words</th>\n",
       "    </tr>\n",
       "  </thead>\n",
       "  <tbody>\n",
       "    <tr>\n",
       "      <th>count</th>\n",
       "      <td>2738.000000</td>\n",
       "    </tr>\n",
       "    <tr>\n",
       "      <th>mean</th>\n",
       "      <td>2.624909</td>\n",
       "    </tr>\n",
       "    <tr>\n",
       "      <th>std</th>\n",
       "      <td>1.409268</td>\n",
       "    </tr>\n",
       "    <tr>\n",
       "      <th>min</th>\n",
       "      <td>1.000000</td>\n",
       "    </tr>\n",
       "    <tr>\n",
       "      <th>25%</th>\n",
       "      <td>2.000000</td>\n",
       "    </tr>\n",
       "    <tr>\n",
       "      <th>50%</th>\n",
       "      <td>2.000000</td>\n",
       "    </tr>\n",
       "    <tr>\n",
       "      <th>75%</th>\n",
       "      <td>3.000000</td>\n",
       "    </tr>\n",
       "    <tr>\n",
       "      <th>max</th>\n",
       "      <td>11.000000</td>\n",
       "    </tr>\n",
       "  </tbody>\n",
       "</table>\n",
       "</div>"
      ],
      "text/plain": [
       "       n. of words\n",
       "count  2738.000000\n",
       "mean      2.624909\n",
       "std       1.409268\n",
       "min       1.000000\n",
       "25%       2.000000\n",
       "50%       2.000000\n",
       "75%       3.000000\n",
       "max      11.000000"
      ]
     },
     "execution_count": 408,
     "metadata": {},
     "output_type": "execute_result"
    }
   ],
   "source": [
    "length_labels.describe()"
   ]
  },
  {
   "cell_type": "code",
   "execution_count": 409,
   "id": "79a90bec",
   "metadata": {},
   "outputs": [
    {
     "data": {
      "image/png": "[encoded data removed]",
      "text/plain": [
       "<Figure size 640x480 with 1 Axes>"
      ]
     },
     "metadata": {},
     "output_type": "display_data"
    }
   ],
   "source": [
    "plt.boxplot(length_labels)\n",
    "plt.show()"
   ]
  },
  {
   "cell_type": "code",
   "execution_count": 411,
   "id": "b1b03263",
   "metadata": {},
   "outputs": [
    {
     "data": {
      "text/html": [
       "<div>\n",
       "<style scoped>\n",
       "    .dataframe tbody tr th:only-of-type {\n",
       "        vertical-align: middle;\n",
       "    }\n",
       "\n",
       "    .dataframe tbody tr th {\n",
       "        vertical-align: top;\n",
       "    }\n",
       "\n",
       "    .dataframe thead th {\n",
       "        text-align: right;\n",
       "    }\n",
       "</style>\n",
       "<table border=\"1\" class=\"dataframe\">\n",
       "  <thead>\n",
       "    <tr style=\"text-align: right;\">\n",
       "      <th></th>\n",
       "      <th>n. of words</th>\n",
       "    </tr>\n",
       "  </thead>\n",
       "  <tbody>\n",
       "    <tr>\n",
       "      <th>748</th>\n",
       "      <td>11</td>\n",
       "    </tr>\n",
       "    <tr>\n",
       "      <th>749</th>\n",
       "      <td>11</td>\n",
       "    </tr>\n",
       "    <tr>\n",
       "      <th>755</th>\n",
       "      <td>11</td>\n",
       "    </tr>\n",
       "    <tr>\n",
       "      <th>765</th>\n",
       "      <td>11</td>\n",
       "    </tr>\n",
       "    <tr>\n",
       "      <th>770</th>\n",
       "      <td>11</td>\n",
       "    </tr>\n",
       "    <tr>\n",
       "      <th>771</th>\n",
       "      <td>11</td>\n",
       "    </tr>\n",
       "    <tr>\n",
       "      <th>773</th>\n",
       "      <td>11</td>\n",
       "    </tr>\n",
       "    <tr>\n",
       "      <th>775</th>\n",
       "      <td>11</td>\n",
       "    </tr>\n",
       "    <tr>\n",
       "      <th>777</th>\n",
       "      <td>11</td>\n",
       "    </tr>\n",
       "    <tr>\n",
       "      <th>778</th>\n",
       "      <td>11</td>\n",
       "    </tr>\n",
       "    <tr>\n",
       "      <th>780</th>\n",
       "      <td>11</td>\n",
       "    </tr>\n",
       "    <tr>\n",
       "      <th>782</th>\n",
       "      <td>11</td>\n",
       "    </tr>\n",
       "    <tr>\n",
       "      <th>1917</th>\n",
       "      <td>11</td>\n",
       "    </tr>\n",
       "    <tr>\n",
       "      <th>1923</th>\n",
       "      <td>11</td>\n",
       "    </tr>\n",
       "    <tr>\n",
       "      <th>1925</th>\n",
       "      <td>11</td>\n",
       "    </tr>\n",
       "    <tr>\n",
       "      <th>1926</th>\n",
       "      <td>11</td>\n",
       "    </tr>\n",
       "    <tr>\n",
       "      <th>1927</th>\n",
       "      <td>9</td>\n",
       "    </tr>\n",
       "    <tr>\n",
       "      <th>1928</th>\n",
       "      <td>11</td>\n",
       "    </tr>\n",
       "    <tr>\n",
       "      <th>1936</th>\n",
       "      <td>11</td>\n",
       "    </tr>\n",
       "  </tbody>\n",
       "</table>\n",
       "</div>"
      ],
      "text/plain": [
       "      n. of words\n",
       "748            11\n",
       "749            11\n",
       "755            11\n",
       "765            11\n",
       "770            11\n",
       "771            11\n",
       "773            11\n",
       "775            11\n",
       "777            11\n",
       "778            11\n",
       "780            11\n",
       "782            11\n",
       "1917           11\n",
       "1923           11\n",
       "1925           11\n",
       "1926           11\n",
       "1927            9\n",
       "1928           11\n",
       "1936           11"
      ]
     },
     "execution_count": 411,
     "metadata": {},
     "output_type": "execute_result"
    }
   ],
   "source": [
    "length_labels.loc[length_labels['n. of words'] > 8]"
   ]
  },
  {
   "cell_type": "markdown",
   "id": "06e02216",
   "metadata": {},
   "source": [
    "Dataset is not huge at all, so I will keep the data and padd the rest to total length 11."
   ]
  },
  {
   "cell_type": "code",
   "execution_count": 420,
   "id": "5035d0d6",
   "metadata": {
    "scrolled": true
   },
   "outputs": [
    {
     "data": {
      "text/plain": [
       "((2738,), (2738,))"
      ]
     },
     "execution_count": 420,
     "metadata": {},
     "output_type": "execute_result"
    }
   ],
   "source": [
    "data_X.shape, data_y.shape"
   ]
  },
  {
   "cell_type": "code",
   "execution_count": 422,
   "id": "5c2767e6",
   "metadata": {},
   "outputs": [],
   "source": [
    "## Removing of stop words from data_X to decrease the complexity of data.\n",
    "\n",
    "def remove_stopwords(sentence):\n",
    "   \n",
    "\n",
    "    stopwords = [\"a\", \"about\", \"above\", \"after\", \"again\", \"against\", \"all\", \"am\", \"an\", \"and\", \"any\", \"are\", \"as\", \"at\", \"be\", \"because\", \"been\", \"before\", \"being\", \"below\", \"between\", \"both\", \"but\", \"by\", \"could\", \"did\", \"do\", \"does\", \"doing\", \"down\", \"during\", \"each\", \"few\", \"for\", \"from\", \"further\", \"had\", \"has\", \"have\", \"having\", \"he\", \"he'd\", \"he'll\", \"he's\", \"her\", \"here\", \"here's\", \"hers\", \"herself\", \"him\", \"himself\", \"his\", \"how\", \"how's\", \"i\", \"i'd\", \"i'll\", \"i'm\", \"i've\", \"if\", \"in\", \"into\", \"is\", \"it\", \"it's\", \"its\", \"itself\", \"let's\", \"me\", \"more\", \"most\", \"my\", \"myself\", \"nor\", \"of\", \"on\", \"once\", \"only\", \"or\", \"other\", \"ought\", \"our\", \"ours\", \"ourselves\", \"out\", \"over\", \"own\", \"same\", \"she\", \"she'd\", \"she'll\", \"she's\", \"should\", \"so\", \"some\", \"such\", \"than\", \"that\", \"that's\", \"the\", \"their\", \"theirs\", \"them\", \"themselves\", \"then\", \"there\", \"there's\", \"these\", \"they\", \"they'd\", \"they'll\", \"they're\", \"they've\", \"this\", \"those\", \"through\", \"to\", \"too\", \"under\", \"until\", \"up\", \"very\", \"was\", \"we\", \"we'd\", \"we'll\", \"we're\", \"we've\", \"were\", \"what\", \"what's\", \"when\", \"when's\", \"where\", \"where's\", \"which\", \"while\", \"who\", \"who's\", \"whom\", \"why\", \"why's\", \"with\", \"would\", \"you\", \"you'd\", \"you'll\", \"you're\", \"you've\", \"your\", \"yours\", \"yourself\", \"yourselves\" ]\n",
    "    sentence = sentence.lower()\n",
    "    sentence_split = sentence.split()    \n",
    "    result_words = [word for word in sentence_split if word not in stopwords]\n",
    "    sentence = \" \".join(result_words)\n",
    "    \n",
    "\n",
    "    return sentence"
   ]
  },
  {
   "cell_type": "code",
   "execution_count": 437,
   "id": "cb34a4fa",
   "metadata": {},
   "outputs": [],
   "source": [
    "data_X_clean = data_X.apply(remove_stopwords)"
   ]
  },
  {
   "cell_type": "code",
   "execution_count": 438,
   "id": "9abf7685",
   "metadata": {},
   "outputs": [],
   "source": [
    "data_y_clean = data_y.apply(remove_stopwords)"
   ]
  },
  {
   "cell_type": "code",
   "execution_count": 440,
   "id": "08b706cf",
   "metadata": {},
   "outputs": [
    {
     "data": {
      "text/plain": [
       "0       hives difficult breathing swelling face throat...\n",
       "1       hives difficulty breathing swelling face lips ...\n",
       "2       skin rash fever swollen glands flu like sympto...\n",
       "3       problems vision hearing muscle joint pain bone...\n",
       "4       hives difficult breathing swelling face lips t...\n",
       "                              ...                        \n",
       "2735    along needed effects medicine may cause unwant...\n",
       "2736    hives difficulty breathing swelling face lips ...\n",
       "2737    hives difficult breathing swelling face lips t...\n",
       "2738    imcivree may cause serious side effects includ...\n",
       "2739    hives difficult breathing swelling face lips t...\n",
       "Name: side_effects, Length: 2738, dtype: object"
      ]
     },
     "execution_count": 440,
     "metadata": {},
     "output_type": "execute_result"
    }
   ],
   "source": [
    "data_X_clean"
   ]
  },
  {
   "cell_type": "code",
   "execution_count": 442,
   "id": "7cc510b6",
   "metadata": {},
   "outputs": [],
   "source": [
    "length_items_after = pd.DataFrame(n_words(data_X_clean), columns = ['n. of words'])\n",
    "length_labels_after = pd.DataFrame(n_words(data_y_clean), columns = ['n. of words'])"
   ]
  },
  {
   "cell_type": "code",
   "execution_count": 443,
   "id": "3b3319b3",
   "metadata": {
    "scrolled": true
   },
   "outputs": [
    {
     "data": {
      "text/plain": [
       "(       n. of words\n",
       " count  2740.000000\n",
       " mean    177.005109\n",
       " std     173.679349\n",
       " min      11.000000\n",
       " 25%      97.000000\n",
       " 50%     145.500000\n",
       " 75%     207.000000\n",
       " max    5269.000000,\n",
       "        n. of words\n",
       " count  2738.000000\n",
       " mean    120.510592\n",
       " std      86.399219\n",
       " min       8.000000\n",
       " 25%      66.000000\n",
       " 50%     102.000000\n",
       " 75%     144.000000\n",
       " max     680.000000)"
      ]
     },
     "execution_count": 443,
     "metadata": {},
     "output_type": "execute_result"
    }
   ],
   "source": [
    "length_items.describe(), length_items_after.describe()"
   ]
  },
  {
   "cell_type": "markdown",
   "id": "76138300",
   "metadata": {},
   "source": [
    "I'm going to perform padding, it means for the shortest feature with only 11 words, we are going to apply \"0\" for all the words after the last word whereas the max is 680 words."
   ]
  },
  {
   "cell_type": "code",
   "execution_count": 444,
   "id": "0bfa1176",
   "metadata": {},
   "outputs": [
    {
     "data": {
      "text/plain": [
       "(       n. of words\n",
       " count  2738.000000\n",
       " mean      2.624909\n",
       " std       1.409268\n",
       " min       1.000000\n",
       " 25%       2.000000\n",
       " 50%       2.000000\n",
       " 75%       3.000000\n",
       " max      11.000000,\n",
       "        n. of words\n",
       " count  2738.000000\n",
       " mean      2.559533\n",
       " std       1.307184\n",
       " min       1.000000\n",
       " 25%       2.000000\n",
       " 50%       2.000000\n",
       " 75%       3.000000\n",
       " max      10.000000)"
      ]
     },
     "execution_count": 444,
     "metadata": {},
     "output_type": "execute_result"
    }
   ],
   "source": [
    "length_labels.describe(), length_labels_after.describe()"
   ]
  },
  {
   "cell_type": "markdown",
   "id": "432c8550",
   "metadata": {},
   "source": [
    "#### We have cleaned the data quite efficiently! \n",
    "__Original shape for features:__ 2740 x 5269\n",
    "<br>\n",
    "__Clean shape of features:__ 2738 x 680\n",
    "\n",
    "Thus the final features tensor has shape (rows/columns): __(2738, 680)__.\n",
    "\n",
    "Because we would like to get the exact simple answer for question, we will tokenize the labels quite differently and we will keep only one column, even there are more words. \n",
    "\n",
    "The final label tensor will shape (rows/columns): __(2738, 1)__."
   ]
  },
  {
   "cell_type": "code",
   "execution_count": 494,
   "id": "8f549a89",
   "metadata": {},
   "outputs": [
    {
     "name": "stdout",
     "output_type": "stream",
     "text": [
      "Previous length of first line = 1536 characters.\n",
      "New length of first line = 1160 characters\n",
      "We have shortened the line for 24.5 %.\n"
     ]
    }
   ],
   "source": [
    "## Let's have a look on first line, how much we have cleared the data in one example. \n",
    "\n",
    "previous = len(dataset['side_effects'][150])\n",
    "new = len(data_X_clean[150])\n",
    "print(f'Previous length of first line = {previous} characters.')\n",
    "print(f'New length of first line = {new} characters')\n",
    "print(f'We have shortened the line for {100 - (new/previous)*100:.01f} %.')"
   ]
  },
  {
   "cell_type": "code",
   "execution_count": 785,
   "id": "58321c6a",
   "metadata": {},
   "outputs": [],
   "source": [
    "features_list = []\n",
    "\n",
    "for item in data_X_clean:\n",
    "    features_list.append(item)"
   ]
  },
  {
   "cell_type": "code",
   "execution_count": 786,
   "id": "8105226c",
   "metadata": {},
   "outputs": [
    {
     "data": {
      "text/plain": [
       "(1124, 1124)"
      ]
     },
     "execution_count": 786,
     "metadata": {},
     "output_type": "execute_result"
    }
   ],
   "source": [
    "len(features_list[0]), len(data_X_clean[0])"
   ]
  },
  {
   "cell_type": "code",
   "execution_count": 787,
   "id": "185a9d39",
   "metadata": {},
   "outputs": [],
   "source": [
    "## After removing stop words, let's tokenize the data. \n",
    "\n",
    "def fit_tokenizer(sentences):\n",
    "\n",
    "    tokenizer = Tokenizer(oov_token=\"<oov>\")  \n",
    "    tokenizer.fit_on_texts(sentences)\n",
    "    \n",
    "    return tokenizer"
   ]
  },
  {
   "cell_type": "code",
   "execution_count": 788,
   "id": "c8a4bc42",
   "metadata": {
    "scrolled": true
   },
   "outputs": [
    {
     "name": "stdout",
     "output_type": "stream",
     "text": [
      "Vocabulary from features_list contains 4736 words.\n",
      "\n",
      "<OOV> token NOT included in vocabulary\n"
     ]
    }
   ],
   "source": [
    "tokenizer = fit_tokenizer(features_list)\n",
    "word_index = tokenizer.word_index\n",
    "\n",
    "print(f\"Vocabulary from features_list contains {len(word_index)} words.\\n\")\n",
    "print(\"<OOV> token included in vocabulary\" if \"<OOV>\" in word_index else \"<OOV> token NOT included in vocabulary\")"
   ]
  },
  {
   "cell_type": "code",
   "execution_count": 789,
   "id": "cf08574c",
   "metadata": {},
   "outputs": [],
   "source": [
    "## Let's pad the sequences now. \n",
    "\n",
    "def padded_features(tokenizer, data):\n",
    "\n",
    "    sequences = tokenizer.texts_to_sequences(data)\n",
    "\n",
    "    padded_features = pad_sequences(sequences, padding='post')\n",
    "\n",
    "    \n",
    "    return padded_features"
   ]
  },
  {
   "cell_type": "code",
   "execution_count": 790,
   "id": "2aeffd9f",
   "metadata": {},
   "outputs": [
    {
     "name": "stdout",
     "output_type": "stream",
     "text": [
      "First padded feature looks like this: \n",
      "\n",
      "[  23   46    9    8   13   10   14    6   63   28  109   10   70   47\n",
      "    6    5   62  249    6   44  337  332  170   95  222   40  155   43\n",
      "  229   63   80  333  685  672   59   42    4   25    6   44   28   86\n",
      "  183  225   31   42   34  254   14   27   35  110  116    6   47   63\n",
      "    4   32  637  393 1244   67  934  934    4   26   43    3    2   15\n",
      "   11   14   12    5   49  287  133   10  125   41  115   30    5  114\n",
      "   72 1043    7  127   53  161   93   58   94  202   38  341  368   28\n",
      "  142   86  183   59  254   27  154    6  211  110   64   14  434  217\n",
      "  138   29   21   50   20    5  597   47   18   65   85   12    5    4\n",
      "  616   81   69   21   37   56   72  104   98   48  130  116    6   47\n",
      "   17    3    2  934    4   25   21   37  165   12   18   65  128   49\n",
      "    6   44   45  892    6  239  346   45  338    0    0    0    0    0\n",
      "    0    0    0    0    0    0    0    0    0    0    0    0    0    0\n",
      "    0    0    0    0    0    0    0    0    0    0    0    0    0    0\n",
      "    0    0    0    0    0    0    0    0    0    0    0    0    0    0\n",
      "    0    0    0    0    0    0    0    0    0    0    0    0    0    0\n",
      "    0    0    0    0    0    0    0    0    0    0    0    0    0    0\n",
      "    0    0    0    0    0    0    0    0    0    0    0    0    0    0\n",
      "    0    0    0    0    0    0    0    0    0    0    0    0    0    0\n",
      "    0    0    0    0    0    0    0    0    0    0    0    0    0    0\n",
      "    0    0    0    0    0    0    0    0    0    0    0    0    0    0\n",
      "    0    0    0    0    0    0    0    0    0    0    0    0    0    0\n",
      "    0    0    0    0    0    0    0    0    0    0    0    0    0    0\n",
      "    0    0    0    0    0    0    0    0    0    0    0    0    0    0\n",
      "    0    0    0    0    0    0    0    0    0    0    0    0    0    0\n",
      "    0    0    0    0    0    0    0    0    0    0    0    0    0    0\n",
      "    0    0    0    0    0    0    0    0    0    0    0    0    0    0\n",
      "    0    0    0    0    0    0    0    0    0    0    0    0    0    0\n",
      "    0    0    0    0    0    0    0    0    0    0    0    0    0    0\n",
      "    0    0    0    0    0    0    0    0    0    0    0    0    0    0\n",
      "    0    0    0    0    0    0    0    0    0    0    0    0    0    0\n",
      "    0    0    0    0    0    0    0    0    0    0    0    0    0    0\n",
      "    0    0    0    0    0    0    0    0    0    0    0    0    0    0\n",
      "    0    0    0    0    0    0    0    0    0    0    0    0    0    0\n",
      "    0    0    0    0    0    0    0    0    0    0    0    0    0    0\n",
      "    0    0    0    0    0    0    0    0    0    0    0    0    0    0\n",
      "    0    0    0    0    0    0    0    0    0    0    0    0    0    0\n",
      "    0    0    0    0    0    0    0    0    0    0    0    0    0    0\n",
      "    0    0    0    0    0    0    0    0    0    0    0    0    0    0\n",
      "    0    0    0    0    0    0    0    0    0    0    0    0    0    0\n",
      "    0    0    0    0    0    0    0    0    0    0    0    0    0    0\n",
      "    0    0    0    0    0    0    0    0    0    0    0    0    0    0\n",
      "    0    0    0    0    0    0    0    0    0    0    0    0    0    0\n",
      "    0    0    0    0    0    0    0    0    0    0    0    0    0    0\n",
      "    0    0    0    0    0    0    0    0    0    0    0    0    0    0\n",
      "    0    0    0    0    0    0    0    0    0    0    0    0    0    0\n",
      "    0    0    0    0    0    0    0    0    0    0    0    0    0    0\n",
      "    0    0    0    0    0    0    0    0    0    0    0    0    0    0\n",
      "    0    0    0    0    0    0    0    0]\n",
      "\n",
      "Numpy array of all features has shape: (2738, 680)\n",
      "\n",
      "This means there are 2738 features in total and each one has a size of 680.\n"
     ]
    }
   ],
   "source": [
    "padded_features = padded_features(tokenizer, features_list)\n",
    "print(f\"First padded feature looks like this: \\n\\n{padded_features[0]}\\n\")\n",
    "print(f\"Numpy array of all features has shape: {padded_features.shape}\\n\")\n",
    "print(f\"This means there are {padded_features.shape[0]} features in total and each one has a size of {padded_features.shape[1]}.\")"
   ]
  },
  {
   "cell_type": "markdown",
   "id": "be274b5e",
   "metadata": {},
   "source": [
    "### As requried the padded shape (2738, 680) is equal to required shape (2738, 680) !"
   ]
  },
  {
   "cell_type": "code",
   "execution_count": 535,
   "id": "2a8e2ee6",
   "metadata": {},
   "outputs": [],
   "source": [
    "data_y_list = data_y_clean.to_list()"
   ]
  },
  {
   "cell_type": "code",
   "execution_count": 537,
   "id": "5a67ed9a",
   "metadata": {},
   "outputs": [
    {
     "data": {
      "text/plain": [
       "2738"
      ]
     },
     "execution_count": 537,
     "metadata": {},
     "output_type": "execute_result"
    }
   ],
   "source": [
    "len(data_y_list)"
   ]
  },
  {
   "cell_type": "code",
   "execution_count": 533,
   "id": "a7a01dbb",
   "metadata": {},
   "outputs": [
    {
     "data": {
      "text/plain": [
       "(272,)"
      ]
     },
     "execution_count": 533,
     "metadata": {},
     "output_type": "execute_result"
    }
   ],
   "source": [
    "data_y_clean.unique().shape"
   ]
  },
  {
   "cell_type": "code",
   "execution_count": 683,
   "id": "242d8dbb",
   "metadata": {},
   "outputs": [],
   "source": [
    "def label_dictionary(data):\n",
    "    label_list = data.to_list()\n",
    "    label_set = set(label_list)\n",
    "    label_dict = {}\n",
    "    for i, j in enumerate(label_set, start=4737):\n",
    "        label_dict[j] = i\n",
    "        \n",
    "    return label_dict"
   ]
  },
  {
   "cell_type": "code",
   "execution_count": 684,
   "id": "a9dab5b1",
   "metadata": {},
   "outputs": [],
   "source": [
    "label_sentence_index = label_dictionary(data_y_clean)"
   ]
  },
  {
   "cell_type": "code",
   "execution_count": 685,
   "id": "b0f973ba",
   "metadata": {},
   "outputs": [
    {
     "data": {
      "text/plain": [
       "{'laxatives': 4737,\n",
       " 'salicylates': 4738,\n",
       " 'miscellaneous gi agents': 4739,\n",
       " 'thiazide diuretics': 4740,\n",
       " 'angiotensin ii inhibitors calcium channel blockers': 4741,\n",
       " 'miscellaneous antineoplastics': 4742,\n",
       " 'antirheumatics immunosuppressants': 4743,\n",
       " 'barbiturate anticonvulsants': 4744,\n",
       " 'integrase strand transfer inhibitor': 4745,\n",
       " 'upper respiratory combinations': 4746,\n",
       " 'antihyperlipidemic combinations': 4747,\n",
       " 'topical non steroidal anti inflammatories': 4748,\n",
       " 'inhaled corticosteroids': 4749,\n",
       " 'glycoprotein platelet inhibitors': 4750,\n",
       " 'benzodiazepine anticonvulsants benzodiazepines miscellaneous antiemetics': 4751,\n",
       " 'estrogens': 4752,\n",
       " 'calcium channel blocking agents group iv antiarrhythmics': 4753,\n",
       " 'miscellaneous anticonvulsants': 4754,\n",
       " 'carbamate anticonvulsants': 4755,\n",
       " 'melanocortin receptor agonists': 4756,\n",
       " 'mouth throat products': 4757,\n",
       " 'gamma aminobutyric acid reuptake inhibitors': 4758,\n",
       " 'miscellaneous antihyperlipidemic agents': 4759,\n",
       " 'topical antipsoriatics': 4760,\n",
       " 'gonadotropins': 4761,\n",
       " 'antiviral boosters protease inhibitors': 4762,\n",
       " 'viscosupplementation agents': 4763,\n",
       " 'atypical antipsychotics': 4764,\n",
       " 'mitotic inhibitors': 4765,\n",
       " 'cox inhibitors': 4766,\n",
       " 'antirheumatics tnf alfa inhibitors': 4767,\n",
       " 'carbapenems beta lactamase inhibitors': 4768,\n",
       " 'allergenics': 4769,\n",
       " 'antiadrenergic agents peripherally acting': 4770,\n",
       " 'nonsteroidal anti inflammatory drugs': 4771,\n",
       " 'topical antibiotics': 4772,\n",
       " 'adamantane antivirals dopaminergic antiparkinsonism agents': 4773,\n",
       " 'angiotensin ii inhibitors thiazides': 4774,\n",
       " 'topical anesthetics': 4775,\n",
       " 'calcium channel blocking agents': 4776,\n",
       " 'miscellaneous anxiolytics sedatives hypnotics tricyclic antidepressants': 4777,\n",
       " 'tetracyclic antidepressants': 4778,\n",
       " 'beta lactamase inhibitors': 4779,\n",
       " 'aminosalicylates': 4780,\n",
       " 'antianginal agents': 4781,\n",
       " 'adrenergic bronchodilators': 4782,\n",
       " 'thrombolytics': 4783,\n",
       " 'leukotriene modifiers': 4784,\n",
       " 'heparins': 4785,\n",
       " 'topical acne agents topical keratolytics': 4786,\n",
       " 'carbonic anhydrase inhibitor anticonvulsants': 4787,\n",
       " 'thiazolidinediones': 4788,\n",
       " 'group ii antiarrhythmics non cardioselective beta blockers': 4789,\n",
       " 'group antiarrhythmics hydantoin anticonvulsants': 4790,\n",
       " 'antihyperlipidemic combinations miscellaneous antihypertensive combinations': 4791,\n",
       " 'topical steroids anti infectives': 4792,\n",
       " 'glycylcyclines': 4793,\n",
       " 'psoralens': 4794,\n",
       " 'natural penicillins': 4795,\n",
       " 'antipsoriatics': 4796,\n",
       " 'thioxanthenes': 4797,\n",
       " 'anthelmintics': 4798,\n",
       " 'potassium sparing diuretics thiazides': 4799,\n",
       " 'dopaminergic antiparkinsonism agents monoamine oxidase inhibitors': 4800,\n",
       " 'macrolides': 4801,\n",
       " 'sulfonamides': 4802,\n",
       " 'glucocorticoids inhaled corticosteroids': 4803,\n",
       " 'phenothiazine antiemetics phenothiazine antipsychotics': 4804,\n",
       " 'antihyperuricemic agents': 4805,\n",
       " 'antihistamines phenothiazine antiemetics': 4806,\n",
       " 'cholesterol absorption inhibitors': 4807,\n",
       " 'miscellaneous antivirals': 4808,\n",
       " 'bile acid sequestrants': 4809,\n",
       " 'topical acne agents topical antipsoriatics': 4810,\n",
       " 'potassium sparing diuretics': 4811,\n",
       " 'investigational drugs purine nucleosides': 4812,\n",
       " 'progestins': 4813,\n",
       " 'aminoglycosides': 4814,\n",
       " 'antigout agents': 4815,\n",
       " 'antimetabolites antipsoriatics antirheumatics immunosuppressants': 4816,\n",
       " 'antihistamines miscellaneous anxiolytics sedatives hypnotics': 4817,\n",
       " 'vasodilators': 4818,\n",
       " 'analgesic combinations': 4819,\n",
       " 'miscellaneous antipsychotic agents': 4820,\n",
       " 'cd monoclonal antibodies': 4821,\n",
       " 'parathyroid hormone analogs': 4822,\n",
       " 'skeletal muscle relaxant combinations': 4823,\n",
       " 'beta blockers thiazides': 4824,\n",
       " 'ace inhibitors calcium channel blocking agents': 4825,\n",
       " 'atypical antipsychotics miscellaneous antiemetics': 4826,\n",
       " 'penicillinase resistant penicillins': 4827,\n",
       " 'insulin': 4828,\n",
       " 'antiadrenergic agents central thiazides': 4829,\n",
       " 'next generation cephalosporins': 4830,\n",
       " 'skeletal muscle relaxants': 4831,\n",
       " 'dipeptidyl peptidase inhibitors': 4832,\n",
       " 'topical antihistamines': 4833,\n",
       " 'psychotherapeutic combinations': 4834,\n",
       " 'neuraminidase inhibitors': 4835,\n",
       " 'triazine anticonvulsants': 4836,\n",
       " 'third generation cephalosporins': 4837,\n",
       " 'fibric acid derivatives': 4838,\n",
       " 'anticholinergic bronchodilators': 4839,\n",
       " 'vitamins': 4840,\n",
       " 'antimanic agents': 4841,\n",
       " 'selective serotonin reuptake inhibitors': 4842,\n",
       " 'monoamine oxidase inhibitors': 4843,\n",
       " 'probiotics': 4844,\n",
       " 'inhaled anti infectives neuraminidase inhibitors': 4845,\n",
       " 'aminopenicillins': 4846,\n",
       " 'cephalosporins': 4847,\n",
       " 'aldosterone receptor antagonists potassium sparing diuretics': 4848,\n",
       " 'anticholinergic antiparkinson agents antihistamines miscellaneous anxiolytics sedatives hypnotics': 4849,\n",
       " 'glucocorticoids': 4850,\n",
       " 'miscellaneous antimalarials tetracyclines': 4851,\n",
       " 'topical acne agents topical antibiotics': 4852,\n",
       " 'gi stimulants miscellaneous antiemetics': 4853,\n",
       " 'contraceptives sex hormone combinations': 4854,\n",
       " 'expectorants': 4855,\n",
       " 'antimetabolites': 4856,\n",
       " 'quinolones': 4857,\n",
       " 'general anesthetics': 4858,\n",
       " 'loop diuretics': 4859,\n",
       " 'ampa receptor antagonists': 4860,\n",
       " 'barbiturates': 4861,\n",
       " 'tnf alfa inhibitors': 4862,\n",
       " 'second generation cephalosporins': 4863,\n",
       " 'bisphosphonates': 4864,\n",
       " 'anorexiants': 4865,\n",
       " 'antibiotics antineoplastics': 4866,\n",
       " 'carbapenems': 4867,\n",
       " 'antacids': 4868,\n",
       " 'interferons': 4869,\n",
       " 'antidiarrheals probiotics': 4870,\n",
       " 'vitamin mineral combinations': 4871,\n",
       " 'antimalarial quinolines antirheumatics': 4872,\n",
       " 'alkylating agents': 4873,\n",
       " 'phenylpiperazine antidepressants': 4874,\n",
       " 'aminosalicylates antirheumatics': 4875,\n",
       " 'phenothiazine antipsychotics': 4876,\n",
       " 'anorexiants cns stimulants miscellaneous anticonvulsants': 4877,\n",
       " 'impotence agents': 4878,\n",
       " 'alpha adrenoreceptor antagonists antiadrenergic agents peripherally acting': 4879,\n",
       " 'antidiabetic combinations': 4880,\n",
       " 'miscellaneous antineoplastics miscellaneous uncategorized agents': 4881,\n",
       " 'antianginal agents vasodilators': 4882,\n",
       " 'pcsk inhibitors': 4883,\n",
       " 'non sulfonylureas': 4884,\n",
       " 'anorectal preparations': 4885,\n",
       " 'nasal antihistamines decongestants': 4886,\n",
       " 'otic steroids': 4887,\n",
       " 'calcitonin': 4888,\n",
       " 'nasal antihistamines decongestants nasal steroids': 4889,\n",
       " 'topical acne agents vaginal anti infectives': 4890,\n",
       " 'amylin analogs': 4891,\n",
       " 'miscellaneous genitourinary tract agents': 4892,\n",
       " 'antacids laxatives': 4893,\n",
       " 'topical rubefacient': 4894,\n",
       " 'miscellaneous antihypertensive combinations': 4895,\n",
       " 'oxazolidinone antibiotics': 4896,\n",
       " 'thyroid drugs': 4897,\n",
       " 'cephalosporins beta lactamase inhibitors': 4898,\n",
       " 'succinimide anticonvulsants': 4899,\n",
       " 'somatostatin somatostatin analogs': 4900,\n",
       " 'nnrtis': 4901,\n",
       " 'cholinesterase inhibitors': 4902,\n",
       " 'non cardioselective beta blockers': 4903,\n",
       " 'first generation cephalosporins': 4904,\n",
       " 'urinary antispasmodics': 4905,\n",
       " 'agents pulmonary hypertension impotence agents': 4906,\n",
       " 'immune globulins': 4907,\n",
       " 'miscellaneous central nervous system agents': 4908,\n",
       " 'antirheumatics interleukin inhibitors': 4909,\n",
       " 'antirheumatics selective immunosuppressants': 4910,\n",
       " 'barbiturate anticonvulsants barbiturates': 4911,\n",
       " 'impotence agents vasodilators': 4912,\n",
       " 'aminoglycosides inhaled anti infectives': 4913,\n",
       " 'antigout agents antihyperuricemic agents': 4914,\n",
       " 'interleukin inhibitors': 4915,\n",
       " 'alpha glucosidase inhibitors': 4916,\n",
       " 'fourth generation cephalosporins': 4917,\n",
       " 'antiasthmatic combinations': 4918,\n",
       " 'antacids phosphate binders': 4919,\n",
       " 'sglt inhibitors': 4920,\n",
       " 'narcotic analgesic combinations': 4921,\n",
       " 'fatty acid derivative anticonvulsants': 4922,\n",
       " 'proton pump inhibitors': 4923,\n",
       " 'antimigraine agents': 4924,\n",
       " 'miscellaneous antidepressants': 4925,\n",
       " 'antitussives opioids narcotic analgesics': 4926,\n",
       " 'anticholinergic antiemetics': 4927,\n",
       " 'hormones antineoplastics selective estrogen receptor modulators': 4928,\n",
       " 'adrenergic uptake inhibitors adhd': 4929,\n",
       " 'antiviral combinations': 4930,\n",
       " 'topical anti infectives': 4931,\n",
       " 'lincomycin derivatives': 4932,\n",
       " 'serotonin norepinephrine reuptake inhibitors': 4933,\n",
       " 'corticotropin': 4934,\n",
       " 'benzodiazepine anticonvulsants benzodiazepines': 4935,\n",
       " 'urinary anti infectives': 4936,\n",
       " 'tricyclic antidepressants': 4937,\n",
       " 'peripherally acting antiobesity agents': 4938,\n",
       " 'statins': 4939,\n",
       " 'glycopeptide antibiotics': 4940,\n",
       " 'cns stimulants': 4941,\n",
       " 'topical antivirals': 4942,\n",
       " 'miscellaneous analgesics': 4943,\n",
       " 'viral vaccines': 4944,\n",
       " 'miscellaneous antibiotics': 4945,\n",
       " 'topical acne agents topical anti rosacea agents': 4946,\n",
       " 'selective phosphodiesterase inhibitors': 4947,\n",
       " 'incretin mimetics': 4948,\n",
       " 'meglitinides': 4949,\n",
       " 'topical emollients': 4950,\n",
       " 'protease inhibitors': 4951,\n",
       " 'antidiarrheals': 4952,\n",
       " 'platelet aggregation inhibitors salicylates': 4953,\n",
       " 'local injectable anesthetics': 4954,\n",
       " 'topical acne agents': 4955,\n",
       " 'anticholinergic antiemetics anticholinergic antiparkinson agents antihistamines miscellaneous anxiolytics sedatives hypnotics': 4956,\n",
       " 'nutraceutical products': 4957,\n",
       " 'miscellaneous anxiolytics sedatives hypnotics': 4958,\n",
       " 'sex hormone combinations': 4959,\n",
       " 'antipseudomonal penicillins': 4960,\n",
       " 'antirheumatics': 4961,\n",
       " 'miscellaneous uncategorized agents': 4962,\n",
       " 'opioids narcotic analgesics': 4963,\n",
       " 'pyrrolidine anticonvulsants': 4964,\n",
       " 'minerals electrolytes': 4965,\n",
       " 'selective immunosuppressants': 4966,\n",
       " 'antiviral boosters': 4967,\n",
       " 'platelet aggregation inhibitors': 4968,\n",
       " 'mast cell stabilizers': 4969,\n",
       " 'angiotensin converting enzyme inhibitors': 4970,\n",
       " 'miscellaneous antidepressants smoking cessation agents': 4971,\n",
       " 'sulfonylureas': 4972,\n",
       " 'topical steroids': 4973,\n",
       " 'gamma aminobutyric acid analogs': 4974,\n",
       " 'nonsteroidal anti inflammatory drugs salicylates': 4975,\n",
       " 'anorexiants cns stimulants': 4976,\n",
       " 'calcineurin inhibitors': 4977,\n",
       " 'peripheral opioid receptor antagonists': 4978,\n",
       " 'bronchodilator combinations': 4979,\n",
       " 'antirheumatics cd monoclonal antibodies': 4980,\n",
       " 'anticholinergics antispasmodics': 4981,\n",
       " 'chemokine receptor antagonist': 4982,\n",
       " 'cardioselective beta blockers': 4983,\n",
       " 'h antagonists': 4984,\n",
       " 'nasal steroids': 4985,\n",
       " 'antihistamines': 4986,\n",
       " 'antacids minerals electrolytes': 4987,\n",
       " 'cox inhibitors miscellaneous antihypertensive combinations': 4988,\n",
       " 'tetracyclines': 4989,\n",
       " 'miscellaneous antihyperlipidemic agents vitamins': 4990,\n",
       " 'cgrp inhibitors': 4991,\n",
       " 'ace inhibitors thiazides': 4992,\n",
       " 'thrombin inhibitors': 4993,\n",
       " 'uterotonic agents': 4994,\n",
       " 'benzodiazepine anticonvulsants': 4995,\n",
       " 'nucleoside reverse transcriptase inhibitors nrtis': 4996,\n",
       " 'amebicides miscellaneous antibiotics': 4997,\n",
       " 'dopaminergic antiparkinsonism agents prolactin inhibitors': 4998,\n",
       " 'angiotensin receptor blockers': 4999,\n",
       " 'renin inhibitors': 5000,\n",
       " 'purine nucleosides': 5001,\n",
       " 'cardioselective beta blockers group ii antiarrhythmics': 5002,\n",
       " 'benzodiazepines': 5003,\n",
       " 'dibenzazepine anticonvulsants': 5004,\n",
       " 'antiadrenergic agents centrally acting': 5005,\n",
       " 'contraceptives': 5006,\n",
       " 'miscellaneous topical agents': 5007,\n",
       " 'miscellaneous bone resorption inhibitors': 5008}"
      ]
     },
     "execution_count": 685,
     "metadata": {},
     "output_type": "execute_result"
    }
   ],
   "source": [
    "label_sentence_index"
   ]
  },
  {
   "cell_type": "markdown",
   "id": "4e522020",
   "metadata": {},
   "source": [
    "Dictionary size related to the data_X_clean is 4736 so obviously in order to avoid mix-up with this dictionary, the start number is 4737. As found out by unique there are 272 unique sentences (5008 - 4736 = 272), thus the dictionary (label sentence index) has new 272 values/indexes. Let's tokenize the labels now with the newly created dictionary."
   ]
  },
  {
   "cell_type": "code",
   "execution_count": 669,
   "id": "62ad5bd5",
   "metadata": {},
   "outputs": [],
   "source": [
    "def label_tokenize(data):\n",
    "    label_list = data.to_list()\n",
    "    label_tokenized = []\n",
    "    for item in label_list:\n",
    "        for key, value in label_sentence_index.items():\n",
    "            if item == key:\n",
    "                label_tokenized.append(value)\n",
    "\n",
    "    return label_tokenized"
   ]
  },
  {
   "cell_type": "code",
   "execution_count": 670,
   "id": "3f3ab81f",
   "metadata": {},
   "outputs": [],
   "source": [
    "label_tokenized = label_tokenize(data_y_clean)"
   ]
  },
  {
   "cell_type": "code",
   "execution_count": 671,
   "id": "eac2cf34",
   "metadata": {},
   "outputs": [
    {
     "data": {
      "text/plain": [
       "[4851, 4848, 4989, 4881, 4890]"
      ]
     },
     "execution_count": 671,
     "metadata": {},
     "output_type": "execute_result"
    }
   ],
   "source": [
    "label_tokenized[:5]"
   ]
  },
  {
   "cell_type": "code",
   "execution_count": 672,
   "id": "96e1679d",
   "metadata": {},
   "outputs": [
    {
     "data": {
      "text/plain": [
       "0               miscellaneous antimalarials tetracyclines\n",
       "1       aldosterone receptor antagonists potassium spa...\n",
       "2                                           tetracyclines\n",
       "3       miscellaneous antineoplastics miscellaneous un...\n",
       "4             topical acne agents vaginal anti infectives\n",
       "                              ...                        \n",
       "2735                           anorexiants cns stimulants\n",
       "2736                           anorexiants cns stimulants\n",
       "2737    anorexiants cns stimulants miscellaneous antic...\n",
       "2738                       melanocortin receptor agonists\n",
       "2739                       melanocortin receptor agonists\n",
       "Name: drug_classes, Length: 2738, dtype: object"
      ]
     },
     "execution_count": 672,
     "metadata": {},
     "output_type": "execute_result"
    }
   ],
   "source": [
    "data_y_clean"
   ]
  },
  {
   "cell_type": "markdown",
   "id": "a094f6fe",
   "metadata": {},
   "source": [
    "So far so good ... let's put all the data into numpy df and split into train/test data. "
   ]
  },
  {
   "cell_type": "code",
   "execution_count": 673,
   "id": "d2700ba3",
   "metadata": {},
   "outputs": [
    {
     "data": {
      "text/plain": [
       "(list, numpy.ndarray)"
      ]
     },
     "execution_count": 673,
     "metadata": {},
     "output_type": "execute_result"
    }
   ],
   "source": [
    "type(label_tokenized), type(padded_features)"
   ]
  },
  {
   "cell_type": "code",
   "execution_count": 674,
   "id": "e1ce78d8",
   "metadata": {},
   "outputs": [],
   "source": [
    "label_tokenized_array = np.array(label_tokenized)"
   ]
  },
  {
   "cell_type": "code",
   "execution_count": 675,
   "id": "8e2b047d",
   "metadata": {},
   "outputs": [
    {
     "data": {
      "text/plain": [
       "((2738, 680), (2738,))"
      ]
     },
     "execution_count": 675,
     "metadata": {},
     "output_type": "execute_result"
    }
   ],
   "source": [
    "padded_features.shape, label_tokenized_array.shape"
   ]
  },
  {
   "cell_type": "code",
   "execution_count": 676,
   "id": "f460f4e0",
   "metadata": {},
   "outputs": [],
   "source": [
    "label_tokenized_array = np.reshape(label_tokenized_array, (2738,1))"
   ]
  },
  {
   "cell_type": "code",
   "execution_count": 677,
   "id": "a7f6ae69",
   "metadata": {},
   "outputs": [
    {
     "data": {
      "text/plain": [
       "(2738, 1)"
      ]
     },
     "execution_count": 677,
     "metadata": {},
     "output_type": "execute_result"
    }
   ],
   "source": [
    "label_tokenized_array.shape"
   ]
  },
  {
   "cell_type": "code",
   "execution_count": 678,
   "id": "87e781af",
   "metadata": {},
   "outputs": [],
   "source": [
    "dataset_final = np.concatenate((padded_features, label_tokenized_array), axis=1)"
   ]
  },
  {
   "cell_type": "code",
   "execution_count": 628,
   "id": "967ee07f",
   "metadata": {
    "collapsed": true
   },
   "outputs": [
    {
     "data": {
      "text/plain": [
       "array([  23,   46,    9,    8,   13,   10,   14,    6,   63,   28,  109,\n",
       "         10,   70,   47,    6,    5,   62,  249,    6,   44,  337,  332,\n",
       "        170,   95,  222,   40,  155,   43,  229,   63,   80,  333,  685,\n",
       "        672,   59,   42,    4,   25,    6,   44,   28,   86,  183,  225,\n",
       "         31,   42,   34,  254,   14,   27,   35,  110,  116,    6,   47,\n",
       "         63,    4,   32,  637,  393, 1244,   67,  934,  934,    4,   26,\n",
       "         43,    3,    2,   15,   11,   14,   12,    5,   49,  287,  133,\n",
       "         10,  125,   41,  115,   30,    5,  114,   72, 1043,    7,  127,\n",
       "         53,  161,   93,   58,   94,  202,   38,  341,  368,   28,  142,\n",
       "         86,  183,   59,  254,   27,  154,    6,  211,  110,   64,   14,\n",
       "        434,  217,  138,   29,   21,   50,   20,    5,  597,   47,   18,\n",
       "         65,   85,   12,    5,    4,  616,   81,   69,   21,   37,   56,\n",
       "         72,  104,   98,   48,  130,  116,    6,   47,   17,    3,    2,\n",
       "        934,    4,   25,   21,   37,  165,   12,   18,   65,  128,   49,\n",
       "          6,   44,   45,  892,    6,  239,  346,   45,  338,    0,    0,\n",
       "          0,    0,    0,    0,    0,    0,    0,    0,    0,    0,    0,\n",
       "          0,    0,    0,    0,    0,    0,    0,    0,    0,    0,    0,\n",
       "          0,    0,    0,    0,    0,    0,    0,    0,    0,    0,    0,\n",
       "          0,    0,    0,    0,    0,    0,    0,    0,    0,    0,    0,\n",
       "          0,    0,    0,    0,    0,    0,    0,    0,    0,    0,    0,\n",
       "          0,    0,    0,    0,    0,    0,    0,    0,    0,    0,    0,\n",
       "          0,    0,    0,    0,    0,    0,    0,    0,    0,    0,    0,\n",
       "          0,    0,    0,    0,    0,    0,    0,    0,    0,    0,    0,\n",
       "          0,    0,    0,    0,    0,    0,    0,    0,    0,    0,    0,\n",
       "          0,    0,    0,    0,    0,    0,    0,    0,    0,    0,    0,\n",
       "          0,    0,    0,    0,    0,    0,    0,    0,    0,    0,    0,\n",
       "          0,    0,    0,    0,    0,    0,    0,    0,    0,    0,    0,\n",
       "          0,    0,    0,    0,    0,    0,    0,    0,    0,    0,    0,\n",
       "          0,    0,    0,    0,    0,    0,    0,    0,    0,    0,    0,\n",
       "          0,    0,    0,    0,    0,    0,    0,    0,    0,    0,    0,\n",
       "          0,    0,    0,    0,    0,    0,    0,    0,    0,    0,    0,\n",
       "          0,    0,    0,    0,    0,    0,    0,    0,    0,    0,    0,\n",
       "          0,    0,    0,    0,    0,    0,    0,    0,    0,    0,    0,\n",
       "          0,    0,    0,    0,    0,    0,    0,    0,    0,    0,    0,\n",
       "          0,    0,    0,    0,    0,    0,    0,    0,    0,    0,    0,\n",
       "          0,    0,    0,    0,    0,    0,    0,    0,    0,    0,    0,\n",
       "          0,    0,    0,    0,    0,    0,    0,    0,    0,    0,    0,\n",
       "          0,    0,    0,    0,    0,    0,    0,    0,    0,    0,    0,\n",
       "          0,    0,    0,    0,    0,    0,    0,    0,    0,    0,    0,\n",
       "          0,    0,    0,    0,    0,    0,    0,    0,    0,    0,    0,\n",
       "          0,    0,    0,    0,    0,    0,    0,    0,    0,    0,    0,\n",
       "          0,    0,    0,    0,    0,    0,    0,    0,    0,    0,    0,\n",
       "          0,    0,    0,    0,    0,    0,    0,    0,    0,    0,    0,\n",
       "          0,    0,    0,    0,    0,    0,    0,    0,    0,    0,    0,\n",
       "          0,    0,    0,    0,    0,    0,    0,    0,    0,    0,    0,\n",
       "          0,    0,    0,    0,    0,    0,    0,    0,    0,    0,    0,\n",
       "          0,    0,    0,    0,    0,    0,    0,    0,    0,    0,    0,\n",
       "          0,    0,    0,    0,    0,    0,    0,    0,    0,    0,    0,\n",
       "          0,    0,    0,    0,    0,    0,    0,    0,    0,    0,    0,\n",
       "          0,    0,    0,    0,    0,    0,    0,    0,    0,    0,    0,\n",
       "          0,    0,    0,    0,    0,    0,    0,    0,    0,    0,    0,\n",
       "          0,    0,    0,    0,    0,    0,    0,    0,    0,    0,    0,\n",
       "          0,    0,    0,    0,    0,    0,    0,    0,    0,    0,    0,\n",
       "          0,    0,    0,    0,    0,    0,    0,    0,    0,    0,    0,\n",
       "          0,    0,    0,    0,    0,    0,    0,    0,    0,    0,    0,\n",
       "          0,    0,    0,    0,    0,    0,    0,    0,    0,    0,    0,\n",
       "          0,    0,    0,    0,    0,    0,    0,    0,    0,    0,    0,\n",
       "          0,    0,    0,    0,    0,    0,    0,    0,    0,    0,    0,\n",
       "          0,    0,    0,    0,    0,    0,    0,    0,    0,    0,    0,\n",
       "          0,    0,    0,    0,    0,    0,    0,    0,    0,    0,    0,\n",
       "          0,    0,    0,    0,    0,    0,    0,    0,    0,    0,    0,\n",
       "          0,    0,    0,    0,    0,    0,    0,    0,    0,  795])"
      ]
     },
     "execution_count": 628,
     "metadata": {},
     "output_type": "execute_result"
    }
   ],
   "source": [
    "dataset_final[0]"
   ]
  },
  {
   "cell_type": "code",
   "execution_count": 630,
   "id": "90b40733",
   "metadata": {},
   "outputs": [],
   "source": [
    "from sklearn.model_selection import train_test_split"
   ]
  },
  {
   "cell_type": "code",
   "execution_count": 631,
   "id": "2fb3fc68",
   "metadata": {},
   "outputs": [],
   "source": [
    "X_train, X_test, y_train, y_test = train_test_split(padded_features, label_tokenized_array, test_size=0.1, shuffle = True)"
   ]
  },
  {
   "cell_type": "code",
   "execution_count": 632,
   "id": "0e7d8aea",
   "metadata": {},
   "outputs": [
    {
     "data": {
      "text/plain": [
       "(array([[231, 224,   2, ...,   0,   0,   0],\n",
       "        [ 23,  46,   9, ...,   0,   0,   0],\n",
       "        [ 23,  46,   9, ...,   0,   0,   0],\n",
       "        ...,\n",
       "        [ 23,  46,   9, ...,   0,   0,   0],\n",
       "        [ 28, 225,  31, ...,   0,   0,   0],\n",
       "        [ 23,  46,   9, ...,   0,   0,   0]]),\n",
       " array([[ 23,  87,   9, ...,   0,   0,   0],\n",
       "        [ 23,  45,  14, ...,   0,   0,   0],\n",
       "        [231, 224,   2, ...,   0,   0,   0],\n",
       "        ...,\n",
       "        [  8, 198,  12, ...,   0,   0,   0],\n",
       "        [ 23,  87,   9, ...,   0,   0,   0],\n",
       "        [ 30,   5, 248, ...,   0,   0,   0]]))"
      ]
     },
     "execution_count": 632,
     "metadata": {},
     "output_type": "execute_result"
    }
   ],
   "source": [
    "X_train, X_test"
   ]
  },
  {
   "cell_type": "code",
   "execution_count": 633,
   "id": "ef062270",
   "metadata": {},
   "outputs": [
    {
     "data": {
      "text/plain": [
       "(array([[719],\n",
       "        [690],\n",
       "        [708],\n",
       "        ...,\n",
       "        [824],\n",
       "        [708],\n",
       "        [950]]),\n",
       " array([[867],\n",
       "        [892],\n",
       "        [899],\n",
       "        [874],\n",
       "        [730],\n",
       "        [708],\n",
       "        [835],\n",
       "        [715],\n",
       "        [794],\n",
       "        [684],\n",
       "        [784],\n",
       "        [736],\n",
       "        [824],\n",
       "        [772],\n",
       "        [865],\n",
       "        [930],\n",
       "        [832],\n",
       "        [887],\n",
       "        [690],\n",
       "        [947],\n",
       "        [838],\n",
       "        [881],\n",
       "        [930],\n",
       "        [705],\n",
       "        [681],\n",
       "        [778],\n",
       "        [824],\n",
       "        [928],\n",
       "        [838],\n",
       "        [907],\n",
       "        [690],\n",
       "        [856],\n",
       "        [847],\n",
       "        [917],\n",
       "        [841],\n",
       "        [703],\n",
       "        [951],\n",
       "        [849],\n",
       "        [768],\n",
       "        [771],\n",
       "        [897],\n",
       "        [902],\n",
       "        [859],\n",
       "        [907],\n",
       "        [882],\n",
       "        [951],\n",
       "        [838],\n",
       "        [716],\n",
       "        [859],\n",
       "        [749],\n",
       "        [690],\n",
       "        [824],\n",
       "        [899],\n",
       "        [900],\n",
       "        [827],\n",
       "        [865],\n",
       "        [868],\n",
       "        [772],\n",
       "        [939],\n",
       "        [868],\n",
       "        [718],\n",
       "        [801],\n",
       "        [734],\n",
       "        [865],\n",
       "        [719],\n",
       "        [827],\n",
       "        [950],\n",
       "        [807],\n",
       "        [910],\n",
       "        [681],\n",
       "        [917],\n",
       "        [707],\n",
       "        [929],\n",
       "        [880],\n",
       "        [779],\n",
       "        [814],\n",
       "        [783],\n",
       "        [706],\n",
       "        [899],\n",
       "        [914],\n",
       "        [838],\n",
       "        [746],\n",
       "        [941],\n",
       "        [838],\n",
       "        [866],\n",
       "        [794],\n",
       "        [817],\n",
       "        [708],\n",
       "        [681],\n",
       "        [803],\n",
       "        [859],\n",
       "        [900],\n",
       "        [843],\n",
       "        [868],\n",
       "        [866],\n",
       "        [720],\n",
       "        [887],\n",
       "        [917],\n",
       "        [899],\n",
       "        [799],\n",
       "        [930],\n",
       "        [690],\n",
       "        [899],\n",
       "        [704],\n",
       "        [917],\n",
       "        [933],\n",
       "        [887],\n",
       "        [681],\n",
       "        [947],\n",
       "        [917],\n",
       "        [746],\n",
       "        [772],\n",
       "        [690],\n",
       "        [793],\n",
       "        [896],\n",
       "        [772],\n",
       "        [870],\n",
       "        [918],\n",
       "        [897],\n",
       "        [801],\n",
       "        [763],\n",
       "        [681],\n",
       "        [874],\n",
       "        [930],\n",
       "        [690],\n",
       "        [907],\n",
       "        [830],\n",
       "        [865],\n",
       "        [812],\n",
       "        [918],\n",
       "        [909],\n",
       "        [690],\n",
       "        [806],\n",
       "        [930],\n",
       "        [690],\n",
       "        [874],\n",
       "        [908],\n",
       "        [730],\n",
       "        [907],\n",
       "        [704],\n",
       "        [847],\n",
       "        [848],\n",
       "        [867],\n",
       "        [690],\n",
       "        [899],\n",
       "        [950],\n",
       "        [921],\n",
       "        [681],\n",
       "        [849],\n",
       "        [818],\n",
       "        [690],\n",
       "        [720],\n",
       "        [717],\n",
       "        [899],\n",
       "        [690],\n",
       "        [690],\n",
       "        [947],\n",
       "        [745],\n",
       "        [784],\n",
       "        [920],\n",
       "        [907],\n",
       "        [908],\n",
       "        [917],\n",
       "        [690],\n",
       "        [874],\n",
       "        [809],\n",
       "        [899],\n",
       "        [715],\n",
       "        [895],\n",
       "        [751],\n",
       "        [772],\n",
       "        [951],\n",
       "        [909],\n",
       "        [829],\n",
       "        [885],\n",
       "        [814],\n",
       "        [708],\n",
       "        [772],\n",
       "        [917],\n",
       "        [745],\n",
       "        [809],\n",
       "        [859],\n",
       "        [834],\n",
       "        [949],\n",
       "        [930],\n",
       "        [772],\n",
       "        [930],\n",
       "        [834],\n",
       "        [875],\n",
       "        [690],\n",
       "        [909],\n",
       "        [783],\n",
       "        [849],\n",
       "        [812],\n",
       "        [859],\n",
       "        [907],\n",
       "        [929],\n",
       "        [917],\n",
       "        [790],\n",
       "        [899],\n",
       "        [815],\n",
       "        [951],\n",
       "        [768],\n",
       "        [930],\n",
       "        [718],\n",
       "        [808],\n",
       "        [852],\n",
       "        [825],\n",
       "        [887],\n",
       "        [859],\n",
       "        [896],\n",
       "        [746],\n",
       "        [859],\n",
       "        [914],\n",
       "        [915],\n",
       "        [786],\n",
       "        [794],\n",
       "        [797],\n",
       "        [708],\n",
       "        [867],\n",
       "        [704],\n",
       "        [808],\n",
       "        [903],\n",
       "        [690],\n",
       "        [797],\n",
       "        [880],\n",
       "        [799],\n",
       "        [718],\n",
       "        [690],\n",
       "        [684],\n",
       "        [708],\n",
       "        [794],\n",
       "        [751],\n",
       "        [808],\n",
       "        [772],\n",
       "        [812],\n",
       "        [796],\n",
       "        [799],\n",
       "        [690],\n",
       "        [736],\n",
       "        [757],\n",
       "        [695],\n",
       "        [905],\n",
       "        [741],\n",
       "        [874],\n",
       "        [714],\n",
       "        [917],\n",
       "        [758],\n",
       "        [776],\n",
       "        [874],\n",
       "        [916],\n",
       "        [927],\n",
       "        [800],\n",
       "        [808],\n",
       "        [783],\n",
       "        [715],\n",
       "        [917],\n",
       "        [951],\n",
       "        [890],\n",
       "        [880],\n",
       "        [823],\n",
       "        [690],\n",
       "        [763],\n",
       "        [694],\n",
       "        [681],\n",
       "        [909],\n",
       "        [923],\n",
       "        [951],\n",
       "        [824],\n",
       "        [786],\n",
       "        [768],\n",
       "        [810],\n",
       "        [725],\n",
       "        [715]]))"
      ]
     },
     "execution_count": 633,
     "metadata": {},
     "output_type": "execute_result"
    }
   ],
   "source": [
    "y_train, y_test"
   ]
  },
  {
   "cell_type": "code",
   "execution_count": 648,
   "id": "0d04fe18",
   "metadata": {},
   "outputs": [],
   "source": [
    "y_train = np.reshape(y_train, (2464, ))"
   ]
  },
  {
   "cell_type": "code",
   "execution_count": 650,
   "id": "f6cd13d6",
   "metadata": {},
   "outputs": [],
   "source": [
    "y_test = np.reshape(y_test, (274, ))"
   ]
  },
  {
   "cell_type": "code",
   "execution_count": 651,
   "id": "c9b69624",
   "metadata": {},
   "outputs": [
    {
     "data": {
      "text/plain": [
       "((2464, 680), (2464,))"
      ]
     },
     "execution_count": 651,
     "metadata": {},
     "output_type": "execute_result"
    }
   ],
   "source": [
    "X_train.shape, y_train.shape"
   ]
  },
  {
   "cell_type": "code",
   "execution_count": 652,
   "id": "b229988c",
   "metadata": {},
   "outputs": [
    {
     "data": {
      "text/plain": [
       "((274, 680), (274,))"
      ]
     },
     "execution_count": 652,
     "metadata": {},
     "output_type": "execute_result"
    }
   ],
   "source": [
    "X_test.shape, y_test.shape"
   ]
  },
  {
   "cell_type": "code",
   "execution_count": 800,
   "id": "f1050951",
   "metadata": {},
   "outputs": [
    {
     "name": "stdout",
     "output_type": "stream",
     "text": [
      "Model: \"sequential_12\"\n",
      "_________________________________________________________________\n",
      " Layer (type)                Output Shape              Param #   \n",
      "=================================================================\n",
      " embedding_12 (Embedding)    (None, 680, 16)           80128     \n",
      "                                                                 \n",
      " flatten_12 (Flatten)        (None, 10880)             0         \n",
      "                                                                 \n",
      " dense_24 (Dense)            (None, 32)                348192    \n",
      "                                                                 \n",
      " dense_25 (Dense)            (None, 16)                528       \n",
      "                                                                 \n",
      " dense_26 (Dense)            (None, 1)                 17        \n",
      "                                                                 \n",
      "=================================================================\n",
      "Total params: 428,865\n",
      "Trainable params: 428,865\n",
      "Non-trainable params: 0\n",
      "_________________________________________________________________\n"
     ]
    }
   ],
   "source": [
    "## Build the Tensorflow model.\n",
    "\n",
    "import tensorflow as tf\n",
    "\n",
    "model = tf.keras.Sequential([\n",
    "    tf.keras.layers.Embedding(5008, 16, input_length=680),\n",
    "    tf.keras.layers.Flatten(),\n",
    "    tf.keras.layers.Dense(32, activation='relu'),\n",
    "    tf.keras.layers.Dense(16, activation='relu'),\n",
    "    tf.keras.layers.Dense(1, activation='sigmoid')\n",
    "])\n",
    "\n",
    "model.compile(loss='binary_crossentropy',optimizer='adam',metrics=['accuracy'])\n",
    "\n",
    "model.summary()"
   ]
  },
  {
   "cell_type": "code",
   "execution_count": 801,
   "id": "59e16c7e",
   "metadata": {},
   "outputs": [
    {
     "name": "stdout",
     "output_type": "stream",
     "text": [
      "Epoch 1/20\n",
      "77/77 [==============================] - 1s 9ms/step - loss: -133646.9219 - accuracy: 0.0000e+00 - val_loss: -586747.9375 - val_accuracy: 0.0000e+00\n",
      "Epoch 2/20\n",
      "77/77 [==============================] - 0s 6ms/step - loss: -3286462.0000 - accuracy: 0.0000e+00 - val_loss: -8792413.0000 - val_accuracy: 0.0000e+00\n",
      "Epoch 3/20\n",
      "77/77 [==============================] - 1s 7ms/step - loss: -24171800.0000 - accuracy: 0.0000e+00 - val_loss: -48964432.0000 - val_accuracy: 0.0000e+00\n",
      "Epoch 4/20\n",
      "77/77 [==============================] - 0s 6ms/step - loss: -97614872.0000 - accuracy: 0.0000e+00 - val_loss: -167186640.0000 - val_accuracy: 0.0000e+00\n",
      "Epoch 5/20\n",
      "77/77 [==============================] - 1s 6ms/step - loss: -279693728.0000 - accuracy: 0.0000e+00 - val_loss: -430286240.0000 - val_accuracy: 0.0000e+00\n",
      "Epoch 6/20\n",
      "77/77 [==============================] - 0s 6ms/step - loss: -645611200.0000 - accuracy: 0.0000e+00 - val_loss: -921959936.0000 - val_accuracy: 0.0000e+00\n",
      "Epoch 7/20\n",
      "77/77 [==============================] - 0s 6ms/step - loss: -1285484928.0000 - accuracy: 0.0000e+00 - val_loss: -1740955904.0000 - val_accuracy: 0.0000e+00\n",
      "Epoch 8/20\n",
      "77/77 [==============================] - 1s 7ms/step - loss: -2301861888.0000 - accuracy: 0.0000e+00 - val_loss: -2996365568.0000 - val_accuracy: 0.0000e+00\n",
      "Epoch 9/20\n",
      "77/77 [==============================] - 0s 6ms/step - loss: -3809722112.0000 - accuracy: 0.0000e+00 - val_loss: -4804432384.0000 - val_accuracy: 0.0000e+00\n",
      "Epoch 10/20\n",
      "77/77 [==============================] - 1s 7ms/step - loss: -5929977344.0000 - accuracy: 0.0000e+00 - val_loss: -7296457216.0000 - val_accuracy: 0.0000e+00\n",
      "Epoch 11/20\n",
      "77/77 [==============================] - 0s 6ms/step - loss: -8792387584.0000 - accuracy: 0.0000e+00 - val_loss: -10603290624.0000 - val_accuracy: 0.0000e+00\n",
      "Epoch 12/20\n",
      "77/77 [==============================] - 1s 7ms/step - loss: -12529179648.0000 - accuracy: 0.0000e+00 - val_loss: -14860227584.0000 - val_accuracy: 0.0000e+00\n",
      "Epoch 13/20\n",
      "77/77 [==============================] - 1s 7ms/step - loss: -17280202752.0000 - accuracy: 0.0000e+00 - val_loss: -20204914688.0000 - val_accuracy: 0.0000e+00\n",
      "Epoch 14/20\n",
      "77/77 [==============================] - 0s 6ms/step - loss: -23184584704.0000 - accuracy: 0.0000e+00 - val_loss: -26788722688.0000 - val_accuracy: 0.0000e+00\n",
      "Epoch 15/20\n",
      "77/77 [==============================] - 0s 6ms/step - loss: -30386247680.0000 - accuracy: 0.0000e+00 - val_loss: -34748846080.0000 - val_accuracy: 0.0000e+00\n",
      "Epoch 16/20\n",
      "77/77 [==============================] - 1s 7ms/step - loss: -39026454528.0000 - accuracy: 0.0000e+00 - val_loss: -44233895936.0000 - val_accuracy: 0.0000e+00\n",
      "Epoch 17/20\n",
      "77/77 [==============================] - 1s 7ms/step - loss: -49250164736.0000 - accuracy: 0.0000e+00 - val_loss: -55385231360.0000 - val_accuracy: 0.0000e+00\n",
      "Epoch 18/20\n",
      "77/77 [==============================] - 0s 6ms/step - loss: -61198680064.0000 - accuracy: 0.0000e+00 - val_loss: -68361285632.0000 - val_accuracy: 0.0000e+00\n",
      "Epoch 19/20\n",
      "77/77 [==============================] - 1s 7ms/step - loss: -75026440192.0000 - accuracy: 0.0000e+00 - val_loss: -83279077376.0000 - val_accuracy: 0.0000e+00\n",
      "Epoch 20/20\n",
      "77/77 [==============================] - 1s 6ms/step - loss: -90867744768.0000 - accuracy: 0.0000e+00 - val_loss: -100309409792.0000 - val_accuracy: 0.0000e+00\n"
     ]
    },
    {
     "data": {
      "text/plain": [
       "<keras.callbacks.History at 0x23f5ba1a880>"
      ]
     },
     "execution_count": 801,
     "metadata": {},
     "output_type": "execute_result"
    }
   ],
   "source": [
    "## Let's train the model\n",
    "\n",
    "num_epochs = 20\n",
    "\n",
    "model.fit(X_train, y_train, epochs=num_epochs,  validation_data=(X_test, y_test))"
   ]
  },
  {
   "cell_type": "markdown",
   "id": "590b3e6e",
   "metadata": {},
   "source": [
    "Let's check this out. In order to get the prediction, we will prepare the pipeline :\n",
    "- remove the stop words\n",
    "- tokenize the words\n",
    "- padd the sentences to size (6030,)\n",
    " \n",
    "then, get the prediction"
   ]
  },
  {
   "cell_type": "code",
   "execution_count": 923,
   "id": "8c72d82c",
   "metadata": {},
   "outputs": [],
   "source": [
    "# own tokenizer for the prediction. As the input is array (1,680) the intetion is to tokenize the known words from \n",
    "\n",
    "question = 'What the heck is going on here, I have pain, and fever, and some stomach issues and diziness. '\n",
    "\n",
    "type(question)\n",
    "\n",
    "import re\n",
    "\n",
    "def tokenize_question(sentence):\n",
    "    words = re.sub(r'[^\\w\\s]', '', sentence)\n",
    "    words = words.split()\n",
    "    tokens = []\n",
    "    for word in words:\n",
    "        if word in word_index.keys():\n",
    "            tokens.append(word_index[word])\n",
    "        \n",
    "    return tokens\n",
    "\n",
    "def padding_question(sentence):\n",
    "    length = 680      # bespoken watch out!!!\n",
    "    length_padding = length - len(sentence)\n",
    "    sentence_array = np.array(sentence)\n",
    "    sentence_array = np.append(sentence_array, length_padding * [0])\n",
    "    \n",
    "    return sentence_array\n",
    "\n",
    "tokenized_question = tokenize_question(question)\n",
    "\n",
    "padded_question = padding_question(tokenized_question)"
   ]
  },
  {
   "cell_type": "code",
   "execution_count": 930,
   "id": "b17afc11",
   "metadata": {},
   "outputs": [],
   "source": [
    "padded_question = padded_question.reshape(1,680)"
   ]
  },
  {
   "cell_type": "code",
   "execution_count": 931,
   "id": "2823defc",
   "metadata": {},
   "outputs": [
    {
     "data": {
      "text/plain": [
       "(1, 680)"
      ]
     },
     "execution_count": 931,
     "metadata": {},
     "output_type": "execute_result"
    }
   ],
   "source": [
    "padded_question.shape"
   ]
  },
  {
   "cell_type": "code",
   "execution_count": 932,
   "id": "f151f0ff",
   "metadata": {},
   "outputs": [
    {
     "name": "stdout",
     "output_type": "stream",
     "text": [
      "1/1 [==============================] - 0s 36ms/step\n"
     ]
    },
    {
     "data": {
      "text/plain": [
       "array([[1.]], dtype=float32)"
      ]
     },
     "execution_count": 932,
     "metadata": {},
     "output_type": "execute_result"
    }
   ],
   "source": [
    "model.predict(padded_question)"
   ]
  },
  {
   "cell_type": "code",
   "execution_count": 942,
   "id": "a829c0e3",
   "metadata": {},
   "outputs": [
    {
     "data": {
      "text/plain": [
       "array([[2122,    5,   28,   12,    0,    0,    0,    0,    0,    0,    0,\n",
       "           0,    0,    0,    0,    0,    0,    0,    0,    0,    0,    0,\n",
       "           0,    0,    0,    0,    0,    0,    0,    0,    0,    0,    0,\n",
       "           0,    0,    0,    0,    0,    0,    0,    0,    0,    0,    0,\n",
       "           0,    0,    0,    0,    0,    0,    0,    0,    0,    0,    0,\n",
       "           0,    0,    0,    0,    0,    0,    0,    0,    0,    0,    0,\n",
       "           0,    0,    0,    0,    0,    0,    0,    0,    0,    0,    0,\n",
       "           0,    0,    0,    0,    0,    0,    0,    0,    0,    0,    0,\n",
       "           0,    0,    0,    0,    0,    0,    0,    0,    0,    0,    0,\n",
       "           0,    0,    0,    0,    0,    0,    0,    0,    0,    0,    0,\n",
       "           0,    0,    0,    0,    0,    0,    0,    0,    0,    0,    0,\n",
       "           0,    0,    0,    0,    0,    0,    0,    0,    0,    0,    0,\n",
       "           0,    0,    0,    0,    0,    0,    0,    0,    0,    0,    0,\n",
       "           0,    0,    0,    0,    0,    0,    0,    0,    0,    0,    0,\n",
       "           0,    0,    0,    0,    0,    0,    0,    0,    0,    0,    0,\n",
       "           0,    0,    0,    0,    0,    0,    0,    0,    0,    0,    0,\n",
       "           0,    0,    0,    0,    0,    0,    0,    0,    0,    0,    0,\n",
       "           0,    0,    0,    0,    0,    0,    0,    0,    0,    0,    0,\n",
       "           0,    0,    0,    0,    0,    0,    0,    0,    0,    0,    0,\n",
       "           0,    0,    0,    0,    0,    0,    0,    0,    0,    0,    0,\n",
       "           0,    0,    0,    0,    0,    0,    0,    0,    0,    0,    0,\n",
       "           0,    0,    0,    0,    0,    0,    0,    0,    0,    0,    0,\n",
       "           0,    0,    0,    0,    0,    0,    0,    0,    0,    0,    0,\n",
       "           0,    0,    0,    0,    0,    0,    0,    0,    0,    0,    0,\n",
       "           0,    0,    0,    0,    0,    0,    0,    0,    0,    0,    0,\n",
       "           0,    0,    0,    0,    0,    0,    0,    0,    0,    0,    0,\n",
       "           0,    0,    0,    0,    0,    0,    0,    0,    0,    0,    0,\n",
       "           0,    0,    0,    0,    0,    0,    0,    0,    0,    0,    0,\n",
       "           0,    0,    0,    0,    0,    0,    0,    0,    0,    0,    0,\n",
       "           0,    0,    0,    0,    0,    0,    0,    0,    0,    0,    0,\n",
       "           0,    0,    0,    0,    0,    0,    0,    0,    0,    0,    0,\n",
       "           0,    0,    0,    0,    0,    0,    0,    0,    0,    0,    0,\n",
       "           0,    0,    0,    0,    0,    0,    0,    0,    0,    0,    0,\n",
       "           0,    0,    0,    0,    0,    0,    0,    0,    0,    0,    0,\n",
       "           0,    0,    0,    0,    0,    0,    0,    0,    0,    0,    0,\n",
       "           0,    0,    0,    0,    0,    0,    0,    0,    0,    0,    0,\n",
       "           0,    0,    0,    0,    0,    0,    0,    0,    0,    0,    0,\n",
       "           0,    0,    0,    0,    0,    0,    0,    0,    0,    0,    0,\n",
       "           0,    0,    0,    0,    0,    0,    0,    0,    0,    0,    0,\n",
       "           0,    0,    0,    0,    0,    0,    0,    0,    0,    0,    0,\n",
       "           0,    0,    0,    0,    0,    0,    0,    0,    0,    0,    0,\n",
       "           0,    0,    0,    0,    0,    0,    0,    0,    0,    0,    0,\n",
       "           0,    0,    0,    0,    0,    0,    0,    0,    0,    0,    0,\n",
       "           0,    0,    0,    0,    0,    0,    0,    0,    0,    0,    0,\n",
       "           0,    0,    0,    0,    0,    0,    0,    0,    0,    0,    0,\n",
       "           0,    0,    0,    0,    0,    0,    0,    0,    0,    0,    0,\n",
       "           0,    0,    0,    0,    0,    0,    0,    0,    0,    0,    0,\n",
       "           0,    0,    0,    0,    0,    0,    0,    0,    0,    0,    0,\n",
       "           0,    0,    0,    0,    0,    0,    0,    0,    0,    0,    0,\n",
       "           0,    0,    0,    0,    0,    0,    0,    0,    0,    0,    0,\n",
       "           0,    0,    0,    0,    0,    0,    0,    0,    0,    0,    0,\n",
       "           0,    0,    0,    0,    0,    0,    0,    0,    0,    0,    0,\n",
       "           0,    0,    0,    0,    0,    0,    0,    0,    0,    0,    0,\n",
       "           0,    0,    0,    0,    0,    0,    0,    0,    0,    0,    0,\n",
       "           0,    0,    0,    0,    0,    0,    0,    0,    0,    0,    0,\n",
       "           0,    0,    0,    0,    0,    0,    0,    0,    0,    0,    0,\n",
       "           0,    0,    0,    0,    0,    0,    0,    0,    0,    0,    0,\n",
       "           0,    0,    0,    0,    0,    0,    0,    0,    0,    0,    0,\n",
       "           0,    0,    0,    0,    0,    0,    0,    0,    0,    0,    0,\n",
       "           0,    0,    0,    0,    0,    0,    0,    0,    0,    0,    0,\n",
       "           0,    0,    0,    0,    0,    0,    0,    0,    0,    0,    0,\n",
       "           0,    0,    0,    0,    0,    0,    0,    0,    0]])"
      ]
     },
     "execution_count": 942,
     "metadata": {},
     "output_type": "execute_result"
    }
   ],
   "source": [
    "padded_question"
   ]
  },
  {
   "cell_type": "markdown",
   "id": "d9613fa8",
   "metadata": {},
   "source": [
    "# RESULT:\n",
    "\n",
    "Due to very low volume of the data, NLP model not possible to create. The accuracy is way low to be considered as model."
   ]
  },
  {
   "cell_type": "code",
   "execution_count": null,
   "id": "28cdf11b",
   "metadata": {},
   "outputs": [],
   "source": []
  }
 ],
 "metadata": {
  "kernelspec": {
   "display_name": "Python 3 (ipykernel)",
   "language": "python",
   "name": "python3"
  },
  "language_info": {
   "codemirror_mode": {
    "name": "ipython",
    "version": 3
   },
   "file_extension": ".py",
   "mimetype": "text/x-python",
   "name": "python",
   "nbconvert_exporter": "python",
   "pygments_lexer": "ipython3",
   "version": "3.9.13"
  }
 },
 "nbformat": 4,
 "nbformat_minor": 5
}
