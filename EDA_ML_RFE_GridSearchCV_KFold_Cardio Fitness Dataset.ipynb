{
 "cells": [
  {
   "cell_type": "markdown",
   "id": "9b08fae2",
   "metadata": {},
   "source": [
    "## Cardio Fitness dataset\n",
    "\n",
    "https://www.kaggle.com/datasets/serkanp/cardio-fitness\n",
    "\n",
    "To be performed:\n",
    "- Basic data analysis\n",
    "- EDA\n",
    "- Classification ML with RFE, GridSearchCV and KFold"
   ]
  },
  {
   "cell_type": "code",
   "execution_count": 34,
   "id": "c60da07f",
   "metadata": {},
   "outputs": [],
   "source": [
    "import numpy as np\n",
    "import pandas as pd\n",
    "import matplotlib.pyplot as plt\n",
    "import os\n",
    "import seaborn as sns"
   ]
  },
  {
   "cell_type": "code",
   "execution_count": 444,
   "id": "4c587950",
   "metadata": {},
   "outputs": [],
   "source": [
    "file = 'CardioGoodFitness-1.csv'"
   ]
  },
  {
   "cell_type": "code",
   "execution_count": 530,
   "id": "3c4d75a9",
   "metadata": {},
   "outputs": [],
   "source": [
    "df = pd.read_csv(file)"
   ]
  },
  {
   "cell_type": "markdown",
   "id": "cdebb606",
   "metadata": {},
   "source": [
    "# BASIC DATA ANALYSIS"
   ]
  },
  {
   "cell_type": "code",
   "execution_count": 531,
   "id": "3cea34ad",
   "metadata": {},
   "outputs": [
    {
     "data": {
      "text/html": [
       "<div>\n",
       "<style scoped>\n",
       "    .dataframe tbody tr th:only-of-type {\n",
       "        vertical-align: middle;\n",
       "    }\n",
       "\n",
       "    .dataframe tbody tr th {\n",
       "        vertical-align: top;\n",
       "    }\n",
       "\n",
       "    .dataframe thead th {\n",
       "        text-align: right;\n",
       "    }\n",
       "</style>\n",
       "<table border=\"1\" class=\"dataframe\">\n",
       "  <thead>\n",
       "    <tr style=\"text-align: right;\">\n",
       "      <th></th>\n",
       "      <th>Age</th>\n",
       "      <th>Education</th>\n",
       "      <th>Usage</th>\n",
       "      <th>Fitness</th>\n",
       "      <th>Income</th>\n",
       "      <th>Miles</th>\n",
       "    </tr>\n",
       "  </thead>\n",
       "  <tbody>\n",
       "    <tr>\n",
       "      <th>count</th>\n",
       "      <td>180.000000</td>\n",
       "      <td>180.000000</td>\n",
       "      <td>180.000000</td>\n",
       "      <td>180.000000</td>\n",
       "      <td>180.000000</td>\n",
       "      <td>180.000000</td>\n",
       "    </tr>\n",
       "    <tr>\n",
       "      <th>mean</th>\n",
       "      <td>28.788889</td>\n",
       "      <td>15.572222</td>\n",
       "      <td>3.455556</td>\n",
       "      <td>3.311111</td>\n",
       "      <td>53719.577778</td>\n",
       "      <td>103.194444</td>\n",
       "    </tr>\n",
       "    <tr>\n",
       "      <th>std</th>\n",
       "      <td>6.943498</td>\n",
       "      <td>1.617055</td>\n",
       "      <td>1.084797</td>\n",
       "      <td>0.958869</td>\n",
       "      <td>16506.684226</td>\n",
       "      <td>51.863605</td>\n",
       "    </tr>\n",
       "    <tr>\n",
       "      <th>min</th>\n",
       "      <td>18.000000</td>\n",
       "      <td>12.000000</td>\n",
       "      <td>2.000000</td>\n",
       "      <td>1.000000</td>\n",
       "      <td>29562.000000</td>\n",
       "      <td>21.000000</td>\n",
       "    </tr>\n",
       "    <tr>\n",
       "      <th>25%</th>\n",
       "      <td>24.000000</td>\n",
       "      <td>14.000000</td>\n",
       "      <td>3.000000</td>\n",
       "      <td>3.000000</td>\n",
       "      <td>44058.750000</td>\n",
       "      <td>66.000000</td>\n",
       "    </tr>\n",
       "    <tr>\n",
       "      <th>50%</th>\n",
       "      <td>26.000000</td>\n",
       "      <td>16.000000</td>\n",
       "      <td>3.000000</td>\n",
       "      <td>3.000000</td>\n",
       "      <td>50596.500000</td>\n",
       "      <td>94.000000</td>\n",
       "    </tr>\n",
       "    <tr>\n",
       "      <th>75%</th>\n",
       "      <td>33.000000</td>\n",
       "      <td>16.000000</td>\n",
       "      <td>4.000000</td>\n",
       "      <td>4.000000</td>\n",
       "      <td>58668.000000</td>\n",
       "      <td>114.750000</td>\n",
       "    </tr>\n",
       "    <tr>\n",
       "      <th>max</th>\n",
       "      <td>50.000000</td>\n",
       "      <td>21.000000</td>\n",
       "      <td>7.000000</td>\n",
       "      <td>5.000000</td>\n",
       "      <td>104581.000000</td>\n",
       "      <td>360.000000</td>\n",
       "    </tr>\n",
       "  </tbody>\n",
       "</table>\n",
       "</div>"
      ],
      "text/plain": [
       "              Age   Education       Usage     Fitness         Income  \\\n",
       "count  180.000000  180.000000  180.000000  180.000000     180.000000   \n",
       "mean    28.788889   15.572222    3.455556    3.311111   53719.577778   \n",
       "std      6.943498    1.617055    1.084797    0.958869   16506.684226   \n",
       "min     18.000000   12.000000    2.000000    1.000000   29562.000000   \n",
       "25%     24.000000   14.000000    3.000000    3.000000   44058.750000   \n",
       "50%     26.000000   16.000000    3.000000    3.000000   50596.500000   \n",
       "75%     33.000000   16.000000    4.000000    4.000000   58668.000000   \n",
       "max     50.000000   21.000000    7.000000    5.000000  104581.000000   \n",
       "\n",
       "            Miles  \n",
       "count  180.000000  \n",
       "mean   103.194444  \n",
       "std     51.863605  \n",
       "min     21.000000  \n",
       "25%     66.000000  \n",
       "50%     94.000000  \n",
       "75%    114.750000  \n",
       "max    360.000000  "
      ]
     },
     "execution_count": 531,
     "metadata": {},
     "output_type": "execute_result"
    }
   ],
   "source": [
    "df.describe()"
   ]
  },
  {
   "cell_type": "code",
   "execution_count": 532,
   "id": "d758112b",
   "metadata": {},
   "outputs": [
    {
     "name": "stdout",
     "output_type": "stream",
     "text": [
      "<class 'pandas.core.frame.DataFrame'>\n",
      "RangeIndex: 180 entries, 0 to 179\n",
      "Data columns (total 9 columns):\n",
      " #   Column         Non-Null Count  Dtype \n",
      "---  ------         --------------  ----- \n",
      " 0   Product        180 non-null    object\n",
      " 1   Age            180 non-null    int64 \n",
      " 2   Gender         180 non-null    object\n",
      " 3   Education      180 non-null    int64 \n",
      " 4   MaritalStatus  180 non-null    object\n",
      " 5   Usage          180 non-null    int64 \n",
      " 6   Fitness        180 non-null    int64 \n",
      " 7   Income         180 non-null    int64 \n",
      " 8   Miles          180 non-null    int64 \n",
      "dtypes: int64(6), object(3)\n",
      "memory usage: 12.8+ KB\n"
     ]
    }
   ],
   "source": [
    "df.info()"
   ]
  },
  {
   "cell_type": "code",
   "execution_count": 533,
   "id": "948689ef",
   "metadata": {},
   "outputs": [
    {
     "data": {
      "text/html": [
       "<div>\n",
       "<style scoped>\n",
       "    .dataframe tbody tr th:only-of-type {\n",
       "        vertical-align: middle;\n",
       "    }\n",
       "\n",
       "    .dataframe tbody tr th {\n",
       "        vertical-align: top;\n",
       "    }\n",
       "\n",
       "    .dataframe thead th {\n",
       "        text-align: right;\n",
       "    }\n",
       "</style>\n",
       "<table border=\"1\" class=\"dataframe\">\n",
       "  <thead>\n",
       "    <tr style=\"text-align: right;\">\n",
       "      <th></th>\n",
       "      <th>Product</th>\n",
       "      <th>Age</th>\n",
       "      <th>Gender</th>\n",
       "      <th>Education</th>\n",
       "      <th>MaritalStatus</th>\n",
       "      <th>Usage</th>\n",
       "      <th>Fitness</th>\n",
       "      <th>Income</th>\n",
       "      <th>Miles</th>\n",
       "    </tr>\n",
       "  </thead>\n",
       "  <tbody>\n",
       "    <tr>\n",
       "      <th>0</th>\n",
       "      <td>TM195</td>\n",
       "      <td>18</td>\n",
       "      <td>Male</td>\n",
       "      <td>14</td>\n",
       "      <td>Single</td>\n",
       "      <td>3</td>\n",
       "      <td>4</td>\n",
       "      <td>29562</td>\n",
       "      <td>112</td>\n",
       "    </tr>\n",
       "    <tr>\n",
       "      <th>1</th>\n",
       "      <td>TM195</td>\n",
       "      <td>19</td>\n",
       "      <td>Male</td>\n",
       "      <td>15</td>\n",
       "      <td>Single</td>\n",
       "      <td>2</td>\n",
       "      <td>3</td>\n",
       "      <td>31836</td>\n",
       "      <td>75</td>\n",
       "    </tr>\n",
       "    <tr>\n",
       "      <th>2</th>\n",
       "      <td>TM195</td>\n",
       "      <td>19</td>\n",
       "      <td>Female</td>\n",
       "      <td>14</td>\n",
       "      <td>Partnered</td>\n",
       "      <td>4</td>\n",
       "      <td>3</td>\n",
       "      <td>30699</td>\n",
       "      <td>66</td>\n",
       "    </tr>\n",
       "    <tr>\n",
       "      <th>3</th>\n",
       "      <td>TM195</td>\n",
       "      <td>19</td>\n",
       "      <td>Male</td>\n",
       "      <td>12</td>\n",
       "      <td>Single</td>\n",
       "      <td>3</td>\n",
       "      <td>3</td>\n",
       "      <td>32973</td>\n",
       "      <td>85</td>\n",
       "    </tr>\n",
       "    <tr>\n",
       "      <th>4</th>\n",
       "      <td>TM195</td>\n",
       "      <td>20</td>\n",
       "      <td>Male</td>\n",
       "      <td>13</td>\n",
       "      <td>Partnered</td>\n",
       "      <td>4</td>\n",
       "      <td>2</td>\n",
       "      <td>35247</td>\n",
       "      <td>47</td>\n",
       "    </tr>\n",
       "  </tbody>\n",
       "</table>\n",
       "</div>"
      ],
      "text/plain": [
       "  Product  Age  Gender  Education MaritalStatus  Usage  Fitness  Income  Miles\n",
       "0   TM195   18    Male         14        Single      3        4   29562    112\n",
       "1   TM195   19    Male         15        Single      2        3   31836     75\n",
       "2   TM195   19  Female         14     Partnered      4        3   30699     66\n",
       "3   TM195   19    Male         12        Single      3        3   32973     85\n",
       "4   TM195   20    Male         13     Partnered      4        2   35247     47"
      ]
     },
     "execution_count": 533,
     "metadata": {},
     "output_type": "execute_result"
    }
   ],
   "source": [
    "df.head()"
   ]
  },
  {
   "cell_type": "code",
   "execution_count": 18,
   "id": "3b069fea",
   "metadata": {},
   "outputs": [
    {
     "data": {
      "text/plain": [
       "Product          0\n",
       "Age              0\n",
       "Gender           0\n",
       "Education        0\n",
       "MaritalStatus    0\n",
       "Usage            0\n",
       "Fitness          0\n",
       "Income           0\n",
       "Miles            0\n",
       "dtype: int64"
      ]
     },
     "execution_count": 18,
     "metadata": {},
     "output_type": "execute_result"
    }
   ],
   "source": [
    "df.isna().sum()"
   ]
  },
  {
   "cell_type": "code",
   "execution_count": 19,
   "id": "5040efdd",
   "metadata": {},
   "outputs": [
    {
     "data": {
      "text/plain": [
       "TM195    80\n",
       "TM498    60\n",
       "TM798    40\n",
       "Name: Product, dtype: int64"
      ]
     },
     "execution_count": 19,
     "metadata": {},
     "output_type": "execute_result"
    }
   ],
   "source": [
    "df['Product'].value_counts()"
   ]
  },
  {
   "cell_type": "code",
   "execution_count": 20,
   "id": "8fd57060",
   "metadata": {},
   "outputs": [
    {
     "data": {
      "text/plain": [
       "Male      104\n",
       "Female     76\n",
       "Name: Gender, dtype: int64"
      ]
     },
     "execution_count": 20,
     "metadata": {},
     "output_type": "execute_result"
    }
   ],
   "source": [
    "df['Gender'].value_counts()"
   ]
  },
  {
   "cell_type": "code",
   "execution_count": 21,
   "id": "61af41ec",
   "metadata": {},
   "outputs": [
    {
     "data": {
      "text/plain": [
       "16    85\n",
       "14    55\n",
       "18    23\n",
       "15     5\n",
       "13     5\n",
       "12     3\n",
       "21     3\n",
       "20     1\n",
       "Name: Education, dtype: int64"
      ]
     },
     "execution_count": 21,
     "metadata": {},
     "output_type": "execute_result"
    }
   ],
   "source": [
    "df['Education'].value_counts()"
   ]
  },
  {
   "cell_type": "code",
   "execution_count": 22,
   "id": "33962623",
   "metadata": {},
   "outputs": [
    {
     "data": {
      "text/plain": [
       "Partnered    107\n",
       "Single        73\n",
       "Name: MaritalStatus, dtype: int64"
      ]
     },
     "execution_count": 22,
     "metadata": {},
     "output_type": "execute_result"
    }
   ],
   "source": [
    "df['MaritalStatus'].value_counts()"
   ]
  },
  {
   "cell_type": "code",
   "execution_count": 23,
   "id": "83a677b1",
   "metadata": {},
   "outputs": [
    {
     "data": {
      "text/plain": [
       "3    69\n",
       "4    52\n",
       "2    33\n",
       "5    17\n",
       "6     7\n",
       "7     2\n",
       "Name: Usage, dtype: int64"
      ]
     },
     "execution_count": 23,
     "metadata": {},
     "output_type": "execute_result"
    }
   ],
   "source": [
    "df['Usage'].value_counts()"
   ]
  },
  {
   "cell_type": "code",
   "execution_count": 31,
   "id": "ad9e0912",
   "metadata": {},
   "outputs": [
    {
     "data": {
      "text/plain": [
       "3    97\n",
       "5    31\n",
       "2    26\n",
       "4    24\n",
       "1     2\n",
       "Name: Fitness, dtype: int64"
      ]
     },
     "execution_count": 31,
     "metadata": {},
     "output_type": "execute_result"
    }
   ],
   "source": [
    "df['Fitness'].value_counts()"
   ]
  },
  {
   "cell_type": "markdown",
   "id": "7675e70b",
   "metadata": {},
   "source": [
    "### __Data types:__\n",
    "\n",
    "There are 180 data lines, no NAN value.\n",
    "\n",
    "I consider two numerical features:\n",
    "- Income\n",
    "- Miles\n",
    "\n",
    ", and 7 categorical features:\n",
    "- Product\n",
    "- Age\n",
    "- Gender\n",
    "- Education (? there is no information whether this is categorial, or continous e.g. n. of years)\n",
    "- MaritalStatus\n",
    "- Usage\n",
    "- Fitness"
   ]
  },
  {
   "cell_type": "markdown",
   "id": "5ec8e93a",
   "metadata": {},
   "source": [
    "# EDA"
   ]
  },
  {
   "cell_type": "code",
   "execution_count": 98,
   "id": "dc2e8d8b",
   "metadata": {},
   "outputs": [
    {
     "data": {
      "image/png": "[encoded data removed]",
      "text/plain": [
       "<Figure size 640x480 with 1 Axes>"
      ]
     },
     "metadata": {},
     "output_type": "display_data"
    }
   ],
   "source": [
    "plt.pie(df['Product'].value_counts(), labels=df['Product'].unique(), explode = [0.1, 0.0, 0.0], shadow=True, autopct='%1.1f%%')\n",
    "plt.title(\"Products distribution\")\n",
    "plt.legend()\n",
    "plt.show()"
   ]
  },
  {
   "cell_type": "markdown",
   "id": "09b4887b",
   "metadata": {},
   "source": [
    "There are 3 types of product, whereas one of them TM195 has 44,4% presence within dataset."
   ]
  },
  {
   "cell_type": "code",
   "execution_count": 140,
   "id": "828f6db3",
   "metadata": {
    "scrolled": false
   },
   "outputs": [
    {
     "data": {
      "image/png": "[encoded data removed]",
      "text/plain": [
       "<Figure size 640x480 with 1 Axes>"
      ]
     },
     "metadata": {},
     "output_type": "display_data"
    }
   ],
   "source": [
    "sns.color_palette(\"mako\", as_cmap=True)\n",
    "sns.histplot(df['Age'], kde= True)\n",
    "plt.title('Distribution of Age within the data set.')\n",
    "plt.show()"
   ]
  },
  {
   "cell_type": "code",
   "execution_count": 97,
   "id": "87b00471",
   "metadata": {},
   "outputs": [
    {
     "data": {
      "text/plain": [
       "count    180.000000\n",
       "mean      28.788889\n",
       "std        6.943498\n",
       "min       18.000000\n",
       "25%       24.000000\n",
       "50%       26.000000\n",
       "75%       33.000000\n",
       "max       50.000000\n",
       "Name: Age, dtype: float64"
      ]
     },
     "execution_count": 97,
     "metadata": {},
     "output_type": "execute_result"
    }
   ],
   "source": [
    "df['Age'].describe()"
   ]
  },
  {
   "cell_type": "code",
   "execution_count": 89,
   "id": "b9f69e64",
   "metadata": {},
   "outputs": [
    {
     "data": {
      "image/png": "[encoded data removed]",
      "text/plain": [
       "<Figure size 640x480 with 1 Axes>"
      ]
     },
     "metadata": {},
     "output_type": "display_data"
    }
   ],
   "source": [
    "plt.pie(df['Gender'].value_counts(), labels=df['Gender'].unique(), explode = [0.1, 0.1], shadow=True, colors=['gray', 'pink'], autopct='%1.1f%%')\n",
    "plt.title(\"Gender distribution\")\n",
    "plt.legend()\n",
    "plt.show()"
   ]
  },
  {
   "cell_type": "code",
   "execution_count": 90,
   "id": "41dd58e8",
   "metadata": {
    "scrolled": false
   },
   "outputs": [
    {
     "data": {
      "image/png": "[encoded data removed]",
      "text/plain": [
       "<Figure size 640x480 with 1 Axes>"
      ]
     },
     "metadata": {},
     "output_type": "display_data"
    }
   ],
   "source": [
    "plt.pie(df['MaritalStatus'].value_counts(), labels=df['MaritalStatus'].unique(), explode = [0.1, 0.1], shadow=True, colors = ['orange', 'blue'], autopct='%1.1f%%')\n",
    "plt.title(\"Marital status distribution\")\n",
    "plt.legend()\n",
    "plt.show()"
   ]
  },
  {
   "cell_type": "code",
   "execution_count": 93,
   "id": "303a0821",
   "metadata": {},
   "outputs": [
    {
     "data": {
      "image/png": "[encoded data removed]",
      "text/plain": [
       "<Figure size 640x480 with 1 Axes>"
      ]
     },
     "metadata": {},
     "output_type": "display_data"
    }
   ],
   "source": [
    "sns.histplot(df['Income'], kde=True)\n",
    "plt.show()"
   ]
  },
  {
   "cell_type": "code",
   "execution_count": 94,
   "id": "3f95c0be",
   "metadata": {},
   "outputs": [
    {
     "data": {
      "image/png": "[encoded data removed]",
      "text/plain": [
       "<Figure size 640x480 with 1 Axes>"
      ]
     },
     "metadata": {},
     "output_type": "display_data"
    }
   ],
   "source": [
    "sns.histplot(df['Miles'], kde=True)\n",
    "plt.show()"
   ]
  },
  {
   "cell_type": "code",
   "execution_count": 153,
   "id": "ccd9a77d",
   "metadata": {},
   "outputs": [
    {
     "data": {
      "image/png": "[encoded data removed]",
      "text/plain": [
       "<Figure size 640x480 with 1 Axes>"
      ]
     },
     "metadata": {},
     "output_type": "display_data"
    },
    {
     "name": "stdout",
     "output_type": "stream",
     "text": [
      "Pearsons correlation: 0.51\n"
     ]
    }
   ],
   "source": [
    "from scipy.stats import pearsonr\n",
    "plt.scatter(x=df['Income'], y=df['Age'])\n",
    "plt.title('Correlation between Income and Age')\n",
    "plt.show()\n",
    "corr, _ = pearsonr(df['Income'], df['Age'])\n",
    "print(f'Pearsons correlation: {corr:.2f}')"
   ]
  },
  {
   "cell_type": "code",
   "execution_count": 187,
   "id": "78961a6a",
   "metadata": {},
   "outputs": [
    {
     "data": {
      "text/plain": [
       "Text(0.5, 1.0, 'Display of all products against miles run.')"
      ]
     },
     "execution_count": 187,
     "metadata": {},
     "output_type": "execute_result"
    },
    {
     "data": {
      "image/png": "[encoded data removed]",
      "text/plain": [
       "<Figure size 640x480 with 1 Axes>"
      ]
     },
     "metadata": {},
     "output_type": "display_data"
    }
   ],
   "source": [
    "plt.scatter(x=df['Product'], y=df['Miles'])\n",
    "plt.title('Display of all products against miles run.')"
   ]
  },
  {
   "cell_type": "code",
   "execution_count": 170,
   "id": "dfeb277b",
   "metadata": {},
   "outputs": [
    {
     "data": {
      "image/png": "[encoded data removed]",
      "text/plain": [
       "<Figure size 640x480 with 1 Axes>"
      ]
     },
     "metadata": {},
     "output_type": "display_data"
    }
   ],
   "source": [
    "sns.countplot(x=\"Product\", hue=\"Gender\", data=df, width=0.5)\n",
    "plt.show()"
   ]
  },
  {
   "cell_type": "code",
   "execution_count": 171,
   "id": "6f64aa07",
   "metadata": {},
   "outputs": [
    {
     "data": {
      "image/png": "[encoded data removed]",
      "text/plain": [
       "<Figure size 640x480 with 1 Axes>"
      ]
     },
     "metadata": {},
     "output_type": "display_data"
    }
   ],
   "source": [
    "sns.countplot(x=\"Product\", hue=\"MaritalStatus\", data=df, width = 0.5)\n",
    "plt.show()"
   ]
  },
  {
   "cell_type": "code",
   "execution_count": 193,
   "id": "830fe491",
   "metadata": {},
   "outputs": [
    {
     "data": {
      "text/html": [
       "<div>\n",
       "<style scoped>\n",
       "    .dataframe tbody tr th:only-of-type {\n",
       "        vertical-align: middle;\n",
       "    }\n",
       "\n",
       "    .dataframe tbody tr th {\n",
       "        vertical-align: top;\n",
       "    }\n",
       "\n",
       "    .dataframe thead th {\n",
       "        text-align: right;\n",
       "    }\n",
       "</style>\n",
       "<table border=\"1\" class=\"dataframe\">\n",
       "  <thead>\n",
       "    <tr style=\"text-align: right;\">\n",
       "      <th></th>\n",
       "      <th></th>\n",
       "      <th>Age</th>\n",
       "      <th>Education</th>\n",
       "      <th>Fitness</th>\n",
       "      <th>Income</th>\n",
       "      <th>Miles</th>\n",
       "      <th>Usage</th>\n",
       "    </tr>\n",
       "    <tr>\n",
       "      <th>Product</th>\n",
       "      <th>Gender</th>\n",
       "      <th></th>\n",
       "      <th></th>\n",
       "      <th></th>\n",
       "      <th></th>\n",
       "      <th></th>\n",
       "      <th></th>\n",
       "    </tr>\n",
       "  </thead>\n",
       "  <tbody>\n",
       "    <tr>\n",
       "      <th rowspan=\"2\" valign=\"top\">TM195</th>\n",
       "      <th>Female</th>\n",
       "      <td>28.450000</td>\n",
       "      <td>15.100000</td>\n",
       "      <td>2.875000</td>\n",
       "      <td>46020.075000</td>\n",
       "      <td>76.200000</td>\n",
       "      <td>2.900000</td>\n",
       "    </tr>\n",
       "    <tr>\n",
       "      <th>Male</th>\n",
       "      <td>28.650000</td>\n",
       "      <td>14.975000</td>\n",
       "      <td>3.050000</td>\n",
       "      <td>46815.975000</td>\n",
       "      <td>89.375000</td>\n",
       "      <td>3.275000</td>\n",
       "    </tr>\n",
       "    <tr>\n",
       "      <th rowspan=\"2\" valign=\"top\">TM498</th>\n",
       "      <th>Female</th>\n",
       "      <td>29.103448</td>\n",
       "      <td>15.206897</td>\n",
       "      <td>2.862069</td>\n",
       "      <td>49336.448276</td>\n",
       "      <td>87.344828</td>\n",
       "      <td>3.137931</td>\n",
       "    </tr>\n",
       "    <tr>\n",
       "      <th>Male</th>\n",
       "      <td>28.709677</td>\n",
       "      <td>15.032258</td>\n",
       "      <td>2.935484</td>\n",
       "      <td>48634.258065</td>\n",
       "      <td>88.483871</td>\n",
       "      <td>3.000000</td>\n",
       "    </tr>\n",
       "    <tr>\n",
       "      <th rowspan=\"2\" valign=\"top\">TM798</th>\n",
       "      <th>Female</th>\n",
       "      <td>27.000000</td>\n",
       "      <td>17.857143</td>\n",
       "      <td>4.571429</td>\n",
       "      <td>73633.857143</td>\n",
       "      <td>180.000000</td>\n",
       "      <td>5.000000</td>\n",
       "    </tr>\n",
       "    <tr>\n",
       "      <th>Male</th>\n",
       "      <td>29.545455</td>\n",
       "      <td>17.212121</td>\n",
       "      <td>4.636364</td>\n",
       "      <td>75825.030303</td>\n",
       "      <td>164.121212</td>\n",
       "      <td>4.727273</td>\n",
       "    </tr>\n",
       "  </tbody>\n",
       "</table>\n",
       "</div>"
      ],
      "text/plain": [
       "                      Age  Education   Fitness        Income       Miles  \\\n",
       "Product Gender                                                             \n",
       "TM195   Female  28.450000  15.100000  2.875000  46020.075000   76.200000   \n",
       "        Male    28.650000  14.975000  3.050000  46815.975000   89.375000   \n",
       "TM498   Female  29.103448  15.206897  2.862069  49336.448276   87.344828   \n",
       "        Male    28.709677  15.032258  2.935484  48634.258065   88.483871   \n",
       "TM798   Female  27.000000  17.857143  4.571429  73633.857143  180.000000   \n",
       "        Male    29.545455  17.212121  4.636364  75825.030303  164.121212   \n",
       "\n",
       "                   Usage  \n",
       "Product Gender            \n",
       "TM195   Female  2.900000  \n",
       "        Male    3.275000  \n",
       "TM498   Female  3.137931  \n",
       "        Male    3.000000  \n",
       "TM798   Female  5.000000  \n",
       "        Male    4.727273  "
      ]
     },
     "execution_count": 193,
     "metadata": {},
     "output_type": "execute_result"
    }
   ],
   "source": [
    "pd.pivot_table(df, index=['Product', 'Gender'],aggfunc='mean')"
   ]
  },
  {
   "cell_type": "code",
   "execution_count": 186,
   "id": "b6886a90",
   "metadata": {},
   "outputs": [
    {
     "data": {
      "image/png": "[encoded data removed]",
      "text/plain": [
       "<Figure size 640x480 with 2 Axes>"
      ]
     },
     "metadata": {},
     "output_type": "display_data"
    }
   ],
   "source": [
    "sns.heatmap(df.corr(), annot = True)\n",
    "plt.show()"
   ]
  },
  {
   "cell_type": "markdown",
   "id": "5191b39c",
   "metadata": {},
   "source": [
    "The highest positive correlation is:\n",
    "- Usage and miles run 0.76\n",
    "- Fitness level and mile run 0.79"
   ]
  },
  {
   "cell_type": "markdown",
   "id": "d2cffa0d",
   "metadata": {},
   "source": [
    "As we can see, the highest correlation is Fitness level, Usage and Income, however as we have very small dataset, not many features and Sklearn can help us, I am going to use Feature selection (RFE).\n",
    "Steps pipeline:\n",
    "- split data into test/train\n",
    "- perform first check with various models\n",
    "- chose the most precise model\n",
    "- perform training with K fold, GridSearch and RFE"
   ]
  },
  {
   "cell_type": "code",
   "execution_count": 406,
   "id": "37ca1ba5",
   "metadata": {},
   "outputs": [
    {
     "data": {
      "image/png": "[encoded data removed]",
      "text/plain": [
       "<Figure size 1470x700 with 3 Axes>"
      ]
     },
     "metadata": {},
     "output_type": "display_data"
    }
   ],
   "source": [
    "sns.pairplot(df, x_vars=['Fitness', 'Usage', 'Income'], y_vars=['Miles'], height=7, aspect=0.7, kind='reg')\n",
    "plt.show()"
   ]
  },
  {
   "cell_type": "code",
   "execution_count": 534,
   "id": "8eff08b2",
   "metadata": {},
   "outputs": [
    {
     "data": {
      "text/html": [
       "<div>\n",
       "<style scoped>\n",
       "    .dataframe tbody tr th:only-of-type {\n",
       "        vertical-align: middle;\n",
       "    }\n",
       "\n",
       "    .dataframe tbody tr th {\n",
       "        vertical-align: top;\n",
       "    }\n",
       "\n",
       "    .dataframe thead th {\n",
       "        text-align: right;\n",
       "    }\n",
       "</style>\n",
       "<table border=\"1\" class=\"dataframe\">\n",
       "  <thead>\n",
       "    <tr style=\"text-align: right;\">\n",
       "      <th></th>\n",
       "      <th>Product</th>\n",
       "      <th>Age</th>\n",
       "      <th>Gender</th>\n",
       "      <th>Education</th>\n",
       "      <th>MaritalStatus</th>\n",
       "      <th>Usage</th>\n",
       "      <th>Fitness</th>\n",
       "      <th>Income</th>\n",
       "      <th>Miles</th>\n",
       "    </tr>\n",
       "  </thead>\n",
       "  <tbody>\n",
       "    <tr>\n",
       "      <th>0</th>\n",
       "      <td>TM195</td>\n",
       "      <td>18</td>\n",
       "      <td>Male</td>\n",
       "      <td>14</td>\n",
       "      <td>Single</td>\n",
       "      <td>3</td>\n",
       "      <td>4</td>\n",
       "      <td>29562</td>\n",
       "      <td>112</td>\n",
       "    </tr>\n",
       "    <tr>\n",
       "      <th>1</th>\n",
       "      <td>TM195</td>\n",
       "      <td>19</td>\n",
       "      <td>Male</td>\n",
       "      <td>15</td>\n",
       "      <td>Single</td>\n",
       "      <td>2</td>\n",
       "      <td>3</td>\n",
       "      <td>31836</td>\n",
       "      <td>75</td>\n",
       "    </tr>\n",
       "    <tr>\n",
       "      <th>2</th>\n",
       "      <td>TM195</td>\n",
       "      <td>19</td>\n",
       "      <td>Female</td>\n",
       "      <td>14</td>\n",
       "      <td>Partnered</td>\n",
       "      <td>4</td>\n",
       "      <td>3</td>\n",
       "      <td>30699</td>\n",
       "      <td>66</td>\n",
       "    </tr>\n",
       "    <tr>\n",
       "      <th>3</th>\n",
       "      <td>TM195</td>\n",
       "      <td>19</td>\n",
       "      <td>Male</td>\n",
       "      <td>12</td>\n",
       "      <td>Single</td>\n",
       "      <td>3</td>\n",
       "      <td>3</td>\n",
       "      <td>32973</td>\n",
       "      <td>85</td>\n",
       "    </tr>\n",
       "    <tr>\n",
       "      <th>4</th>\n",
       "      <td>TM195</td>\n",
       "      <td>20</td>\n",
       "      <td>Male</td>\n",
       "      <td>13</td>\n",
       "      <td>Partnered</td>\n",
       "      <td>4</td>\n",
       "      <td>2</td>\n",
       "      <td>35247</td>\n",
       "      <td>47</td>\n",
       "    </tr>\n",
       "  </tbody>\n",
       "</table>\n",
       "</div>"
      ],
      "text/plain": [
       "  Product  Age  Gender  Education MaritalStatus  Usage  Fitness  Income  Miles\n",
       "0   TM195   18    Male         14        Single      3        4   29562    112\n",
       "1   TM195   19    Male         15        Single      2        3   31836     75\n",
       "2   TM195   19  Female         14     Partnered      4        3   30699     66\n",
       "3   TM195   19    Male         12        Single      3        3   32973     85\n",
       "4   TM195   20    Male         13     Partnered      4        2   35247     47"
      ]
     },
     "execution_count": 534,
     "metadata": {},
     "output_type": "execute_result"
    }
   ],
   "source": [
    "df.head()"
   ]
  },
  {
   "cell_type": "code",
   "execution_count": 637,
   "id": "8ae59586",
   "metadata": {},
   "outputs": [],
   "source": [
    "from sklearn.linear_model import LinearRegression\n",
    "from sklearn.linear_model import BayesianRidge\n",
    "from sklearn.linear_model import SGDRegressor\n",
    "from sklearn.ensemble import GradientBoostingRegressor\n",
    "from sklearn.kernel_ridge import KernelRidge\n",
    "from sklearn.model_selection import train_test_split\n",
    "from sklearn.preprocessing import MinMaxScaler\n",
    "from sklearn.metrics import mean_squared_error\n",
    "from sklearn.feature_selection import RFE\n",
    "from sklearn.model_selection import KFold\n",
    "from sklearn.model_selection import cross_val_score\n",
    "from sklearn.model_selection import GridSearchCV\n",
    "from sklearn.metrics import r2_score"
   ]
  },
  {
   "cell_type": "code",
   "execution_count": 590,
   "id": "08c81e75",
   "metadata": {},
   "outputs": [],
   "source": [
    "X_values_dummies = pd.get_dummies(df[['Product', 'Gender', 'MaritalStatus']])"
   ]
  },
  {
   "cell_type": "code",
   "execution_count": 601,
   "id": "8c1d3c4a",
   "metadata": {},
   "outputs": [],
   "source": [
    "df_ML = pd.concat([df, X_values_dummies], axis = 1)"
   ]
  },
  {
   "cell_type": "code",
   "execution_count": 602,
   "id": "99b54ff1",
   "metadata": {},
   "outputs": [],
   "source": [
    "df_ML.drop(['Product', 'Gender', 'MaritalStatus'], axis = 1, inplace = True)"
   ]
  },
  {
   "cell_type": "code",
   "execution_count": 603,
   "id": "c6bcff26",
   "metadata": {},
   "outputs": [
    {
     "data": {
      "text/html": [
       "<div>\n",
       "<style scoped>\n",
       "    .dataframe tbody tr th:only-of-type {\n",
       "        vertical-align: middle;\n",
       "    }\n",
       "\n",
       "    .dataframe tbody tr th {\n",
       "        vertical-align: top;\n",
       "    }\n",
       "\n",
       "    .dataframe thead th {\n",
       "        text-align: right;\n",
       "    }\n",
       "</style>\n",
       "<table border=\"1\" class=\"dataframe\">\n",
       "  <thead>\n",
       "    <tr style=\"text-align: right;\">\n",
       "      <th></th>\n",
       "      <th>Age</th>\n",
       "      <th>Education</th>\n",
       "      <th>Usage</th>\n",
       "      <th>Fitness</th>\n",
       "      <th>Income</th>\n",
       "      <th>Miles</th>\n",
       "      <th>Product_TM195</th>\n",
       "      <th>Product_TM498</th>\n",
       "      <th>Product_TM798</th>\n",
       "      <th>Gender_Female</th>\n",
       "      <th>Gender_Male</th>\n",
       "      <th>MaritalStatus_Partnered</th>\n",
       "      <th>MaritalStatus_Single</th>\n",
       "    </tr>\n",
       "  </thead>\n",
       "  <tbody>\n",
       "    <tr>\n",
       "      <th>0</th>\n",
       "      <td>18</td>\n",
       "      <td>14</td>\n",
       "      <td>3</td>\n",
       "      <td>4</td>\n",
       "      <td>29562</td>\n",
       "      <td>112</td>\n",
       "      <td>1</td>\n",
       "      <td>0</td>\n",
       "      <td>0</td>\n",
       "      <td>0</td>\n",
       "      <td>1</td>\n",
       "      <td>0</td>\n",
       "      <td>1</td>\n",
       "    </tr>\n",
       "    <tr>\n",
       "      <th>1</th>\n",
       "      <td>19</td>\n",
       "      <td>15</td>\n",
       "      <td>2</td>\n",
       "      <td>3</td>\n",
       "      <td>31836</td>\n",
       "      <td>75</td>\n",
       "      <td>1</td>\n",
       "      <td>0</td>\n",
       "      <td>0</td>\n",
       "      <td>0</td>\n",
       "      <td>1</td>\n",
       "      <td>0</td>\n",
       "      <td>1</td>\n",
       "    </tr>\n",
       "    <tr>\n",
       "      <th>2</th>\n",
       "      <td>19</td>\n",
       "      <td>14</td>\n",
       "      <td>4</td>\n",
       "      <td>3</td>\n",
       "      <td>30699</td>\n",
       "      <td>66</td>\n",
       "      <td>1</td>\n",
       "      <td>0</td>\n",
       "      <td>0</td>\n",
       "      <td>1</td>\n",
       "      <td>0</td>\n",
       "      <td>1</td>\n",
       "      <td>0</td>\n",
       "    </tr>\n",
       "    <tr>\n",
       "      <th>3</th>\n",
       "      <td>19</td>\n",
       "      <td>12</td>\n",
       "      <td>3</td>\n",
       "      <td>3</td>\n",
       "      <td>32973</td>\n",
       "      <td>85</td>\n",
       "      <td>1</td>\n",
       "      <td>0</td>\n",
       "      <td>0</td>\n",
       "      <td>0</td>\n",
       "      <td>1</td>\n",
       "      <td>0</td>\n",
       "      <td>1</td>\n",
       "    </tr>\n",
       "    <tr>\n",
       "      <th>4</th>\n",
       "      <td>20</td>\n",
       "      <td>13</td>\n",
       "      <td>4</td>\n",
       "      <td>2</td>\n",
       "      <td>35247</td>\n",
       "      <td>47</td>\n",
       "      <td>1</td>\n",
       "      <td>0</td>\n",
       "      <td>0</td>\n",
       "      <td>0</td>\n",
       "      <td>1</td>\n",
       "      <td>1</td>\n",
       "      <td>0</td>\n",
       "    </tr>\n",
       "  </tbody>\n",
       "</table>\n",
       "</div>"
      ],
      "text/plain": [
       "   Age  Education  Usage  Fitness  Income  Miles  Product_TM195  \\\n",
       "0   18         14      3        4   29562    112              1   \n",
       "1   19         15      2        3   31836     75              1   \n",
       "2   19         14      4        3   30699     66              1   \n",
       "3   19         12      3        3   32973     85              1   \n",
       "4   20         13      4        2   35247     47              1   \n",
       "\n",
       "   Product_TM498  Product_TM798  Gender_Female  Gender_Male  \\\n",
       "0              0              0              0            1   \n",
       "1              0              0              0            1   \n",
       "2              0              0              1            0   \n",
       "3              0              0              0            1   \n",
       "4              0              0              0            1   \n",
       "\n",
       "   MaritalStatus_Partnered  MaritalStatus_Single  \n",
       "0                        0                     1  \n",
       "1                        0                     1  \n",
       "2                        1                     0  \n",
       "3                        0                     1  \n",
       "4                        1                     0  "
      ]
     },
     "execution_count": 603,
     "metadata": {},
     "output_type": "execute_result"
    }
   ],
   "source": [
    "df_ML.head()"
   ]
  },
  {
   "cell_type": "code",
   "execution_count": 670,
   "id": "79ea0b8c",
   "metadata": {},
   "outputs": [],
   "source": [
    "train, test = train_test_split(df_ML, test_size=0.2,random_state=0)"
   ]
  },
  {
   "cell_type": "code",
   "execution_count": 671,
   "id": "457b98a2",
   "metadata": {
    "scrolled": false
   },
   "outputs": [
    {
     "data": {
      "text/html": [
       "<div>\n",
       "<style scoped>\n",
       "    .dataframe tbody tr th:only-of-type {\n",
       "        vertical-align: middle;\n",
       "    }\n",
       "\n",
       "    .dataframe tbody tr th {\n",
       "        vertical-align: top;\n",
       "    }\n",
       "\n",
       "    .dataframe thead th {\n",
       "        text-align: right;\n",
       "    }\n",
       "</style>\n",
       "<table border=\"1\" class=\"dataframe\">\n",
       "  <thead>\n",
       "    <tr style=\"text-align: right;\">\n",
       "      <th></th>\n",
       "      <th>Age</th>\n",
       "      <th>Education</th>\n",
       "      <th>Usage</th>\n",
       "      <th>Fitness</th>\n",
       "      <th>Income</th>\n",
       "      <th>Miles</th>\n",
       "      <th>Product_TM195</th>\n",
       "      <th>Product_TM498</th>\n",
       "      <th>Product_TM798</th>\n",
       "      <th>Gender_Female</th>\n",
       "      <th>Gender_Male</th>\n",
       "      <th>MaritalStatus_Partnered</th>\n",
       "      <th>MaritalStatus_Single</th>\n",
       "    </tr>\n",
       "  </thead>\n",
       "  <tbody>\n",
       "    <tr>\n",
       "      <th>55</th>\n",
       "      <td>0.40625</td>\n",
       "      <td>0.222222</td>\n",
       "      <td>0.0</td>\n",
       "      <td>0.25</td>\n",
       "      <td>0.333436</td>\n",
       "      <td>0.076696</td>\n",
       "      <td>1</td>\n",
       "      <td>0</td>\n",
       "      <td>0</td>\n",
       "      <td>0</td>\n",
       "      <td>1</td>\n",
       "      <td>1</td>\n",
       "      <td>0</td>\n",
       "    </tr>\n",
       "    <tr>\n",
       "      <th>83</th>\n",
       "      <td>0.06250</td>\n",
       "      <td>0.222222</td>\n",
       "      <td>0.2</td>\n",
       "      <td>0.50</td>\n",
       "      <td>0.121249</td>\n",
       "      <td>0.218289</td>\n",
       "      <td>0</td>\n",
       "      <td>1</td>\n",
       "      <td>0</td>\n",
       "      <td>0</td>\n",
       "      <td>1</td>\n",
       "      <td>0</td>\n",
       "      <td>1</td>\n",
       "    </tr>\n",
       "    <tr>\n",
       "      <th>45</th>\n",
       "      <td>0.31250</td>\n",
       "      <td>0.444444</td>\n",
       "      <td>0.0</td>\n",
       "      <td>0.50</td>\n",
       "      <td>0.303123</td>\n",
       "      <td>0.132743</td>\n",
       "      <td>1</td>\n",
       "      <td>0</td>\n",
       "      <td>0</td>\n",
       "      <td>1</td>\n",
       "      <td>0</td>\n",
       "      <td>1</td>\n",
       "      <td>0</td>\n",
       "    </tr>\n",
       "    <tr>\n",
       "      <th>163</th>\n",
       "      <td>0.31250</td>\n",
       "      <td>0.666667</td>\n",
       "      <td>1.0</td>\n",
       "      <td>1.00</td>\n",
       "      <td>0.634892</td>\n",
       "      <td>0.469027</td>\n",
       "      <td>0</td>\n",
       "      <td>0</td>\n",
       "      <td>1</td>\n",
       "      <td>0</td>\n",
       "      <td>1</td>\n",
       "      <td>1</td>\n",
       "      <td>0</td>\n",
       "    </tr>\n",
       "    <tr>\n",
       "      <th>123</th>\n",
       "      <td>0.46875</td>\n",
       "      <td>0.444444</td>\n",
       "      <td>0.6</td>\n",
       "      <td>0.50</td>\n",
       "      <td>0.318279</td>\n",
       "      <td>0.218289</td>\n",
       "      <td>0</td>\n",
       "      <td>1</td>\n",
       "      <td>0</td>\n",
       "      <td>1</td>\n",
       "      <td>0</td>\n",
       "      <td>1</td>\n",
       "      <td>0</td>\n",
       "    </tr>\n",
       "  </tbody>\n",
       "</table>\n",
       "</div>"
      ],
      "text/plain": [
       "         Age  Education  Usage  Fitness    Income     Miles  Product_TM195  \\\n",
       "55   0.40625   0.222222    0.0     0.25  0.333436  0.076696              1   \n",
       "83   0.06250   0.222222    0.2     0.50  0.121249  0.218289              0   \n",
       "45   0.31250   0.444444    0.0     0.50  0.303123  0.132743              1   \n",
       "163  0.31250   0.666667    1.0     1.00  0.634892  0.469027              0   \n",
       "123  0.46875   0.444444    0.6     0.50  0.318279  0.218289              0   \n",
       "\n",
       "     Product_TM498  Product_TM798  Gender_Female  Gender_Male  \\\n",
       "55               0              0              0            1   \n",
       "83               1              0              0            1   \n",
       "45               0              0              1            0   \n",
       "163              0              1              0            1   \n",
       "123              1              0              1            0   \n",
       "\n",
       "     MaritalStatus_Partnered  MaritalStatus_Single  \n",
       "55                         1                     0  \n",
       "83                         0                     1  \n",
       "45                         1                     0  \n",
       "163                        1                     0  \n",
       "123                        1                     0  "
      ]
     },
     "execution_count": 671,
     "metadata": {},
     "output_type": "execute_result"
    }
   ],
   "source": [
    "scaler = MinMaxScaler()\n",
    "\n",
    "numeric = ['Age', \"Education\", 'Usage', 'Fitness', 'Income', 'Miles']\n",
    "\n",
    "train[numeric] = scaler.fit_transform(train[numeric])\n",
    "train.head()"
   ]
  },
  {
   "cell_type": "code",
   "execution_count": 672,
   "id": "84c20bde",
   "metadata": {},
   "outputs": [
    {
     "data": {
      "text/html": [
       "<div>\n",
       "<style scoped>\n",
       "    .dataframe tbody tr th:only-of-type {\n",
       "        vertical-align: middle;\n",
       "    }\n",
       "\n",
       "    .dataframe tbody tr th {\n",
       "        vertical-align: top;\n",
       "    }\n",
       "\n",
       "    .dataframe thead th {\n",
       "        text-align: right;\n",
       "    }\n",
       "</style>\n",
       "<table border=\"1\" class=\"dataframe\">\n",
       "  <thead>\n",
       "    <tr style=\"text-align: right;\">\n",
       "      <th></th>\n",
       "      <th>Age</th>\n",
       "      <th>Education</th>\n",
       "      <th>Usage</th>\n",
       "      <th>Fitness</th>\n",
       "      <th>Income</th>\n",
       "      <th>Miles</th>\n",
       "      <th>Product_TM195</th>\n",
       "      <th>Product_TM498</th>\n",
       "      <th>Product_TM798</th>\n",
       "      <th>Gender_Female</th>\n",
       "      <th>Gender_Male</th>\n",
       "      <th>MaritalStatus_Partnered</th>\n",
       "      <th>MaritalStatus_Single</th>\n",
       "    </tr>\n",
       "  </thead>\n",
       "  <tbody>\n",
       "    <tr>\n",
       "      <th>106</th>\n",
       "      <td>0.21875</td>\n",
       "      <td>0.222222</td>\n",
       "      <td>0.0</td>\n",
       "      <td>0.25</td>\n",
       "      <td>0.212186</td>\n",
       "      <td>0.061947</td>\n",
       "      <td>0</td>\n",
       "      <td>1</td>\n",
       "      <td>0</td>\n",
       "      <td>1</td>\n",
       "      <td>0</td>\n",
       "      <td>0</td>\n",
       "      <td>1</td>\n",
       "    </tr>\n",
       "    <tr>\n",
       "      <th>7</th>\n",
       "      <td>0.09375</td>\n",
       "      <td>0.111111</td>\n",
       "      <td>0.2</td>\n",
       "      <td>0.50</td>\n",
       "      <td>0.045468</td>\n",
       "      <td>0.188791</td>\n",
       "      <td>1</td>\n",
       "      <td>0</td>\n",
       "      <td>0</td>\n",
       "      <td>0</td>\n",
       "      <td>1</td>\n",
       "      <td>0</td>\n",
       "      <td>1</td>\n",
       "    </tr>\n",
       "    <tr>\n",
       "      <th>125</th>\n",
       "      <td>0.50000</td>\n",
       "      <td>0.444444</td>\n",
       "      <td>0.4</td>\n",
       "      <td>0.50</td>\n",
       "      <td>0.469841</td>\n",
       "      <td>0.218289</td>\n",
       "      <td>0</td>\n",
       "      <td>1</td>\n",
       "      <td>0</td>\n",
       "      <td>1</td>\n",
       "      <td>0</td>\n",
       "      <td>1</td>\n",
       "      <td>0</td>\n",
       "    </tr>\n",
       "    <tr>\n",
       "      <th>160</th>\n",
       "      <td>0.28125</td>\n",
       "      <td>0.666667</td>\n",
       "      <td>0.4</td>\n",
       "      <td>0.50</td>\n",
       "      <td>0.784255</td>\n",
       "      <td>0.233038</td>\n",
       "      <td>0</td>\n",
       "      <td>0</td>\n",
       "      <td>1</td>\n",
       "      <td>0</td>\n",
       "      <td>1</td>\n",
       "      <td>0</td>\n",
       "      <td>1</td>\n",
       "    </tr>\n",
       "    <tr>\n",
       "      <th>136</th>\n",
       "      <td>0.68750</td>\n",
       "      <td>0.444444</td>\n",
       "      <td>0.2</td>\n",
       "      <td>0.50</td>\n",
       "      <td>0.378904</td>\n",
       "      <td>0.188791</td>\n",
       "      <td>0</td>\n",
       "      <td>1</td>\n",
       "      <td>0</td>\n",
       "      <td>1</td>\n",
       "      <td>0</td>\n",
       "      <td>0</td>\n",
       "      <td>1</td>\n",
       "    </tr>\n",
       "  </tbody>\n",
       "</table>\n",
       "</div>"
      ],
      "text/plain": [
       "         Age  Education  Usage  Fitness    Income     Miles  Product_TM195  \\\n",
       "106  0.21875   0.222222    0.0     0.25  0.212186  0.061947              0   \n",
       "7    0.09375   0.111111    0.2     0.50  0.045468  0.188791              1   \n",
       "125  0.50000   0.444444    0.4     0.50  0.469841  0.218289              0   \n",
       "160  0.28125   0.666667    0.4     0.50  0.784255  0.233038              0   \n",
       "136  0.68750   0.444444    0.2     0.50  0.378904  0.188791              0   \n",
       "\n",
       "     Product_TM498  Product_TM798  Gender_Female  Gender_Male  \\\n",
       "106              1              0              1            0   \n",
       "7                0              0              0            1   \n",
       "125              1              0              1            0   \n",
       "160              0              1              0            1   \n",
       "136              1              0              1            0   \n",
       "\n",
       "     MaritalStatus_Partnered  MaritalStatus_Single  \n",
       "106                        0                     1  \n",
       "7                          0                     1  \n",
       "125                        1                     0  \n",
       "160                        0                     1  \n",
       "136                        0                     1  "
      ]
     },
     "execution_count": 672,
     "metadata": {},
     "output_type": "execute_result"
    }
   ],
   "source": [
    "test[numeric] = scaler.transform(test[numeric])\n",
    "test.head()"
   ]
  },
  {
   "cell_type": "code",
   "execution_count": 607,
   "id": "d0e1b828",
   "metadata": {},
   "outputs": [],
   "source": [
    "y_train = train['Miles']\n",
    "X_train = train.drop(\"Miles\", axis=1)\n",
    "\n",
    "y_test = test['Miles']\n",
    "X_test = test.drop('Miles', axis=1)"
   ]
  },
  {
   "cell_type": "code",
   "execution_count": 608,
   "id": "6bf8be3c",
   "metadata": {
    "scrolled": false
   },
   "outputs": [
    {
     "data": {
      "text/html": [
       "<div>\n",
       "<style scoped>\n",
       "    .dataframe tbody tr th:only-of-type {\n",
       "        vertical-align: middle;\n",
       "    }\n",
       "\n",
       "    .dataframe tbody tr th {\n",
       "        vertical-align: top;\n",
       "    }\n",
       "\n",
       "    .dataframe thead th {\n",
       "        text-align: right;\n",
       "    }\n",
       "</style>\n",
       "<table border=\"1\" class=\"dataframe\">\n",
       "  <thead>\n",
       "    <tr style=\"text-align: right;\">\n",
       "      <th></th>\n",
       "      <th>Age</th>\n",
       "      <th>Education</th>\n",
       "      <th>Usage</th>\n",
       "      <th>Fitness</th>\n",
       "      <th>Income</th>\n",
       "      <th>Product_TM195</th>\n",
       "      <th>Product_TM498</th>\n",
       "      <th>Product_TM798</th>\n",
       "      <th>Gender_Female</th>\n",
       "      <th>Gender_Male</th>\n",
       "      <th>MaritalStatus_Partnered</th>\n",
       "      <th>MaritalStatus_Single</th>\n",
       "    </tr>\n",
       "  </thead>\n",
       "  <tbody>\n",
       "    <tr>\n",
       "      <th>55</th>\n",
       "      <td>0.40625</td>\n",
       "      <td>0.222222</td>\n",
       "      <td>0.0</td>\n",
       "      <td>0.25</td>\n",
       "      <td>0.333436</td>\n",
       "      <td>1</td>\n",
       "      <td>0</td>\n",
       "      <td>0</td>\n",
       "      <td>0</td>\n",
       "      <td>1</td>\n",
       "      <td>1</td>\n",
       "      <td>0</td>\n",
       "    </tr>\n",
       "    <tr>\n",
       "      <th>83</th>\n",
       "      <td>0.06250</td>\n",
       "      <td>0.222222</td>\n",
       "      <td>0.2</td>\n",
       "      <td>0.50</td>\n",
       "      <td>0.121249</td>\n",
       "      <td>0</td>\n",
       "      <td>1</td>\n",
       "      <td>0</td>\n",
       "      <td>0</td>\n",
       "      <td>1</td>\n",
       "      <td>0</td>\n",
       "      <td>1</td>\n",
       "    </tr>\n",
       "    <tr>\n",
       "      <th>45</th>\n",
       "      <td>0.31250</td>\n",
       "      <td>0.444444</td>\n",
       "      <td>0.0</td>\n",
       "      <td>0.50</td>\n",
       "      <td>0.303123</td>\n",
       "      <td>1</td>\n",
       "      <td>0</td>\n",
       "      <td>0</td>\n",
       "      <td>1</td>\n",
       "      <td>0</td>\n",
       "      <td>1</td>\n",
       "      <td>0</td>\n",
       "    </tr>\n",
       "    <tr>\n",
       "      <th>163</th>\n",
       "      <td>0.31250</td>\n",
       "      <td>0.666667</td>\n",
       "      <td>1.0</td>\n",
       "      <td>1.00</td>\n",
       "      <td>0.634892</td>\n",
       "      <td>0</td>\n",
       "      <td>0</td>\n",
       "      <td>1</td>\n",
       "      <td>0</td>\n",
       "      <td>1</td>\n",
       "      <td>1</td>\n",
       "      <td>0</td>\n",
       "    </tr>\n",
       "    <tr>\n",
       "      <th>123</th>\n",
       "      <td>0.46875</td>\n",
       "      <td>0.444444</td>\n",
       "      <td>0.6</td>\n",
       "      <td>0.50</td>\n",
       "      <td>0.318279</td>\n",
       "      <td>0</td>\n",
       "      <td>1</td>\n",
       "      <td>0</td>\n",
       "      <td>1</td>\n",
       "      <td>0</td>\n",
       "      <td>1</td>\n",
       "      <td>0</td>\n",
       "    </tr>\n",
       "    <tr>\n",
       "      <th>...</th>\n",
       "      <td>...</td>\n",
       "      <td>...</td>\n",
       "      <td>...</td>\n",
       "      <td>...</td>\n",
       "      <td>...</td>\n",
       "      <td>...</td>\n",
       "      <td>...</td>\n",
       "      <td>...</td>\n",
       "      <td>...</td>\n",
       "      <td>...</td>\n",
       "      <td>...</td>\n",
       "      <td>...</td>\n",
       "    </tr>\n",
       "    <tr>\n",
       "      <th>103</th>\n",
       "      <td>0.21875</td>\n",
       "      <td>0.222222</td>\n",
       "      <td>0.4</td>\n",
       "      <td>0.50</td>\n",
       "      <td>0.212186</td>\n",
       "      <td>0</td>\n",
       "      <td>1</td>\n",
       "      <td>0</td>\n",
       "      <td>0</td>\n",
       "      <td>1</td>\n",
       "      <td>1</td>\n",
       "      <td>0</td>\n",
       "    </tr>\n",
       "    <tr>\n",
       "      <th>67</th>\n",
       "      <td>0.59375</td>\n",
       "      <td>0.444444</td>\n",
       "      <td>0.2</td>\n",
       "      <td>0.50</td>\n",
       "      <td>0.106093</td>\n",
       "      <td>1</td>\n",
       "      <td>0</td>\n",
       "      <td>0</td>\n",
       "      <td>1</td>\n",
       "      <td>0</td>\n",
       "      <td>1</td>\n",
       "      <td>0</td>\n",
       "    </tr>\n",
       "    <tr>\n",
       "      <th>117</th>\n",
       "      <td>0.40625</td>\n",
       "      <td>0.666667</td>\n",
       "      <td>0.0</td>\n",
       "      <td>0.00</td>\n",
       "      <td>0.475320</td>\n",
       "      <td>0</td>\n",
       "      <td>1</td>\n",
       "      <td>0</td>\n",
       "      <td>1</td>\n",
       "      <td>0</td>\n",
       "      <td>0</td>\n",
       "      <td>1</td>\n",
       "    </tr>\n",
       "    <tr>\n",
       "      <th>47</th>\n",
       "      <td>0.31250</td>\n",
       "      <td>0.222222</td>\n",
       "      <td>0.2</td>\n",
       "      <td>0.50</td>\n",
       "      <td>0.333436</td>\n",
       "      <td>1</td>\n",
       "      <td>0</td>\n",
       "      <td>0</td>\n",
       "      <td>1</td>\n",
       "      <td>0</td>\n",
       "      <td>1</td>\n",
       "      <td>0</td>\n",
       "    </tr>\n",
       "    <tr>\n",
       "      <th>172</th>\n",
       "      <td>0.50000</td>\n",
       "      <td>0.444444</td>\n",
       "      <td>0.6</td>\n",
       "      <td>1.00</td>\n",
       "      <td>0.834042</td>\n",
       "      <td>0</td>\n",
       "      <td>0</td>\n",
       "      <td>1</td>\n",
       "      <td>0</td>\n",
       "      <td>1</td>\n",
       "      <td>0</td>\n",
       "      <td>1</td>\n",
       "    </tr>\n",
       "  </tbody>\n",
       "</table>\n",
       "<p>144 rows × 12 columns</p>\n",
       "</div>"
      ],
      "text/plain": [
       "         Age  Education  Usage  Fitness    Income  Product_TM195  \\\n",
       "55   0.40625   0.222222    0.0     0.25  0.333436              1   \n",
       "83   0.06250   0.222222    0.2     0.50  0.121249              0   \n",
       "45   0.31250   0.444444    0.0     0.50  0.303123              1   \n",
       "163  0.31250   0.666667    1.0     1.00  0.634892              0   \n",
       "123  0.46875   0.444444    0.6     0.50  0.318279              0   \n",
       "..       ...        ...    ...      ...       ...            ...   \n",
       "103  0.21875   0.222222    0.4     0.50  0.212186              0   \n",
       "67   0.59375   0.444444    0.2     0.50  0.106093              1   \n",
       "117  0.40625   0.666667    0.0     0.00  0.475320              0   \n",
       "47   0.31250   0.222222    0.2     0.50  0.333436              1   \n",
       "172  0.50000   0.444444    0.6     1.00  0.834042              0   \n",
       "\n",
       "     Product_TM498  Product_TM798  Gender_Female  Gender_Male  \\\n",
       "55               0              0              0            1   \n",
       "83               1              0              0            1   \n",
       "45               0              0              1            0   \n",
       "163              0              1              0            1   \n",
       "123              1              0              1            0   \n",
       "..             ...            ...            ...          ...   \n",
       "103              1              0              0            1   \n",
       "67               0              0              1            0   \n",
       "117              1              0              1            0   \n",
       "47               0              0              1            0   \n",
       "172              0              1              0            1   \n",
       "\n",
       "     MaritalStatus_Partnered  MaritalStatus_Single  \n",
       "55                         1                     0  \n",
       "83                         0                     1  \n",
       "45                         1                     0  \n",
       "163                        1                     0  \n",
       "123                        1                     0  \n",
       "..                       ...                   ...  \n",
       "103                        1                     0  \n",
       "67                         1                     0  \n",
       "117                        0                     1  \n",
       "47                         1                     0  \n",
       "172                        0                     1  \n",
       "\n",
       "[144 rows x 12 columns]"
      ]
     },
     "execution_count": 608,
     "metadata": {},
     "output_type": "execute_result"
    }
   ],
   "source": [
    "X_train"
   ]
  },
  {
   "cell_type": "code",
   "execution_count": 609,
   "id": "5171af8b",
   "metadata": {},
   "outputs": [],
   "source": [
    "X_train = np.array(X_train)\n",
    "X_test = np.array(X_test)\n",
    "y_train = np.array(y_train)\n",
    "y_test = np.array(y_test)"
   ]
  },
  {
   "cell_type": "code",
   "execution_count": 610,
   "id": "9d42d541",
   "metadata": {},
   "outputs": [
    {
     "data": {
      "text/plain": [
       "((144, 12), (36, 12))"
      ]
     },
     "execution_count": 610,
     "metadata": {},
     "output_type": "execute_result"
    }
   ],
   "source": [
    "X_train.shape, X_test.shape"
   ]
  },
  {
   "cell_type": "code",
   "execution_count": 611,
   "id": "cce7cadf",
   "metadata": {},
   "outputs": [
    {
     "data": {
      "text/plain": [
       "(array([0.07669617, 0.21828909, 0.13274336, 0.46902655, 0.21828909,\n",
       "        0.27138643, 0.18879056, 0.25073746, 0.18879056, 0.12684366,\n",
       "        0.05014749, 0.21828909, 0.25073746, 0.23303835, 0.24188791,\n",
       "        0.05014749, 0.70501475, 0.18879056, 0.18879056, 0.24188791,\n",
       "        0.21533923, 0.25073746, 0.09439528, 0.09439528, 0.25073746,\n",
       "        0.31268437, 0.12684366, 0.15929204, 0.18879056, 0.23303835,\n",
       "        0.12684366, 0.5280236 , 0.21828909, 0.13274336, 0.13274336,\n",
       "        0.05014749, 0.18879056, 0.31268437, 0.10324484, 0.18879056,\n",
       "        0.09439528, 0.13274336, 1.        , 0.23303835, 0.21828909,\n",
       "        0.0619469 , 0.12684366, 0.2920354 , 0.46902655, 0.18879056,\n",
       "        0.4100295 , 0.31268437, 0.21533923, 0.15634218, 0.18879056,\n",
       "        0.10324484, 0.10324484, 0.27138643, 0.0619469 , 0.15929204,\n",
       "        0.18879056, 0.49262537, 0.7640118 , 0.27138643, 0.15929204,\n",
       "        0.21533923, 0.21533923, 0.25073746, 0.15929204, 0.18879056,\n",
       "        0.2920354 , 0.31268437, 0.15929204, 0.15929204, 0.13274336,\n",
       "        0.56342183, 0.25073746, 0.15929204, 0.12684366, 0.46902655,\n",
       "        0.07669617, 0.26843658, 0.15634218, 0.6460177 , 0.24188791,\n",
       "        0.13274336, 0.21828909, 0.12684366, 0.27138643, 0.27138643,\n",
       "        0.13274336, 0.5280236 , 0.18879056, 0.15929204, 0.43952802,\n",
       "        0.23303835, 0.18879056, 0.09439528, 0.18879056, 0.43952802,\n",
       "        0.21533923, 0.13274336, 0.18879056, 0.3539823 , 0.2920354 ,\n",
       "        0.09439528, 0.27138643, 0.10324484, 0.25073746, 0.27138643,\n",
       "        0.4100295 , 0.18879056, 0.4100295 , 0.07669617, 0.5280236 ,\n",
       "        0.5280236 , 0.1740413 , 0.07669617, 0.0619469 , 0.25073746,\n",
       "        0.13274336, 0.21828909, 0.5280236 , 0.38053097, 0.32743363,\n",
       "        0.07669617, 0.07669617, 0.09439528, 0.38053097, 0.5280236 ,\n",
       "        0.32743363, 0.18879056, 0.25073746, 0.18879056, 0.10324484,\n",
       "        0.21828909, 0.07669617, 0.21533923, 0.18879056, 0.43952802,\n",
       "        0.18879056, 0.        , 0.21533923, 0.38053097]),\n",
       " array([0.0619469 , 0.18879056, 0.21828909, 0.23303835, 0.18879056,\n",
       "        0.15929204, 0.07669617, 0.4100295 , 0.46902655, 0.18879056,\n",
       "        0.18879056, 0.23303835, 0.46902655, 0.13274336, 0.27138643,\n",
       "        0.09439528, 0.38053097, 0.35103245, 0.18879056, 0.21828909,\n",
       "        0.23303835, 0.18879056, 0.18879056, 0.07669617, 0.21828909,\n",
       "        0.46902655, 0.15634218, 0.82300885, 0.4100295 , 0.43657817,\n",
       "        0.10324484, 0.15929204, 0.31268437, 0.21828909, 0.21533923,\n",
       "        0.3539823 ]))"
      ]
     },
     "execution_count": 611,
     "metadata": {},
     "output_type": "execute_result"
    }
   ],
   "source": [
    "y_train, y_test"
   ]
  },
  {
   "cell_type": "code",
   "execution_count": 612,
   "id": "311b2cee",
   "metadata": {},
   "outputs": [],
   "source": [
    "models_list = [LinearRegression(), \n",
    "               BayesianRidge(),\n",
    "               SGDRegressor(),\n",
    "               KernelRidge(),\n",
    "               #GradientBoostingRegressor()\n",
    "              ]"
   ]
  },
  {
   "cell_type": "code",
   "execution_count": 613,
   "id": "7618a1bd",
   "metadata": {},
   "outputs": [],
   "source": [
    "def first_check(model):\n",
    "    score = []\n",
    "    \n",
    "    model.fit(X_train, y_train)\n",
    "    y_prediction = model.predict(X_test)\n",
    "        \n",
    "    score = model.score(X_test, y_test)\n",
    "    \n",
    "    return score\n",
    "    \n",
    "    "
   ]
  },
  {
   "cell_type": "code",
   "execution_count": 614,
   "id": "f7afdd42",
   "metadata": {
    "scrolled": true
   },
   "outputs": [],
   "source": [
    "temp_results = []\n",
    "\n",
    "for model in models_list:\n",
    "    x = first_check(model)\n",
    "    temp_results.append(x)"
   ]
  },
  {
   "cell_type": "code",
   "execution_count": 615,
   "id": "bde12510",
   "metadata": {},
   "outputs": [],
   "source": [
    "df_results = pd.DataFrame(models_list,temp_results)"
   ]
  },
  {
   "cell_type": "code",
   "execution_count": 616,
   "id": "110906e7",
   "metadata": {},
   "outputs": [
    {
     "data": {
      "text/html": [
       "<div>\n",
       "<style scoped>\n",
       "    .dataframe tbody tr th:only-of-type {\n",
       "        vertical-align: middle;\n",
       "    }\n",
       "\n",
       "    .dataframe tbody tr th {\n",
       "        vertical-align: top;\n",
       "    }\n",
       "\n",
       "    .dataframe thead th {\n",
       "        text-align: right;\n",
       "    }\n",
       "</style>\n",
       "<table border=\"1\" class=\"dataframe\">\n",
       "  <thead>\n",
       "    <tr style=\"text-align: right;\">\n",
       "      <th></th>\n",
       "      <th>0</th>\n",
       "    </tr>\n",
       "  </thead>\n",
       "  <tbody>\n",
       "    <tr>\n",
       "      <th>0.794509</th>\n",
       "      <td>LinearRegression()</td>\n",
       "    </tr>\n",
       "    <tr>\n",
       "      <th>0.796415</th>\n",
       "      <td>BayesianRidge()</td>\n",
       "    </tr>\n",
       "    <tr>\n",
       "      <th>0.568581</th>\n",
       "      <td>SGDRegressor()</td>\n",
       "    </tr>\n",
       "    <tr>\n",
       "      <th>0.789985</th>\n",
       "      <td>KernelRidge()</td>\n",
       "    </tr>\n",
       "  </tbody>\n",
       "</table>\n",
       "</div>"
      ],
      "text/plain": [
       "                           0\n",
       "0.794509  LinearRegression()\n",
       "0.796415     BayesianRidge()\n",
       "0.568581      SGDRegressor()\n",
       "0.789985       KernelRidge()"
      ]
     },
     "execution_count": 616,
     "metadata": {},
     "output_type": "execute_result"
    }
   ],
   "source": [
    "df_results"
   ]
  },
  {
   "cell_type": "markdown",
   "id": "afc458bb",
   "metadata": {},
   "source": [
    "Quite good score, but I will choose Standard Linear Regression to go further on, so let's tweak this one with K_fold and Grid Search for the best parameters."
   ]
  },
  {
   "cell_type": "code",
   "execution_count": 619,
   "id": "f84c36da",
   "metadata": {},
   "outputs": [
    {
     "data": {
      "text/plain": [
       "(144, 12)"
      ]
     },
     "execution_count": 619,
     "metadata": {},
     "output_type": "execute_result"
    }
   ],
   "source": [
    "X_train.shape"
   ]
  },
  {
   "cell_type": "markdown",
   "id": "32cd485c",
   "metadata": {},
   "source": [
    "We have 12 features to go with."
   ]
  },
  {
   "cell_type": "code",
   "execution_count": 620,
   "id": "12a39375",
   "metadata": {},
   "outputs": [],
   "source": [
    "lm = LinearRegression()\n",
    "lm.fit(X_train, y_train)\n",
    "\n",
    "rfe = RFE(lm, n_features_to_select = 12)\n",
    "rfe = rfe.fit(X_train, y_train)"
   ]
  },
  {
   "cell_type": "code",
   "execution_count": 626,
   "id": "f1902094",
   "metadata": {},
   "outputs": [
    {
     "data": {
      "text/plain": [
       "[('Age', True, 1),\n",
       " ('Education', True, 1),\n",
       " ('Usage', True, 1),\n",
       " ('Fitness', True, 1),\n",
       " ('Income', True, 1),\n",
       " ('Miles', True, 1),\n",
       " ('Product_TM195', True, 1),\n",
       " ('Product_TM498', True, 1),\n",
       " ('Product_TM798', True, 1),\n",
       " ('Gender_Female', True, 1),\n",
       " ('Gender_Male', True, 1),\n",
       " ('MaritalStatus_Partnered', True, 1)]"
      ]
     },
     "execution_count": 626,
     "metadata": {},
     "output_type": "execute_result"
    }
   ],
   "source": [
    "list(zip(test.columns, rfe.support_,rfe.ranking_))"
   ]
  },
  {
   "cell_type": "code",
   "execution_count": 627,
   "id": "d23b1acb",
   "metadata": {},
   "outputs": [
    {
     "name": "stdout",
     "output_type": "stream",
     "text": [
      "Fitting 5 folds for each of 11 candidates, totalling 55 fits\n"
     ]
    },
    {
     "data": {
      "text/html": [
       "<style>#sk-container-id-1 {color: black;background-color: white;}#sk-container-id-1 pre{padding: 0;}#sk-container-id-1 div.sk-toggleable {background-color: white;}#sk-container-id-1 label.sk-toggleable__label {cursor: pointer;display: block;width: 100%;margin-bottom: 0;padding: 0.3em;box-sizing: border-box;text-align: center;}#sk-container-id-1 label.sk-toggleable__label-arrow:before {content: \"▸\";float: left;margin-right: 0.25em;color: #696969;}#sk-container-id-1 label.sk-toggleable__label-arrow:hover:before {color: black;}#sk-container-id-1 div.sk-estimator:hover label.sk-toggleable__label-arrow:before {color: black;}#sk-container-id-1 div.sk-toggleable__content {max-height: 0;max-width: 0;overflow: hidden;text-align: left;background-color: #f0f8ff;}#sk-container-id-1 div.sk-toggleable__content pre {margin: 0.2em;color: black;border-radius: 0.25em;background-color: #f0f8ff;}#sk-container-id-1 input.sk-toggleable__control:checked~div.sk-toggleable__content {max-height: 200px;max-width: 100%;overflow: auto;}#sk-container-id-1 input.sk-toggleable__control:checked~label.sk-toggleable__label-arrow:before {content: \"▾\";}#sk-container-id-1 div.sk-estimator input.sk-toggleable__control:checked~label.sk-toggleable__label {background-color: #d4ebff;}#sk-container-id-1 div.sk-label input.sk-toggleable__control:checked~label.sk-toggleable__label {background-color: #d4ebff;}#sk-container-id-1 input.sk-hidden--visually {border: 0;clip: rect(1px 1px 1px 1px);clip: rect(1px, 1px, 1px, 1px);height: 1px;margin: -1px;overflow: hidden;padding: 0;position: absolute;width: 1px;}#sk-container-id-1 div.sk-estimator {font-family: monospace;background-color: #f0f8ff;border: 1px dotted black;border-radius: 0.25em;box-sizing: border-box;margin-bottom: 0.5em;}#sk-container-id-1 div.sk-estimator:hover {background-color: #d4ebff;}#sk-container-id-1 div.sk-parallel-item::after {content: \"\";width: 100%;border-bottom: 1px solid gray;flex-grow: 1;}#sk-container-id-1 div.sk-label:hover label.sk-toggleable__label {background-color: #d4ebff;}#sk-container-id-1 div.sk-serial::before {content: \"\";position: absolute;border-left: 1px solid gray;box-sizing: border-box;top: 0;bottom: 0;left: 50%;z-index: 0;}#sk-container-id-1 div.sk-serial {display: flex;flex-direction: column;align-items: center;background-color: white;padding-right: 0.2em;padding-left: 0.2em;position: relative;}#sk-container-id-1 div.sk-item {position: relative;z-index: 1;}#sk-container-id-1 div.sk-parallel {display: flex;align-items: stretch;justify-content: center;background-color: white;position: relative;}#sk-container-id-1 div.sk-item::before, #sk-container-id-1 div.sk-parallel-item::before {content: \"\";position: absolute;border-left: 1px solid gray;box-sizing: border-box;top: 0;bottom: 0;left: 50%;z-index: -1;}#sk-container-id-1 div.sk-parallel-item {display: flex;flex-direction: column;z-index: 1;position: relative;background-color: white;}#sk-container-id-1 div.sk-parallel-item:first-child::after {align-self: flex-end;width: 50%;}#sk-container-id-1 div.sk-parallel-item:last-child::after {align-self: flex-start;width: 50%;}#sk-container-id-1 div.sk-parallel-item:only-child::after {width: 0;}#sk-container-id-1 div.sk-dashed-wrapped {border: 1px dashed gray;margin: 0 0.4em 0.5em 0.4em;box-sizing: border-box;padding-bottom: 0.4em;background-color: white;}#sk-container-id-1 div.sk-label label {font-family: monospace;font-weight: bold;display: inline-block;line-height: 1.2em;}#sk-container-id-1 div.sk-label-container {text-align: center;}#sk-container-id-1 div.sk-container {/* jupyter's `normalize.less` sets `[hidden] { display: none; }` but bootstrap.min.css set `[hidden] { display: none !important; }` so we also need the `!important` here to be able to override the default hidden behavior on the sphinx rendered scikit-learn.org. See: https://github.com/scikit-learn/scikit-learn/issues/21755 */display: inline-block !important;position: relative;}#sk-container-id-1 div.sk-text-repr-fallback {display: none;}</style><div id=\"sk-container-id-1\" class=\"sk-top-container\"><div class=\"sk-text-repr-fallback\"><pre>GridSearchCV(cv=KFold(n_splits=5, random_state=100, shuffle=True),\n",
       "             estimator=RFE(estimator=LinearRegression()),\n",
       "             param_grid=[{&#x27;n_features_to_select&#x27;: [1, 2, 3, 4, 5, 6, 7, 8, 9,\n",
       "                                                   10, 11]}],\n",
       "             return_train_score=True, scoring=&#x27;r2&#x27;, verbose=1)</pre><b>In a Jupyter environment, please rerun this cell to show the HTML representation or trust the notebook. <br />On GitHub, the HTML representation is unable to render, please try loading this page with nbviewer.org.</b></div><div class=\"sk-container\" hidden><div class=\"sk-item sk-dashed-wrapped\"><div class=\"sk-label-container\"><div class=\"sk-label sk-toggleable\"><input class=\"sk-toggleable__control sk-hidden--visually\" id=\"sk-estimator-id-1\" type=\"checkbox\" ><label for=\"sk-estimator-id-1\" class=\"sk-toggleable__label sk-toggleable__label-arrow\">GridSearchCV</label><div class=\"sk-toggleable__content\"><pre>GridSearchCV(cv=KFold(n_splits=5, random_state=100, shuffle=True),\n",
       "             estimator=RFE(estimator=LinearRegression()),\n",
       "             param_grid=[{&#x27;n_features_to_select&#x27;: [1, 2, 3, 4, 5, 6, 7, 8, 9,\n",
       "                                                   10, 11]}],\n",
       "             return_train_score=True, scoring=&#x27;r2&#x27;, verbose=1)</pre></div></div></div><div class=\"sk-parallel\"><div class=\"sk-parallel-item\"><div class=\"sk-item\"><div class=\"sk-label-container\"><div class=\"sk-label sk-toggleable\"><input class=\"sk-toggleable__control sk-hidden--visually\" id=\"sk-estimator-id-2\" type=\"checkbox\" ><label for=\"sk-estimator-id-2\" class=\"sk-toggleable__label sk-toggleable__label-arrow\">estimator: RFE</label><div class=\"sk-toggleable__content\"><pre>RFE(estimator=LinearRegression())</pre></div></div></div><div class=\"sk-serial\"><div class=\"sk-item sk-dashed-wrapped\"><div class=\"sk-parallel\"><div class=\"sk-parallel-item\"><div class=\"sk-item\"><div class=\"sk-label-container\"><div class=\"sk-label sk-toggleable\"><input class=\"sk-toggleable__control sk-hidden--visually\" id=\"sk-estimator-id-3\" type=\"checkbox\" ><label for=\"sk-estimator-id-3\" class=\"sk-toggleable__label sk-toggleable__label-arrow\">estimator: LinearRegression</label><div class=\"sk-toggleable__content\"><pre>LinearRegression()</pre></div></div></div><div class=\"sk-serial\"><div class=\"sk-item\"><div class=\"sk-estimator sk-toggleable\"><input class=\"sk-toggleable__control sk-hidden--visually\" id=\"sk-estimator-id-4\" type=\"checkbox\" ><label for=\"sk-estimator-id-4\" class=\"sk-toggleable__label sk-toggleable__label-arrow\">LinearRegression</label><div class=\"sk-toggleable__content\"><pre>LinearRegression()</pre></div></div></div></div></div></div></div></div></div></div></div></div></div></div></div>"
      ],
      "text/plain": [
       "GridSearchCV(cv=KFold(n_splits=5, random_state=100, shuffle=True),\n",
       "             estimator=RFE(estimator=LinearRegression()),\n",
       "             param_grid=[{'n_features_to_select': [1, 2, 3, 4, 5, 6, 7, 8, 9,\n",
       "                                                   10, 11]}],\n",
       "             return_train_score=True, scoring='r2', verbose=1)"
      ]
     },
     "execution_count": 627,
     "metadata": {},
     "output_type": "execute_result"
    }
   ],
   "source": [
    "folds = KFold(n_splits = 5, shuffle = True, random_state = 100)\n",
    "\n",
    "\n",
    "hyper_params = [{'n_features_to_select': list(range(1, 12))}]\n",
    "\n",
    "\n",
    "lm = LinearRegression()\n",
    "lm.fit(X_train, y_train)\n",
    "rfe = RFE(lm)             \n",
    "\n",
    "model_cv = GridSearchCV(estimator = rfe, \n",
    "                        param_grid = hyper_params, \n",
    "                        scoring= 'r2', \n",
    "                        cv = folds, \n",
    "                        verbose = 1,\n",
    "                        return_train_score=True)      \n",
    "\n",
    "model_cv.fit(X_train, y_train) "
   ]
  },
  {
   "cell_type": "code",
   "execution_count": 628,
   "id": "2addc429",
   "metadata": {},
   "outputs": [
    {
     "data": {
      "text/html": [
       "<div>\n",
       "<style scoped>\n",
       "    .dataframe tbody tr th:only-of-type {\n",
       "        vertical-align: middle;\n",
       "    }\n",
       "\n",
       "    .dataframe tbody tr th {\n",
       "        vertical-align: top;\n",
       "    }\n",
       "\n",
       "    .dataframe thead th {\n",
       "        text-align: right;\n",
       "    }\n",
       "</style>\n",
       "<table border=\"1\" class=\"dataframe\">\n",
       "  <thead>\n",
       "    <tr style=\"text-align: right;\">\n",
       "      <th></th>\n",
       "      <th>mean_fit_time</th>\n",
       "      <th>std_fit_time</th>\n",
       "      <th>mean_score_time</th>\n",
       "      <th>std_score_time</th>\n",
       "      <th>param_n_features_to_select</th>\n",
       "      <th>params</th>\n",
       "      <th>split0_test_score</th>\n",
       "      <th>split1_test_score</th>\n",
       "      <th>split2_test_score</th>\n",
       "      <th>split3_test_score</th>\n",
       "      <th>...</th>\n",
       "      <th>mean_test_score</th>\n",
       "      <th>std_test_score</th>\n",
       "      <th>rank_test_score</th>\n",
       "      <th>split0_train_score</th>\n",
       "      <th>split1_train_score</th>\n",
       "      <th>split2_train_score</th>\n",
       "      <th>split3_train_score</th>\n",
       "      <th>split4_train_score</th>\n",
       "      <th>mean_train_score</th>\n",
       "      <th>std_train_score</th>\n",
       "    </tr>\n",
       "  </thead>\n",
       "  <tbody>\n",
       "    <tr>\n",
       "      <th>0</th>\n",
       "      <td>0.014525</td>\n",
       "      <td>0.001772</td>\n",
       "      <td>0.000400</td>\n",
       "      <td>0.000490</td>\n",
       "      <td>1</td>\n",
       "      <td>{'n_features_to_select': 1}</td>\n",
       "      <td>0.482970</td>\n",
       "      <td>0.320613</td>\n",
       "      <td>0.449078</td>\n",
       "      <td>0.768075</td>\n",
       "      <td>...</td>\n",
       "      <td>0.506912</td>\n",
       "      <td>0.146205</td>\n",
       "      <td>11</td>\n",
       "      <td>0.619519</td>\n",
       "      <td>0.643320</td>\n",
       "      <td>0.567927</td>\n",
       "      <td>0.554093</td>\n",
       "      <td>0.610901</td>\n",
       "      <td>0.599152</td>\n",
       "      <td>0.033193</td>\n",
       "    </tr>\n",
       "    <tr>\n",
       "      <th>1</th>\n",
       "      <td>0.009966</td>\n",
       "      <td>0.000893</td>\n",
       "      <td>0.000199</td>\n",
       "      <td>0.000398</td>\n",
       "      <td>2</td>\n",
       "      <td>{'n_features_to_select': 2}</td>\n",
       "      <td>0.694695</td>\n",
       "      <td>0.542883</td>\n",
       "      <td>0.606223</td>\n",
       "      <td>0.904334</td>\n",
       "      <td>...</td>\n",
       "      <td>0.687917</td>\n",
       "      <td>0.122150</td>\n",
       "      <td>3</td>\n",
       "      <td>0.693718</td>\n",
       "      <td>0.748886</td>\n",
       "      <td>0.708050</td>\n",
       "      <td>0.646797</td>\n",
       "      <td>0.696982</td>\n",
       "      <td>0.698887</td>\n",
       "      <td>0.032642</td>\n",
       "    </tr>\n",
       "    <tr>\n",
       "      <th>2</th>\n",
       "      <td>0.008384</td>\n",
       "      <td>0.000496</td>\n",
       "      <td>0.000591</td>\n",
       "      <td>0.000483</td>\n",
       "      <td>3</td>\n",
       "      <td>{'n_features_to_select': 3}</td>\n",
       "      <td>0.677304</td>\n",
       "      <td>0.543488</td>\n",
       "      <td>0.577215</td>\n",
       "      <td>0.887029</td>\n",
       "      <td>...</td>\n",
       "      <td>0.674924</td>\n",
       "      <td>0.120026</td>\n",
       "      <td>10</td>\n",
       "      <td>0.697098</td>\n",
       "      <td>0.753856</td>\n",
       "      <td>0.717437</td>\n",
       "      <td>0.654140</td>\n",
       "      <td>0.701621</td>\n",
       "      <td>0.704830</td>\n",
       "      <td>0.032255</td>\n",
       "    </tr>\n",
       "    <tr>\n",
       "      <th>3</th>\n",
       "      <td>0.008179</td>\n",
       "      <td>0.000964</td>\n",
       "      <td>0.000399</td>\n",
       "      <td>0.000489</td>\n",
       "      <td>4</td>\n",
       "      <td>{'n_features_to_select': 4}</td>\n",
       "      <td>0.686540</td>\n",
       "      <td>0.563069</td>\n",
       "      <td>0.618159</td>\n",
       "      <td>0.882712</td>\n",
       "      <td>...</td>\n",
       "      <td>0.693159</td>\n",
       "      <td>0.108640</td>\n",
       "      <td>1</td>\n",
       "      <td>0.698695</td>\n",
       "      <td>0.766506</td>\n",
       "      <td>0.725926</td>\n",
       "      <td>0.671299</td>\n",
       "      <td>0.712606</td>\n",
       "      <td>0.715006</td>\n",
       "      <td>0.031476</td>\n",
       "    </tr>\n",
       "    <tr>\n",
       "      <th>4</th>\n",
       "      <td>0.007373</td>\n",
       "      <td>0.001358</td>\n",
       "      <td>0.000199</td>\n",
       "      <td>0.000398</td>\n",
       "      <td>5</td>\n",
       "      <td>{'n_features_to_select': 5}</td>\n",
       "      <td>0.686540</td>\n",
       "      <td>0.571834</td>\n",
       "      <td>0.602094</td>\n",
       "      <td>0.881003</td>\n",
       "      <td>...</td>\n",
       "      <td>0.688977</td>\n",
       "      <td>0.108037</td>\n",
       "      <td>2</td>\n",
       "      <td>0.698695</td>\n",
       "      <td>0.772385</td>\n",
       "      <td>0.728029</td>\n",
       "      <td>0.679364</td>\n",
       "      <td>0.722762</td>\n",
       "      <td>0.720247</td>\n",
       "      <td>0.031373</td>\n",
       "    </tr>\n",
       "    <tr>\n",
       "      <th>5</th>\n",
       "      <td>0.006166</td>\n",
       "      <td>0.000409</td>\n",
       "      <td>0.000000</td>\n",
       "      <td>0.000000</td>\n",
       "      <td>6</td>\n",
       "      <td>{'n_features_to_select': 6}</td>\n",
       "      <td>0.682047</td>\n",
       "      <td>0.553943</td>\n",
       "      <td>0.608456</td>\n",
       "      <td>0.867355</td>\n",
       "      <td>...</td>\n",
       "      <td>0.679125</td>\n",
       "      <td>0.105949</td>\n",
       "      <td>5</td>\n",
       "      <td>0.705277</td>\n",
       "      <td>0.777815</td>\n",
       "      <td>0.729779</td>\n",
       "      <td>0.683731</td>\n",
       "      <td>0.728138</td>\n",
       "      <td>0.724948</td>\n",
       "      <td>0.031351</td>\n",
       "    </tr>\n",
       "    <tr>\n",
       "      <th>6</th>\n",
       "      <td>0.005192</td>\n",
       "      <td>0.000381</td>\n",
       "      <td>0.000399</td>\n",
       "      <td>0.000488</td>\n",
       "      <td>7</td>\n",
       "      <td>{'n_features_to_select': 7}</td>\n",
       "      <td>0.686669</td>\n",
       "      <td>0.555888</td>\n",
       "      <td>0.609671</td>\n",
       "      <td>0.860302</td>\n",
       "      <td>...</td>\n",
       "      <td>0.677282</td>\n",
       "      <td>0.102863</td>\n",
       "      <td>9</td>\n",
       "      <td>0.707488</td>\n",
       "      <td>0.779730</td>\n",
       "      <td>0.730269</td>\n",
       "      <td>0.687812</td>\n",
       "      <td>0.732821</td>\n",
       "      <td>0.727624</td>\n",
       "      <td>0.030788</td>\n",
       "    </tr>\n",
       "    <tr>\n",
       "      <th>7</th>\n",
       "      <td>0.005307</td>\n",
       "      <td>0.001357</td>\n",
       "      <td>0.000797</td>\n",
       "      <td>0.000399</td>\n",
       "      <td>8</td>\n",
       "      <td>{'n_features_to_select': 8}</td>\n",
       "      <td>0.694274</td>\n",
       "      <td>0.557390</td>\n",
       "      <td>0.617473</td>\n",
       "      <td>0.859154</td>\n",
       "      <td>...</td>\n",
       "      <td>0.679124</td>\n",
       "      <td>0.101390</td>\n",
       "      <td>7</td>\n",
       "      <td>0.707900</td>\n",
       "      <td>0.780602</td>\n",
       "      <td>0.730649</td>\n",
       "      <td>0.689154</td>\n",
       "      <td>0.734845</td>\n",
       "      <td>0.728630</td>\n",
       "      <td>0.030763</td>\n",
       "    </tr>\n",
       "    <tr>\n",
       "      <th>8</th>\n",
       "      <td>0.003751</td>\n",
       "      <td>0.000700</td>\n",
       "      <td>0.000200</td>\n",
       "      <td>0.000400</td>\n",
       "      <td>9</td>\n",
       "      <td>{'n_features_to_select': 9}</td>\n",
       "      <td>0.694274</td>\n",
       "      <td>0.557390</td>\n",
       "      <td>0.617473</td>\n",
       "      <td>0.859154</td>\n",
       "      <td>...</td>\n",
       "      <td>0.679124</td>\n",
       "      <td>0.101390</td>\n",
       "      <td>6</td>\n",
       "      <td>0.707900</td>\n",
       "      <td>0.780602</td>\n",
       "      <td>0.730649</td>\n",
       "      <td>0.689154</td>\n",
       "      <td>0.734845</td>\n",
       "      <td>0.728630</td>\n",
       "      <td>0.030763</td>\n",
       "    </tr>\n",
       "    <tr>\n",
       "      <th>9</th>\n",
       "      <td>0.002589</td>\n",
       "      <td>0.000457</td>\n",
       "      <td>0.000402</td>\n",
       "      <td>0.000494</td>\n",
       "      <td>10</td>\n",
       "      <td>{'n_features_to_select': 10}</td>\n",
       "      <td>0.694274</td>\n",
       "      <td>0.557390</td>\n",
       "      <td>0.617473</td>\n",
       "      <td>0.859154</td>\n",
       "      <td>...</td>\n",
       "      <td>0.678850</td>\n",
       "      <td>0.101423</td>\n",
       "      <td>8</td>\n",
       "      <td>0.707900</td>\n",
       "      <td>0.780602</td>\n",
       "      <td>0.730649</td>\n",
       "      <td>0.689154</td>\n",
       "      <td>0.734956</td>\n",
       "      <td>0.728652</td>\n",
       "      <td>0.030768</td>\n",
       "    </tr>\n",
       "    <tr>\n",
       "      <th>10</th>\n",
       "      <td>0.002015</td>\n",
       "      <td>0.000044</td>\n",
       "      <td>0.000000</td>\n",
       "      <td>0.000000</td>\n",
       "      <td>11</td>\n",
       "      <td>{'n_features_to_select': 11}</td>\n",
       "      <td>0.730668</td>\n",
       "      <td>0.552414</td>\n",
       "      <td>0.617473</td>\n",
       "      <td>0.867366</td>\n",
       "      <td>...</td>\n",
       "      <td>0.686776</td>\n",
       "      <td>0.107544</td>\n",
       "      <td>4</td>\n",
       "      <td>0.712410</td>\n",
       "      <td>0.786212</td>\n",
       "      <td>0.730649</td>\n",
       "      <td>0.687843</td>\n",
       "      <td>0.734956</td>\n",
       "      <td>0.730414</td>\n",
       "      <td>0.032467</td>\n",
       "    </tr>\n",
       "  </tbody>\n",
       "</table>\n",
       "<p>11 rows × 21 columns</p>\n",
       "</div>"
      ],
      "text/plain": [
       "    mean_fit_time  std_fit_time  mean_score_time  std_score_time  \\\n",
       "0        0.014525      0.001772         0.000400        0.000490   \n",
       "1        0.009966      0.000893         0.000199        0.000398   \n",
       "2        0.008384      0.000496         0.000591        0.000483   \n",
       "3        0.008179      0.000964         0.000399        0.000489   \n",
       "4        0.007373      0.001358         0.000199        0.000398   \n",
       "5        0.006166      0.000409         0.000000        0.000000   \n",
       "6        0.005192      0.000381         0.000399        0.000488   \n",
       "7        0.005307      0.001357         0.000797        0.000399   \n",
       "8        0.003751      0.000700         0.000200        0.000400   \n",
       "9        0.002589      0.000457         0.000402        0.000494   \n",
       "10       0.002015      0.000044         0.000000        0.000000   \n",
       "\n",
       "   param_n_features_to_select                        params  \\\n",
       "0                           1   {'n_features_to_select': 1}   \n",
       "1                           2   {'n_features_to_select': 2}   \n",
       "2                           3   {'n_features_to_select': 3}   \n",
       "3                           4   {'n_features_to_select': 4}   \n",
       "4                           5   {'n_features_to_select': 5}   \n",
       "5                           6   {'n_features_to_select': 6}   \n",
       "6                           7   {'n_features_to_select': 7}   \n",
       "7                           8   {'n_features_to_select': 8}   \n",
       "8                           9   {'n_features_to_select': 9}   \n",
       "9                          10  {'n_features_to_select': 10}   \n",
       "10                         11  {'n_features_to_select': 11}   \n",
       "\n",
       "    split0_test_score  split1_test_score  split2_test_score  \\\n",
       "0            0.482970           0.320613           0.449078   \n",
       "1            0.694695           0.542883           0.606223   \n",
       "2            0.677304           0.543488           0.577215   \n",
       "3            0.686540           0.563069           0.618159   \n",
       "4            0.686540           0.571834           0.602094   \n",
       "5            0.682047           0.553943           0.608456   \n",
       "6            0.686669           0.555888           0.609671   \n",
       "7            0.694274           0.557390           0.617473   \n",
       "8            0.694274           0.557390           0.617473   \n",
       "9            0.694274           0.557390           0.617473   \n",
       "10           0.730668           0.552414           0.617473   \n",
       "\n",
       "    split3_test_score  ...  mean_test_score  std_test_score  rank_test_score  \\\n",
       "0            0.768075  ...         0.506912        0.146205               11   \n",
       "1            0.904334  ...         0.687917        0.122150                3   \n",
       "2            0.887029  ...         0.674924        0.120026               10   \n",
       "3            0.882712  ...         0.693159        0.108640                1   \n",
       "4            0.881003  ...         0.688977        0.108037                2   \n",
       "5            0.867355  ...         0.679125        0.105949                5   \n",
       "6            0.860302  ...         0.677282        0.102863                9   \n",
       "7            0.859154  ...         0.679124        0.101390                7   \n",
       "8            0.859154  ...         0.679124        0.101390                6   \n",
       "9            0.859154  ...         0.678850        0.101423                8   \n",
       "10           0.867366  ...         0.686776        0.107544                4   \n",
       "\n",
       "    split0_train_score  split1_train_score  split2_train_score  \\\n",
       "0             0.619519            0.643320            0.567927   \n",
       "1             0.693718            0.748886            0.708050   \n",
       "2             0.697098            0.753856            0.717437   \n",
       "3             0.698695            0.766506            0.725926   \n",
       "4             0.698695            0.772385            0.728029   \n",
       "5             0.705277            0.777815            0.729779   \n",
       "6             0.707488            0.779730            0.730269   \n",
       "7             0.707900            0.780602            0.730649   \n",
       "8             0.707900            0.780602            0.730649   \n",
       "9             0.707900            0.780602            0.730649   \n",
       "10            0.712410            0.786212            0.730649   \n",
       "\n",
       "    split3_train_score  split4_train_score  mean_train_score  std_train_score  \n",
       "0             0.554093            0.610901          0.599152         0.033193  \n",
       "1             0.646797            0.696982          0.698887         0.032642  \n",
       "2             0.654140            0.701621          0.704830         0.032255  \n",
       "3             0.671299            0.712606          0.715006         0.031476  \n",
       "4             0.679364            0.722762          0.720247         0.031373  \n",
       "5             0.683731            0.728138          0.724948         0.031351  \n",
       "6             0.687812            0.732821          0.727624         0.030788  \n",
       "7             0.689154            0.734845          0.728630         0.030763  \n",
       "8             0.689154            0.734845          0.728630         0.030763  \n",
       "9             0.689154            0.734956          0.728652         0.030768  \n",
       "10            0.687843            0.734956          0.730414         0.032467  \n",
       "\n",
       "[11 rows x 21 columns]"
      ]
     },
     "execution_count": 628,
     "metadata": {},
     "output_type": "execute_result"
    }
   ],
   "source": [
    "cv_results = pd.DataFrame(model_cv.cv_results_)\n",
    "cv_results"
   ]
  },
  {
   "cell_type": "code",
   "execution_count": 634,
   "id": "85afa641",
   "metadata": {},
   "outputs": [
    {
     "data": {
      "image/png": "[encoded data removed]",
      "text/plain": [
       "<Figure size 1600x600 with 1 Axes>"
      ]
     },
     "metadata": {},
     "output_type": "display_data"
    }
   ],
   "source": [
    "plt.figure(figsize=(16,6))\n",
    "\n",
    "plt.plot(cv_results[\"param_n_features_to_select\"], cv_results[\"mean_test_score\"])\n",
    "plt.plot(cv_results[\"param_n_features_to_select\"], cv_results[\"mean_train_score\"])\n",
    "# plt.xlabel('number of features')\n",
    "# plt.ylabel('r-squared')\n",
    "plt.title(\"Optimal Number of Features\")\n",
    "plt.legend(['test score', 'train score'], loc='upper left')\n",
    "plt.show()"
   ]
  },
  {
   "cell_type": "markdown",
   "id": "9e42f257",
   "metadata": {},
   "source": [
    "https://statisticsbyjim.com/regression/interpret-r-squared-regression/\n",
    "\n",
    "R-squared evaluates the scatter of the data points around the fitted regression line. It is also called the coefficient of determination, or the coefficient of multiple determination for multiple regression. For the same data set, higher R-squared values represent smaller differences between the observed data and the fitted values.\n",
    "\n",
    "R-squared is the percentage of the dependent variable variation that a linear model explains.\n",
    "\n",
    "R-squared is always between 0 and 100%:\n",
    "\n",
    "0% represents a model that does not explain any of the variation in the response variable around its mean. The mean of the dependent variable predicts the dependent variable as well as the regression model.\n",
    "100% represents a model that explains all the variation in the response variable around its mean.\n",
    "Usually, the larger the R2, the better the regression model fits your observations. "
   ]
  },
  {
   "cell_type": "code",
   "execution_count": 642,
   "id": "ce27abcf",
   "metadata": {},
   "outputs": [
    {
     "name": "stdout",
     "output_type": "stream",
     "text": [
      "0.7945090397865213\n"
     ]
    }
   ],
   "source": [
    "n_features_optimal = 11\n",
    "\n",
    "lm = LinearRegression()\n",
    "lm.fit(X_train, y_train)\n",
    "\n",
    "rfe = RFE(lm, n_features_to_select=n_features_optimal)             \n",
    "rfe = rfe.fit(X_train, y_train)\n",
    "\n",
    "y_pred = lm.predict(X_test)\n",
    "r2 = r2_score(y_test, y_pred)\n",
    "print(r2)"
   ]
  },
  {
   "cell_type": "markdown",
   "id": "6fd1d41a",
   "metadata": {},
   "source": [
    "The final value 0.79 is quite good result in interval <0,1> ."
   ]
  },
  {
   "cell_type": "code",
   "execution_count": 645,
   "id": "02038cb2",
   "metadata": {},
   "outputs": [
    {
     "data": {
      "text/html": [
       "<div>\n",
       "<style scoped>\n",
       "    .dataframe tbody tr th:only-of-type {\n",
       "        vertical-align: middle;\n",
       "    }\n",
       "\n",
       "    .dataframe tbody tr th {\n",
       "        vertical-align: top;\n",
       "    }\n",
       "\n",
       "    .dataframe thead th {\n",
       "        text-align: right;\n",
       "    }\n",
       "</style>\n",
       "<table border=\"1\" class=\"dataframe\">\n",
       "  <thead>\n",
       "    <tr style=\"text-align: right;\">\n",
       "      <th></th>\n",
       "      <th>Age</th>\n",
       "      <th>Education</th>\n",
       "      <th>Usage</th>\n",
       "      <th>Fitness</th>\n",
       "      <th>Income</th>\n",
       "      <th>Miles</th>\n",
       "      <th>Product_TM195</th>\n",
       "      <th>Product_TM498</th>\n",
       "      <th>Product_TM798</th>\n",
       "      <th>Gender_Female</th>\n",
       "      <th>Gender_Male</th>\n",
       "      <th>MaritalStatus_Partnered</th>\n",
       "      <th>MaritalStatus_Single</th>\n",
       "    </tr>\n",
       "  </thead>\n",
       "  <tbody>\n",
       "    <tr>\n",
       "      <th>0</th>\n",
       "      <td>18</td>\n",
       "      <td>14</td>\n",
       "      <td>3</td>\n",
       "      <td>4</td>\n",
       "      <td>29562</td>\n",
       "      <td>112</td>\n",
       "      <td>1</td>\n",
       "      <td>0</td>\n",
       "      <td>0</td>\n",
       "      <td>0</td>\n",
       "      <td>1</td>\n",
       "      <td>0</td>\n",
       "      <td>1</td>\n",
       "    </tr>\n",
       "    <tr>\n",
       "      <th>1</th>\n",
       "      <td>19</td>\n",
       "      <td>15</td>\n",
       "      <td>2</td>\n",
       "      <td>3</td>\n",
       "      <td>31836</td>\n",
       "      <td>75</td>\n",
       "      <td>1</td>\n",
       "      <td>0</td>\n",
       "      <td>0</td>\n",
       "      <td>0</td>\n",
       "      <td>1</td>\n",
       "      <td>0</td>\n",
       "      <td>1</td>\n",
       "    </tr>\n",
       "    <tr>\n",
       "      <th>2</th>\n",
       "      <td>19</td>\n",
       "      <td>14</td>\n",
       "      <td>4</td>\n",
       "      <td>3</td>\n",
       "      <td>30699</td>\n",
       "      <td>66</td>\n",
       "      <td>1</td>\n",
       "      <td>0</td>\n",
       "      <td>0</td>\n",
       "      <td>1</td>\n",
       "      <td>0</td>\n",
       "      <td>1</td>\n",
       "      <td>0</td>\n",
       "    </tr>\n",
       "    <tr>\n",
       "      <th>3</th>\n",
       "      <td>19</td>\n",
       "      <td>12</td>\n",
       "      <td>3</td>\n",
       "      <td>3</td>\n",
       "      <td>32973</td>\n",
       "      <td>85</td>\n",
       "      <td>1</td>\n",
       "      <td>0</td>\n",
       "      <td>0</td>\n",
       "      <td>0</td>\n",
       "      <td>1</td>\n",
       "      <td>0</td>\n",
       "      <td>1</td>\n",
       "    </tr>\n",
       "    <tr>\n",
       "      <th>4</th>\n",
       "      <td>20</td>\n",
       "      <td>13</td>\n",
       "      <td>4</td>\n",
       "      <td>2</td>\n",
       "      <td>35247</td>\n",
       "      <td>47</td>\n",
       "      <td>1</td>\n",
       "      <td>0</td>\n",
       "      <td>0</td>\n",
       "      <td>0</td>\n",
       "      <td>1</td>\n",
       "      <td>1</td>\n",
       "      <td>0</td>\n",
       "    </tr>\n",
       "  </tbody>\n",
       "</table>\n",
       "</div>"
      ],
      "text/plain": [
       "   Age  Education  Usage  Fitness  Income  Miles  Product_TM195  \\\n",
       "0   18         14      3        4   29562    112              1   \n",
       "1   19         15      2        3   31836     75              1   \n",
       "2   19         14      4        3   30699     66              1   \n",
       "3   19         12      3        3   32973     85              1   \n",
       "4   20         13      4        2   35247     47              1   \n",
       "\n",
       "   Product_TM498  Product_TM798  Gender_Female  Gender_Male  \\\n",
       "0              0              0              0            1   \n",
       "1              0              0              0            1   \n",
       "2              0              0              1            0   \n",
       "3              0              0              0            1   \n",
       "4              0              0              0            1   \n",
       "\n",
       "   MaritalStatus_Partnered  MaritalStatus_Single  \n",
       "0                        0                     1  \n",
       "1                        0                     1  \n",
       "2                        1                     0  \n",
       "3                        0                     1  \n",
       "4                        1                     0  "
      ]
     },
     "execution_count": 645,
     "metadata": {},
     "output_type": "execute_result"
    }
   ],
   "source": [
    "df_ML.head()"
   ]
  },
  {
   "cell_type": "markdown",
   "id": "ac9bcb2d",
   "metadata": {},
   "source": [
    "## Prediction of real case"
   ]
  },
  {
   "cell_type": "code",
   "execution_count": 884,
   "id": "1764376c",
   "metadata": {},
   "outputs": [
    {
     "data": {
      "text/html": [
       "<div>\n",
       "<style scoped>\n",
       "    .dataframe tbody tr th:only-of-type {\n",
       "        vertical-align: middle;\n",
       "    }\n",
       "\n",
       "    .dataframe tbody tr th {\n",
       "        vertical-align: top;\n",
       "    }\n",
       "\n",
       "    .dataframe thead th {\n",
       "        text-align: right;\n",
       "    }\n",
       "</style>\n",
       "<table border=\"1\" class=\"dataframe\">\n",
       "  <thead>\n",
       "    <tr style=\"text-align: right;\">\n",
       "      <th></th>\n",
       "      <th>Age</th>\n",
       "      <th>Education</th>\n",
       "      <th>Usage</th>\n",
       "      <th>Fitness</th>\n",
       "      <th>Income</th>\n",
       "      <th>Miles</th>\n",
       "      <th>Product_TM195</th>\n",
       "      <th>Product_TM498</th>\n",
       "      <th>Product_TM798</th>\n",
       "      <th>Gender_Female</th>\n",
       "      <th>Gender_Male</th>\n",
       "      <th>MaritalStatus_Partnered</th>\n",
       "      <th>MaritalStatus_Single</th>\n",
       "    </tr>\n",
       "  </thead>\n",
       "  <tbody>\n",
       "    <tr>\n",
       "      <th>0</th>\n",
       "      <td>20</td>\n",
       "      <td>15</td>\n",
       "      <td>0</td>\n",
       "      <td>2</td>\n",
       "      <td>30000</td>\n",
       "      <td>0</td>\n",
       "      <td>0</td>\n",
       "      <td>0</td>\n",
       "      <td>0</td>\n",
       "      <td>0</td>\n",
       "      <td>1</td>\n",
       "      <td>0</td>\n",
       "      <td>1</td>\n",
       "    </tr>\n",
       "  </tbody>\n",
       "</table>\n",
       "</div>"
      ],
      "text/plain": [
       "   Age  Education  Usage  Fitness  Income  Miles  Product_TM195  \\\n",
       "0   20         15      0        2   30000      0              0   \n",
       "\n",
       "   Product_TM498  Product_TM798  Gender_Female  Gender_Male  \\\n",
       "0              0              0              0            1   \n",
       "\n",
       "   MaritalStatus_Partnered  MaritalStatus_Single  \n",
       "0                        0                     1  "
      ]
     },
     "execution_count": 884,
     "metadata": {},
     "output_type": "execute_result"
    }
   ],
   "source": [
    "values_to_predict = {'Age': 20,\n",
    "                    'Education': 15,\n",
    "                    'Usage': 0,\n",
    "                    'Fitness': 2,\n",
    "                    'Income': 30000,\n",
    "                    'Miles':0,            # put here only in order to respect already fitted scaler, to be removed!\n",
    "                    'Product_TM195': 0,\n",
    "                    'Product_TM498': 0,\n",
    "                    'Product_TM798': 0,\n",
    "                    'Gender_Female': 0,\n",
    "                    'Gender_Male': 1,\n",
    "                    'MaritalStatus_Partnered': 0,\n",
    "                    'MaritalStatus_Single': 1}\n",
    "\n",
    "\n",
    "df_predict = pd.DataFrame([values_to_predict])\n",
    "\n",
    "df_predict.head()"
   ]
  },
  {
   "cell_type": "code",
   "execution_count": 885,
   "id": "719cf197",
   "metadata": {},
   "outputs": [
    {
     "data": {
      "text/html": [
       "<div>\n",
       "<style scoped>\n",
       "    .dataframe tbody tr th:only-of-type {\n",
       "        vertical-align: middle;\n",
       "    }\n",
       "\n",
       "    .dataframe tbody tr th {\n",
       "        vertical-align: top;\n",
       "    }\n",
       "\n",
       "    .dataframe thead th {\n",
       "        text-align: right;\n",
       "    }\n",
       "</style>\n",
       "<table border=\"1\" class=\"dataframe\">\n",
       "  <thead>\n",
       "    <tr style=\"text-align: right;\">\n",
       "      <th></th>\n",
       "      <th>Age</th>\n",
       "      <th>Education</th>\n",
       "      <th>Usage</th>\n",
       "      <th>Fitness</th>\n",
       "      <th>Income</th>\n",
       "      <th>Miles</th>\n",
       "    </tr>\n",
       "  </thead>\n",
       "  <tbody>\n",
       "    <tr>\n",
       "      <th>0</th>\n",
       "      <td>0.0625</td>\n",
       "      <td>0.333333</td>\n",
       "      <td>-0.4</td>\n",
       "      <td>0.25</td>\n",
       "      <td>0.005839</td>\n",
       "      <td>-0.061947</td>\n",
       "    </tr>\n",
       "  </tbody>\n",
       "</table>\n",
       "</div>"
      ],
      "text/plain": [
       "      Age  Education  Usage  Fitness    Income     Miles\n",
       "0  0.0625   0.333333   -0.4     0.25  0.005839 -0.061947"
      ]
     },
     "execution_count": 885,
     "metadata": {},
     "output_type": "execute_result"
    }
   ],
   "source": [
    "numeric_predict = ['Age', \"Education\", 'Usage', 'Fitness', 'Income', 'Miles']\n",
    "\n",
    "df_predict[numeric_predict] = scaler.transform(df_predict[numeric_predict])\n",
    "df_predict[numeric_predict].head()"
   ]
  },
  {
   "cell_type": "code",
   "execution_count": 886,
   "id": "02fafcd7",
   "metadata": {},
   "outputs": [
    {
     "data": {
      "text/plain": [
       "0   -0.061947\n",
       "Name: Miles, dtype: float64"
      ]
     },
     "execution_count": 886,
     "metadata": {},
     "output_type": "execute_result"
    }
   ],
   "source": [
    "df_predict.pop('Miles')"
   ]
  },
  {
   "cell_type": "code",
   "execution_count": 887,
   "id": "7f0913d8",
   "metadata": {},
   "outputs": [
    {
     "data": {
      "text/html": [
       "<div>\n",
       "<style scoped>\n",
       "    .dataframe tbody tr th:only-of-type {\n",
       "        vertical-align: middle;\n",
       "    }\n",
       "\n",
       "    .dataframe tbody tr th {\n",
       "        vertical-align: top;\n",
       "    }\n",
       "\n",
       "    .dataframe thead th {\n",
       "        text-align: right;\n",
       "    }\n",
       "</style>\n",
       "<table border=\"1\" class=\"dataframe\">\n",
       "  <thead>\n",
       "    <tr style=\"text-align: right;\">\n",
       "      <th></th>\n",
       "      <th>Age</th>\n",
       "      <th>Education</th>\n",
       "      <th>Usage</th>\n",
       "      <th>Fitness</th>\n",
       "      <th>Income</th>\n",
       "      <th>Product_TM195</th>\n",
       "      <th>Product_TM498</th>\n",
       "      <th>Product_TM798</th>\n",
       "      <th>Gender_Female</th>\n",
       "      <th>Gender_Male</th>\n",
       "      <th>MaritalStatus_Partnered</th>\n",
       "      <th>MaritalStatus_Single</th>\n",
       "    </tr>\n",
       "  </thead>\n",
       "  <tbody>\n",
       "    <tr>\n",
       "      <th>0</th>\n",
       "      <td>0.0625</td>\n",
       "      <td>0.333333</td>\n",
       "      <td>-0.4</td>\n",
       "      <td>0.25</td>\n",
       "      <td>0.005839</td>\n",
       "      <td>0</td>\n",
       "      <td>0</td>\n",
       "      <td>0</td>\n",
       "      <td>0</td>\n",
       "      <td>1</td>\n",
       "      <td>0</td>\n",
       "      <td>1</td>\n",
       "    </tr>\n",
       "  </tbody>\n",
       "</table>\n",
       "</div>"
      ],
      "text/plain": [
       "      Age  Education  Usage  Fitness    Income  Product_TM195  Product_TM498  \\\n",
       "0  0.0625   0.333333   -0.4     0.25  0.005839              0              0   \n",
       "\n",
       "   Product_TM798  Gender_Female  Gender_Male  MaritalStatus_Partnered  \\\n",
       "0              0              0            1                        0   \n",
       "\n",
       "   MaritalStatus_Single  \n",
       "0                     1  "
      ]
     },
     "execution_count": 887,
     "metadata": {},
     "output_type": "execute_result"
    }
   ],
   "source": [
    "df_predict.head()"
   ]
  },
  {
   "cell_type": "code",
   "execution_count": 888,
   "id": "c10005a7",
   "metadata": {
    "scrolled": true
   },
   "outputs": [],
   "source": [
    "df_predict = np.array(df_predict)\n",
    "predicted = lm.predict(df_predict)"
   ]
  },
  {
   "cell_type": "code",
   "execution_count": 889,
   "id": "ef828967",
   "metadata": {},
   "outputs": [
    {
     "data": {
      "text/plain": [
       "array([-0.09018594])"
      ]
     },
     "execution_count": 889,
     "metadata": {},
     "output_type": "execute_result"
    }
   ],
   "source": [
    "predicted       # scaled value to be unscaled by means of inverse_transform"
   ]
  },
  {
   "cell_type": "code",
   "execution_count": 890,
   "id": "68d51e5b",
   "metadata": {},
   "outputs": [],
   "source": [
    "unscale = {'Age': 0,\n",
    "                    'Education': 0,\n",
    "                    'Usage': 0,\n",
    "                    'Fitness': 0,\n",
    "                    'Income': 0,\n",
    "                    'Miles': predicted,            # put here only in order to respect already fitted scaler, to be removed!\n",
    "                    'Product_TM195': 0,\n",
    "                    'Product_TM498': 0,\n",
    "                    'Product_TM798': 0,\n",
    "                    'Gender_Female': 0,\n",
    "                    'Gender_Male': 0,\n",
    "                    'MaritalStatus_Partnered': 0,\n",
    "                    'MaritalStatus_Single': 0}\n",
    "\n",
    "numeric_unscale = ['Age', \"Education\", 'Usage', 'Fitness', 'Income', 'Miles']"
   ]
  },
  {
   "cell_type": "code",
   "execution_count": 891,
   "id": "096ec443",
   "metadata": {},
   "outputs": [],
   "source": [
    "df_unscale = pd.DataFrame([unscale])"
   ]
  },
  {
   "cell_type": "code",
   "execution_count": 892,
   "id": "1928f9e3",
   "metadata": {
    "scrolled": true
   },
   "outputs": [],
   "source": [
    "miles_predicted = scaler.inverse_transform(df_unscale[numeric_unscale])"
   ]
  },
  {
   "cell_type": "code",
   "execution_count": 893,
   "id": "979d5205",
   "metadata": {},
   "outputs": [
    {
     "name": "stdout",
     "output_type": "stream",
     "text": [
      "Based on given assumptions, the expected volume of running is around 0 miles a month.\n"
     ]
    }
   ],
   "source": [
    "if int(miles_predicted[0][5]) > 0 :\n",
    "    print(f'Based on given assumptions, the expected volume of running is {miles_predicted[0][5]:.02f} miles a month.')\n",
    "else:\n",
    "    print(f'Based on given assumptions, the expected volume of running is around 0 miles a month.')"
   ]
  },
  {
   "cell_type": "code",
   "execution_count": null,
   "id": "e1dfc710",
   "metadata": {},
   "outputs": [],
   "source": []
  }
 ],
 "metadata": {
  "kernelspec": {
   "display_name": "Python 3 (ipykernel)",
   "language": "python",
   "name": "python3"
  },
  "language_info": {
   "codemirror_mode": {
    "name": "ipython",
    "version": 3
   },
   "file_extension": ".py",
   "mimetype": "text/x-python",
   "name": "python",
   "nbconvert_exporter": "python",
   "pygments_lexer": "ipython3",
   "version": "3.9.13"
  }
 },
 "nbformat": 4,
 "nbformat_minor": 5
}
